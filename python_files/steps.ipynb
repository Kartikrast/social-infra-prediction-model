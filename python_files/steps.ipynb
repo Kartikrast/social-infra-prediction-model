{
 "cells": [
  {
   "cell_type": "markdown",
   "metadata": {
    "id": "vncDsAP0Gaoa"
   },
   "source": [
    "# **Project Name**    - \n",
    "\n"
   ]
  },
  {
   "cell_type": "markdown",
   "metadata": {
    "id": "beRrZCGUAJYm"
   },
   "source": [
    "##### **Project Type**    - EDA\n",
    "##### **Contribution**    - Individual"
   ]
  },
  {
   "cell_type": "markdown",
   "metadata": {
    "id": "FJNUwmbgGyua"
   },
   "source": [
    "# **Project Summary -**"
   ]
  },
  {
   "cell_type": "markdown",
   "metadata": {
    "id": "F6v_1wHtG2nS"
   },
   "source": [
    "Write the summary here within 500-600 words."
   ]
  },
  {
   "cell_type": "markdown",
   "metadata": {
    "id": "w6K7xa23Elo4"
   },
   "source": [
    "# **GitHub Link -**"
   ]
  },
  {
   "cell_type": "markdown",
   "metadata": {
    "id": "h1o69JH3Eqqn"
   },
   "source": [
    "https://github.com/Kartikrast/social-infra-prediction-model"
   ]
  },
  {
   "cell_type": "markdown",
   "metadata": {
    "id": "yQaldy8SH6Dl"
   },
   "source": [
    "# **Problem Statement**\n"
   ]
  },
  {
   "cell_type": "markdown",
   "metadata": {
    "id": "DpeJGUA3kjGy"
   },
   "source": [
    "**Write Problem Statement Here.**"
   ]
  },
  {
   "cell_type": "markdown",
   "metadata": {
    "id": "mDgbUHAGgjLW"
   },
   "source": [
    "# **General Guidelines** : -  "
   ]
  },
  {
   "cell_type": "markdown",
   "metadata": {
    "id": "ZrxVaUj-hHfC"
   },
   "source": [
    "1.   Well-structured, formatted, and commented code is required. \n",
    "2.   Exception Handling, Production Grade Code & Deployment Ready Code will be a plus. Those students will be awarded some additional credits. \n",
    "     \n",
    "     The additional credits will have advantages over other students during Star Student selection.\n",
    "       \n",
    "             [ Note: - Deployment Ready Code is defined as, the whole .ipynb notebook should be executable in one go\n",
    "                       without a single error logged. ]\n",
    "\n",
    "3.   Each and every logic should have proper comments.\n",
    "4. You may add as many number of charts you want. Make Sure for each and every chart the following format should be answered.\n",
    "        \n",
    "\n",
    "```\n",
    "# Chart visualization code\n",
    "```\n",
    "            \n",
    "\n",
    "*   Why did you pick the specific chart?\n",
    "*   What is/are the insight(s) found from the chart?\n",
    "* Will the gained insights help creating a positive business impact? \n",
    "Are there any insights that lead to negative growth? Justify with specific reason.\n",
    "\n",
    "5. You have to create at least 15 logical & meaningful charts having important insights.\n",
    "\n",
    "\n",
    "[ Hints : - Do the Vizualization in  a structured way while following \"UBM\" Rule. \n",
    "\n",
    "U - Univariate Analysis,\n",
    "\n",
    "B - Bivariate Analysis (Numerical - Categorical, Numerical - Numerical, Categorical - Categorical)\n",
    "\n",
    "M - Multivariate Analysis\n",
    " ]\n",
    "\n",
    "\n",
    "\n",
    "\n",
    "\n",
    "6. You may add more ml algorithms for model creation. Make sure for each and every algorithm, the following format should be answered.\n",
    "\n",
    "\n",
    "*   Explain the ML Model used and it's performance using Evaluation metric Score Chart.\n",
    "\n",
    "\n",
    "*   Cross- Validation & Hyperparameter Tuning\n",
    "\n",
    "*   Have you seen any improvement? Note down the improvement with updates Evaluation metric Score Chart.\n",
    "\n",
    "*   Explain each evaluation metric's indication towards business and the business impact pf the ML model used.\n",
    "\n",
    "\n",
    "\n",
    "\n",
    "\n",
    "\n",
    "\n",
    "\n",
    "\n",
    "\n",
    "\n",
    "\n",
    "\n",
    "\n",
    "\n",
    "\n",
    "\n",
    "\n"
   ]
  },
  {
   "cell_type": "markdown",
   "metadata": {
    "id": "O_i_v8NEhb9l"
   },
   "source": [
    "# ***Let's Begin !***"
   ]
  },
  {
   "cell_type": "markdown",
   "metadata": {
    "id": "HhfV-JJviCcP"
   },
   "source": [
    "## ***1. Know Your Data***"
   ]
  },
  {
   "cell_type": "markdown",
   "metadata": {
    "id": "Y3lxredqlCYt"
   },
   "source": [
    "### Import Libraries"
   ]
  },
  {
   "cell_type": "code",
   "execution_count": 47,
   "metadata": {
    "id": "M8Vqi-pPk-HR"
   },
   "outputs": [],
   "source": [
    "# Import Libraries\n",
    "import pandas as pd\n",
    "import numpy as np\n",
    "import matplotlib.pyplot as plt\n",
    "import seaborn as sns\n",
    "from scipy.stats import zscore\n",
    "pd.set_option('display.max_columns', None)\n",
    "pd.set_option('display.max_rows', None)"
   ]
  },
  {
   "cell_type": "markdown",
   "metadata": {
    "id": "3RnN4peoiCZX"
   },
   "source": [
    "### Dataset Loading"
   ]
  },
  {
   "cell_type": "code",
   "execution_count": 2,
   "metadata": {
    "id": "4CkvbW_SlZ_R"
   },
   "outputs": [],
   "source": [
    "# Load Dataset\n",
    "df = pd.read_excel(r'C:\\Users\\hp\\OneDrive\\Documents\\Code Playground\\Prash Project\\excel_files\\samarqand_student_data 1.xlsx')"
   ]
  },
  {
   "cell_type": "markdown",
   "metadata": {
    "id": "x71ZqKXriCWQ"
   },
   "source": [
    "### Dataset First View"
   ]
  },
  {
   "cell_type": "code",
   "execution_count": 3,
   "metadata": {
    "id": "LWNFOSvLl09H"
   },
   "outputs": [
    {
     "data": {
      "text/html": [
       "<div>\n",
       "<style scoped>\n",
       "    .dataframe tbody tr th:only-of-type {\n",
       "        vertical-align: middle;\n",
       "    }\n",
       "\n",
       "    .dataframe tbody tr th {\n",
       "        vertical-align: top;\n",
       "    }\n",
       "\n",
       "    .dataframe thead th {\n",
       "        text-align: right;\n",
       "    }\n",
       "</style>\n",
       "<table border=\"1\" class=\"dataframe\">\n",
       "  <thead>\n",
       "    <tr style=\"text-align: right;\">\n",
       "      <th></th>\n",
       "      <th>id</th>\n",
       "      <th>Region name</th>\n",
       "      <th>District name</th>\n",
       "      <th>School name</th>\n",
       "      <th>Elementary (Grades 1-4)</th>\n",
       "      <th>Enter the year the building was constructed</th>\n",
       "      <th>If completed, enter the year</th>\n",
       "      <th>Total design capacity of the school (student capacity – enter the number of student places according to the approved construction project or passport)</th>\n",
       "      <th>Number of shifts (1, 2, or 3)</th>\n",
       "      <th>Between grades 1-4</th>\n",
       "      <th>Between grades 5-9</th>\n",
       "      <th>Between grades 10-11</th>\n",
       "      <th>Available vacant land area on the school premises for the construction of an additional academic building</th>\n",
       "      <th>Number of academic buildings (do not include branch campuses, if any)</th>\n",
       "      <th>Number of floors:</th>\n",
       "      <th>Enter the type of wall material:</th>\n",
       "      <th>Condition of the building walls</th>\n",
       "      <th>Building foundations</th>\n",
       "      <th>Condition of the concrete slabs (ceiling) between floors</th>\n",
       "      <th>Enter the type of roofing material of the building</th>\n",
       "      <th>Condition of the building roof</th>\n",
       "      <th>Condition of windows and frames in classrooms</th>\n",
       "      <th>Condition of the floors in classrooms</th>\n",
       "      <th>Condition of the doors in classrooms</th>\n",
       "      <th>Is the condition of the library satisfactory?</th>\n",
       "      <th>Condition of the gymnasium</th>\n",
       "      <th>Condition of the stadium</th>\n",
       "      <th>Availability of sports equipment in accordance with standards (balls, benches, ropes, mats, dumbbells, rings, sticks, chess, etc.)</th>\n",
       "      <th>Condition of the assembly hall</th>\n",
       "      <th>Condition of the kitchen</th>\n",
       "      <th>Availability of drinking water and handwashing facilities in the kitchen</th>\n",
       "      <th>Condition of electricity supply throughout the day</th>\n",
       "      <th>Is there a generator in the school?</th>\n",
       "      <th>Are there solar panels in the school (above 10 kW)</th>\n",
       "      <th>Condition of the internal electrical system</th>\n",
       "      <th>Condition of the lighting system</th>\n",
       "      <th>Source of the heating system</th>\n",
       "      <th>Fuel source for local or improvised heating systems</th>\n",
       "      <th>Condition of the school boiler room</th>\n",
       "      <th>Condition of the internal heating system (pipes and radiators)</th>\n",
       "      <th>Availability of water in the school</th>\n",
       "      <th>Source of drinking water supply</th>\n",
       "      <th>Are there concrete/asphalt pathways between buildings and outdoor restrooms?</th>\n",
       "      <th>Is the school perimeter fenced with a boundary wall?</th>\n",
       "      <th>Type of internet connection</th>\n",
       "      <th>Internet usage</th>\n",
       "      <th>Availability of fire safety equipment (fire extinguishers and other devices) and alarm systems</th>\n",
       "      <th>Availability of video surveillance cameras</th>\n",
       "      <th>Availability of public transport stops nearby</th>\n",
       "      <th>Facilities for students with musculoskeletal disorders:</th>\n",
       "      <th>Does the school have a branch?</th>\n",
       "      <th>Have any repair or reconstruction works been carried out in the building?</th>\n",
       "      <th>Total</th>\n",
       "      <th>Boys</th>\n",
       "      <th>Girls</th>\n",
       "      <th>Uzbek</th>\n",
       "      <th>Karakalpak</th>\n",
       "      <th>Russian</th>\n",
       "      <th>Tajik</th>\n",
       "      <th>Kazakh</th>\n",
       "      <th>Kyrgyz</th>\n",
       "      <th>Turkmen</th>\n",
       "      <th>Do you consider the building safe during an earthquake?</th>\n",
       "      <th>Number of floors:.1</th>\n",
       "      <th>Enter the type of wall material of the building:</th>\n",
       "      <th>Condition of the building walls.1</th>\n",
       "      <th>Building foundations.1</th>\n",
       "      <th>Condition of the concrete slabs (ceiling) between floors.1</th>\n",
       "      <th>Do you consider the building safe during an earthquake?.1</th>\n",
       "      <th>Enter the type of roofing material of the building:</th>\n",
       "      <th>Condition of the building roof.1</th>\n",
       "      <th>Condition of windows and frames in classrooms.1</th>\n",
       "      <th>Condition of the floors in classrooms.1</th>\n",
       "      <th>Condition of the doors in classrooms.1</th>\n",
       "      <th>Number of floors:.2</th>\n",
       "      <th>Enter the type of wall material of the building:.1</th>\n",
       "      <th>Condition of the building walls.2</th>\n",
       "      <th>Building foundations.2</th>\n",
       "      <th>Condition of the concrete slabs (ceiling) between floors.2</th>\n",
       "      <th>Do you consider the building safe during an earthquake?.2</th>\n",
       "      <th>Enter the type of roofing material of the building.1</th>\n",
       "      <th>Condition of the building roof.2</th>\n",
       "      <th>Condition of windows and frames in classrooms.2</th>\n",
       "      <th>Condition of the floors in classrooms.2</th>\n",
       "      <th>Condition of the doors in classrooms.2</th>\n",
       "      <th>Where is the functioning restroom located in the school?</th>\n",
       "      <th>Condition of water supply inside the restrooms</th>\n",
       "      <th>Is the restroom connected to the central sewage system?</th>\n",
       "      <th>Total.1</th>\n",
       "      <th>Men</th>\n",
       "      <th>Women</th>\n",
       "      <th>Availability of doors and partitions in restroom stalls</th>\n",
       "      <th>Availability of water and soap for handwashing near restrooms</th>\n",
       "      <th>Do you think the restroom is safe for children?</th>\n",
       "      <th>Do you think there is a connection between the condition of restrooms and students' willingness to attend school?</th>\n",
       "      <th>Are there any issues connecting the indoor restrooms to the sewage system?</th>\n",
       "      <th>Are there any issues connecting the indoor restrooms to the water supply system?</th>\n",
       "      <th>Are there lights inside the restrooms, and are they safe for children?</th>\n",
       "      <th>Is the pathway to the restroom illuminated and safe for children?</th>\n",
       "      <th>Conditions for dining</th>\n",
       "      <th>Do you think the classrooms are warm during the autumn-winter season?</th>\n",
       "      <th>Does the school building have a water pipeline, and does water flow through it?</th>\n",
       "      <th>(QUESTION MAINLY FOR RURAL SCHOOLS) Are children in your microdistrict forced to walk more than 3 km one way to reach the school?</th>\n",
       "      <th>Do you think your school's infrastructure meets modern educational requirements?</th>\n",
       "      <th>Are you satisfied with the condition of your school?</th>\n",
       "      <th>What material are the walls of the outdoor restroom made of?</th>\n",
       "      <th>What is the condition of the outdoor restroom?</th>\n",
       "      <th>What is the condition of the standard (project-based) restroom?</th>\n",
       "      <th>What is the condition of the adapted (community-built, sponsored, stone, wood, or adobe) restroom?</th>\n",
       "    </tr>\n",
       "  </thead>\n",
       "  <tbody>\n",
       "    <tr>\n",
       "      <th>0</th>\n",
       "      <td>1</td>\n",
       "      <td>Samarkand region</td>\n",
       "      <td>Bulungur district</td>\n",
       "      <td>1-sonli ixtisoslashtirilgan davlat umumta’lim ...</td>\n",
       "      <td>secondary (grades 1-11)</td>\n",
       "      <td>1987</td>\n",
       "      <td>2006.0</td>\n",
       "      <td>903</td>\n",
       "      <td>2</td>\n",
       "      <td>31</td>\n",
       "      <td>31</td>\n",
       "      <td>19</td>\n",
       "      <td>10.0</td>\n",
       "      <td>1</td>\n",
       "      <td>NaN</td>\n",
       "      <td>brick</td>\n",
       "      <td>In satisfactory condition (no cracks, other fl...</td>\n",
       "      <td>NaN</td>\n",
       "      <td>NaN</td>\n",
       "      <td>profnastyle</td>\n",
       "      <td>Satisfactory (no cracks or other defects) - no...</td>\n",
       "      <td>Satisfactory (almost all frames are adequate, ...</td>\n",
       "      <td>Partially in need of repair (floors in some cl...</td>\n",
       "      <td>Partially in need of repair (some doors do not...</td>\n",
       "      <td>yes</td>\n",
       "      <td>Partially in need of repair (floor or its cove...</td>\n",
       "      <td>Partially in need of repair (the surface layer...</td>\n",
       "      <td>Almost everything is available</td>\n",
       "      <td>Partially in need of repair (some seats have d...</td>\n",
       "      <td>Partially in need of repair (floor and walls, ...</td>\n",
       "      <td>Completely absent</td>\n",
       "      <td>It hardly turns off during the day</td>\n",
       "      <td>Not available</td>\n",
       "      <td>Available, providing energy to the school</td>\n",
       "      <td>Needs complete replacement (wires are disconne...</td>\n",
       "      <td>Partially modern lighting installed (some LED ...</td>\n",
       "      <td>Local (the heating boiler is located within th...</td>\n",
       "      <td>Coal</td>\n",
       "      <td>Operational</td>\n",
       "      <td>Needs repair or replacement (some or all pipes...</td>\n",
       "      <td>Available and safe to drink</td>\n",
       "      <td>Centralized (supplied through pipes from outsi...</td>\n",
       "      <td>Available</td>\n",
       "      <td>Fully fenced</td>\n",
       "      <td>By fiber optic or wired cable</td>\n",
       "      <td>Used within the scope of lessons</td>\n",
       "      <td>Available</td>\n",
       "      <td>Available both in the yard and inside the buil...</td>\n",
       "      <td>Available, approximately 500 meters away</td>\n",
       "      <td>Available</td>\n",
       "      <td>Not available</td>\n",
       "      <td>Yes, current maintenance</td>\n",
       "      <td>1383</td>\n",
       "      <td>714</td>\n",
       "      <td>669</td>\n",
       "      <td>Uzbek</td>\n",
       "      <td>NaN</td>\n",
       "      <td>NaN</td>\n",
       "      <td>NaN</td>\n",
       "      <td>NaN</td>\n",
       "      <td>NaN</td>\n",
       "      <td>NaN</td>\n",
       "      <td>Yes, safe</td>\n",
       "      <td>NaN</td>\n",
       "      <td>NaN</td>\n",
       "      <td>NaN</td>\n",
       "      <td>NaN</td>\n",
       "      <td>NaN</td>\n",
       "      <td>NaN</td>\n",
       "      <td>NaN</td>\n",
       "      <td>NaN</td>\n",
       "      <td>NaN</td>\n",
       "      <td>NaN</td>\n",
       "      <td>NaN</td>\n",
       "      <td>NaN</td>\n",
       "      <td>NaN</td>\n",
       "      <td>NaN</td>\n",
       "      <td>NaN</td>\n",
       "      <td>NaN</td>\n",
       "      <td>NaN</td>\n",
       "      <td>NaN</td>\n",
       "      <td>NaN</td>\n",
       "      <td>NaN</td>\n",
       "      <td>NaN</td>\n",
       "      <td>NaN</td>\n",
       "      <td>In the yard</td>\n",
       "      <td>Yes, there is water available only for handwas...</td>\n",
       "      <td>There is a septic tank (special) in the school...</td>\n",
       "      <td>10.0</td>\n",
       "      <td>5</td>\n",
       "      <td>5</td>\n",
       "      <td>There are barriers, but there are no separate ...</td>\n",
       "      <td>Available</td>\n",
       "      <td>Yes, safe</td>\n",
       "      <td>No</td>\n",
       "      <td>There are no restrooms inside the building</td>\n",
       "      <td>There are no restrooms inside the building</td>\n",
       "      <td>Yes</td>\n",
       "      <td>No</td>\n",
       "      <td>There is a kitchen available for preparing hot...</td>\n",
       "      <td>Yes, hot</td>\n",
       "      <td>No, there is neither water nor pipes</td>\n",
       "      <td>My school is located in the city</td>\n",
       "      <td>yes</td>\n",
       "      <td>I am satisfied</td>\n",
       "      <td>Stone</td>\n",
       "      <td>Standard (constructed based on a design)</td>\n",
       "      <td>Repaired - satisfactory</td>\n",
       "      <td>NaN</td>\n",
       "    </tr>\n",
       "    <tr>\n",
       "      <th>1</th>\n",
       "      <td>2</td>\n",
       "      <td>Samarkand region</td>\n",
       "      <td>Bulungur district</td>\n",
       "      <td>10-sonli umumiy o'rta ta'lim maktabi</td>\n",
       "      <td>secondary (grades 1-11)</td>\n",
       "      <td>2015</td>\n",
       "      <td>2019.0</td>\n",
       "      <td>350</td>\n",
       "      <td>2</td>\n",
       "      <td>24</td>\n",
       "      <td>26</td>\n",
       "      <td>21</td>\n",
       "      <td>10.0</td>\n",
       "      <td>2</td>\n",
       "      <td>NaN</td>\n",
       "      <td>brick</td>\n",
       "      <td>In satisfactory condition (no cracks, other fl...</td>\n",
       "      <td>NaN</td>\n",
       "      <td>NaN</td>\n",
       "      <td>profnastyle</td>\n",
       "      <td>Satisfactory (no cracks or other defects) - no...</td>\n",
       "      <td>Satisfactory (almost all frames are adequate, ...</td>\n",
       "      <td>Satisfactory (almost all floors are intact) – ...</td>\n",
       "      <td>Satisfactory (almost all doors are present, in...</td>\n",
       "      <td>yes</td>\n",
       "      <td>Satisfactory (the floor is not rotten, its cov...</td>\n",
       "      <td>Satisfactory (the surface layer is even, with ...</td>\n",
       "      <td>Almost everything is available</td>\n",
       "      <td>Completely absent</td>\n",
       "      <td>There is no cafeteria at all</td>\n",
       "      <td>Completely absent</td>\n",
       "      <td>It hardly turns off during the day</td>\n",
       "      <td>Not available</td>\n",
       "      <td>Not available</td>\n",
       "      <td>Satisfactory (wires, switches, circuit breaker...</td>\n",
       "      <td>Satisfactory (fully modern LED lighting instal...</td>\n",
       "      <td>Local (the heating boiler is located within th...</td>\n",
       "      <td>Coal</td>\n",
       "      <td>Operational</td>\n",
       "      <td>Operational (all pipes and radiators are in go...</td>\n",
       "      <td>Available and safe to drink</td>\n",
       "      <td>Local (a well/artesian source or water tower i...</td>\n",
       "      <td>Available</td>\n",
       "      <td>Partially available</td>\n",
       "      <td>By fiber optic or wired cable</td>\n",
       "      <td>Used within the scope of lessons</td>\n",
       "      <td>Available</td>\n",
       "      <td>Available both in the yard and inside the buil...</td>\n",
       "      <td>Available, approximately 500 meters away</td>\n",
       "      <td>Available</td>\n",
       "      <td>Not available</td>\n",
       "      <td>Yes, reconstruction</td>\n",
       "      <td>564</td>\n",
       "      <td>296</td>\n",
       "      <td>268</td>\n",
       "      <td>Uzbek</td>\n",
       "      <td>NaN</td>\n",
       "      <td>NaN</td>\n",
       "      <td>NaN</td>\n",
       "      <td>NaN</td>\n",
       "      <td>NaN</td>\n",
       "      <td>NaN</td>\n",
       "      <td>Yes, safe</td>\n",
       "      <td>NaN</td>\n",
       "      <td>brick</td>\n",
       "      <td>In satisfactory condition (no cracks, defects,...</td>\n",
       "      <td>NaN</td>\n",
       "      <td>NaN</td>\n",
       "      <td>Yes, safe</td>\n",
       "      <td>profnastyle</td>\n",
       "      <td>Satisfactory (no cracks or other defects) - no...</td>\n",
       "      <td>Satisfactory (almost all frames are adequate, ...</td>\n",
       "      <td>Satisfactory (almost all floors are intact) – ...</td>\n",
       "      <td>Satisfactory (almost all doors are present, in...</td>\n",
       "      <td>NaN</td>\n",
       "      <td>NaN</td>\n",
       "      <td>NaN</td>\n",
       "      <td>NaN</td>\n",
       "      <td>NaN</td>\n",
       "      <td>NaN</td>\n",
       "      <td>NaN</td>\n",
       "      <td>NaN</td>\n",
       "      <td>NaN</td>\n",
       "      <td>NaN</td>\n",
       "      <td>NaN</td>\n",
       "      <td>In the yard</td>\n",
       "      <td>Yes, there is water available only for handwas...</td>\n",
       "      <td>There is a septic tank (special) in the school...</td>\n",
       "      <td>6.0</td>\n",
       "      <td>3</td>\n",
       "      <td>3</td>\n",
       "      <td>Available</td>\n",
       "      <td>Available</td>\n",
       "      <td>Yes, safe</td>\n",
       "      <td>No</td>\n",
       "      <td>There are no restrooms inside the building</td>\n",
       "      <td>There are no restrooms inside the building</td>\n",
       "      <td>Yes</td>\n",
       "      <td>Yes</td>\n",
       "      <td>There is neither a cafeteria nor a kitchen</td>\n",
       "      <td>Yes, hot</td>\n",
       "      <td>No, there is neither water nor pipes</td>\n",
       "      <td>Yes, not many (around 20%)</td>\n",
       "      <td>yes</td>\n",
       "      <td>I am satisfied</td>\n",
       "      <td>Baked brick</td>\n",
       "      <td>Standard (constructed based on a design)</td>\n",
       "      <td>Repaired - satisfactory</td>\n",
       "      <td>NaN</td>\n",
       "    </tr>\n",
       "    <tr>\n",
       "      <th>2</th>\n",
       "      <td>3</td>\n",
       "      <td>Samarkand region</td>\n",
       "      <td>Bulungur district</td>\n",
       "      <td>11-sonli umumiy o'rta ta'lim maktabi</td>\n",
       "      <td>secondary (grades 1-11)</td>\n",
       "      <td>2001</td>\n",
       "      <td>2014.0</td>\n",
       "      <td>530</td>\n",
       "      <td>2</td>\n",
       "      <td>25</td>\n",
       "      <td>25</td>\n",
       "      <td>25</td>\n",
       "      <td>20.0</td>\n",
       "      <td>2</td>\n",
       "      <td>NaN</td>\n",
       "      <td>brick</td>\n",
       "      <td>In satisfactory condition (no cracks, other fl...</td>\n",
       "      <td>NaN</td>\n",
       "      <td>NaN</td>\n",
       "      <td>slate</td>\n",
       "      <td>Satisfactory (no cracks or other defects) - no...</td>\n",
       "      <td>Satisfactory (almost all frames are adequate, ...</td>\n",
       "      <td>Satisfactory (almost all floors are intact) – ...</td>\n",
       "      <td>Satisfactory (almost all doors are present, in...</td>\n",
       "      <td>yes</td>\n",
       "      <td>Satisfactory (the floor is not rotten, its cov...</td>\n",
       "      <td>Satisfactory (the surface layer is even, with ...</td>\n",
       "      <td>Almost everything is available</td>\n",
       "      <td>Completely absent</td>\n",
       "      <td>There is no cafeteria at all</td>\n",
       "      <td>Completely absent</td>\n",
       "      <td>It turns off at certain times during the day (...</td>\n",
       "      <td>Available</td>\n",
       "      <td>Not available</td>\n",
       "      <td>Satisfactory (wires, switches, circuit breaker...</td>\n",
       "      <td>Satisfactory (fully modern LED lighting instal...</td>\n",
       "      <td>Local (the heating boiler is located within th...</td>\n",
       "      <td>Coal</td>\n",
       "      <td>Operational</td>\n",
       "      <td>Needs repair or replacement (some or all pipes...</td>\n",
       "      <td>Available and safe to drink</td>\n",
       "      <td>Local (a well/artesian source or water tower i...</td>\n",
       "      <td>Available</td>\n",
       "      <td>Partially available</td>\n",
       "      <td>By fiber optic or wired cable</td>\n",
       "      <td>Used within the scope of lessons</td>\n",
       "      <td>Available</td>\n",
       "      <td>Available both in the yard and inside the buil...</td>\n",
       "      <td>Available, approximately 200 meters away</td>\n",
       "      <td>Available</td>\n",
       "      <td>Not available</td>\n",
       "      <td>Yes, reconstruction</td>\n",
       "      <td>865</td>\n",
       "      <td>465</td>\n",
       "      <td>400</td>\n",
       "      <td>Uzbek</td>\n",
       "      <td>NaN</td>\n",
       "      <td>NaN</td>\n",
       "      <td>NaN</td>\n",
       "      <td>NaN</td>\n",
       "      <td>NaN</td>\n",
       "      <td>NaN</td>\n",
       "      <td>Yes, safe</td>\n",
       "      <td>NaN</td>\n",
       "      <td>brick</td>\n",
       "      <td>In satisfactory condition (no cracks, defects,...</td>\n",
       "      <td>NaN</td>\n",
       "      <td>NaN</td>\n",
       "      <td>Yes, safe</td>\n",
       "      <td>slate</td>\n",
       "      <td>Satisfactory (no cracks or other defects) - no...</td>\n",
       "      <td>Satisfactory (almost all frames are adequate, ...</td>\n",
       "      <td>Satisfactory (almost all floors are intact) – ...</td>\n",
       "      <td>Satisfactory (almost all doors are present, in...</td>\n",
       "      <td>NaN</td>\n",
       "      <td>NaN</td>\n",
       "      <td>NaN</td>\n",
       "      <td>NaN</td>\n",
       "      <td>NaN</td>\n",
       "      <td>NaN</td>\n",
       "      <td>NaN</td>\n",
       "      <td>NaN</td>\n",
       "      <td>NaN</td>\n",
       "      <td>NaN</td>\n",
       "      <td>NaN</td>\n",
       "      <td>In the yard</td>\n",
       "      <td>Yes, there is water available only for handwas...</td>\n",
       "      <td>There is a septic tank (special) in the school...</td>\n",
       "      <td>12.0</td>\n",
       "      <td>6</td>\n",
       "      <td>6</td>\n",
       "      <td>There are barriers, but there are no separate ...</td>\n",
       "      <td>Available</td>\n",
       "      <td>Yes, safe</td>\n",
       "      <td>No</td>\n",
       "      <td>There are no restrooms inside the building</td>\n",
       "      <td>There are no restrooms inside the building</td>\n",
       "      <td>Yes</td>\n",
       "      <td>No</td>\n",
       "      <td>Only a cafeteria is available (there are no fa...</td>\n",
       "      <td>Yes, hot</td>\n",
       "      <td>No, there is neither water nor pipes</td>\n",
       "      <td>There is no such problem</td>\n",
       "      <td>yes</td>\n",
       "      <td>I am satisfied</td>\n",
       "      <td>Baked brick</td>\n",
       "      <td>Standard (constructed based on a design)</td>\n",
       "      <td>Repaired - satisfactory</td>\n",
       "      <td>NaN</td>\n",
       "    </tr>\n",
       "    <tr>\n",
       "      <th>3</th>\n",
       "      <td>4</td>\n",
       "      <td>Samarkand region</td>\n",
       "      <td>Bulungur district</td>\n",
       "      <td>12-sonli umumiy o'rta ta'lim maktabi</td>\n",
       "      <td>secondary (grades 1-11)</td>\n",
       "      <td>1980</td>\n",
       "      <td>2024.0</td>\n",
       "      <td>440</td>\n",
       "      <td>2</td>\n",
       "      <td>30</td>\n",
       "      <td>26</td>\n",
       "      <td>20</td>\n",
       "      <td>10.0</td>\n",
       "      <td>2</td>\n",
       "      <td>NaN</td>\n",
       "      <td>brick</td>\n",
       "      <td>In satisfactory condition (no cracks, other fl...</td>\n",
       "      <td>NaN</td>\n",
       "      <td>NaN</td>\n",
       "      <td>profnastyle</td>\n",
       "      <td>Satisfactory (no cracks or other defects) - no...</td>\n",
       "      <td>Partial repair required (some frames do not op...</td>\n",
       "      <td>Partially in need of repair (floors in some cl...</td>\n",
       "      <td>Satisfactory (almost all doors are present, in...</td>\n",
       "      <td>yes</td>\n",
       "      <td>Satisfactory (the floor is not rotten, its cov...</td>\n",
       "      <td>Satisfactory (the surface layer is even, with ...</td>\n",
       "      <td>Almost everything is available</td>\n",
       "      <td>Completely absent</td>\n",
       "      <td>There is no cafeteria at all</td>\n",
       "      <td>Completely absent</td>\n",
       "      <td>It hardly turns off during the day</td>\n",
       "      <td>Available</td>\n",
       "      <td>Available, providing energy to the school</td>\n",
       "      <td>Satisfactory (wires, switches, circuit breaker...</td>\n",
       "      <td>Satisfactory (fully modern LED lighting instal...</td>\n",
       "      <td>Local (the heating boiler is located within th...</td>\n",
       "      <td>Coal</td>\n",
       "      <td>Operational</td>\n",
       "      <td>Operational (all pipes and radiators are in go...</td>\n",
       "      <td>Available and safe to drink</td>\n",
       "      <td>Centralized (supplied through pipes from outsi...</td>\n",
       "      <td>Available</td>\n",
       "      <td>Partially available</td>\n",
       "      <td>By fiber optic or wired cable</td>\n",
       "      <td>Used within the scope of lessons</td>\n",
       "      <td>Available</td>\n",
       "      <td>Available both in the yard and inside the buil...</td>\n",
       "      <td>Available, approximately 200 meters away</td>\n",
       "      <td>Available</td>\n",
       "      <td>Not available</td>\n",
       "      <td>Yes, reconstruction</td>\n",
       "      <td>610</td>\n",
       "      <td>310</td>\n",
       "      <td>300</td>\n",
       "      <td>Uzbek</td>\n",
       "      <td>NaN</td>\n",
       "      <td>NaN</td>\n",
       "      <td>NaN</td>\n",
       "      <td>NaN</td>\n",
       "      <td>NaN</td>\n",
       "      <td>NaN</td>\n",
       "      <td>Yes, safe</td>\n",
       "      <td>NaN</td>\n",
       "      <td>brick</td>\n",
       "      <td>In satisfactory condition (no cracks, defects,...</td>\n",
       "      <td>NaN</td>\n",
       "      <td>NaN</td>\n",
       "      <td>Yes, safe</td>\n",
       "      <td>profnastyle</td>\n",
       "      <td>Satisfactory (no cracks or other defects) - no...</td>\n",
       "      <td>Satisfactory (almost all frames are adequate, ...</td>\n",
       "      <td>Satisfactory (almost all floors are intact) – ...</td>\n",
       "      <td>Satisfactory (almost all doors are present, in...</td>\n",
       "      <td>NaN</td>\n",
       "      <td>NaN</td>\n",
       "      <td>NaN</td>\n",
       "      <td>NaN</td>\n",
       "      <td>NaN</td>\n",
       "      <td>NaN</td>\n",
       "      <td>NaN</td>\n",
       "      <td>NaN</td>\n",
       "      <td>NaN</td>\n",
       "      <td>NaN</td>\n",
       "      <td>NaN</td>\n",
       "      <td>In the yard</td>\n",
       "      <td>Yes, there is water available only for handwas...</td>\n",
       "      <td>There is no sewage system at all</td>\n",
       "      <td>8.0</td>\n",
       "      <td>4</td>\n",
       "      <td>4</td>\n",
       "      <td>Available</td>\n",
       "      <td>Water is available, but there is no soap</td>\n",
       "      <td>Yes, safe</td>\n",
       "      <td>No</td>\n",
       "      <td>There are no restrooms inside the building</td>\n",
       "      <td>There are no restrooms inside the building</td>\n",
       "      <td>Yes</td>\n",
       "      <td>Yes</td>\n",
       "      <td>Only a cafeteria is available (there are no fa...</td>\n",
       "      <td>Yes, hot</td>\n",
       "      <td>No, there is neither water nor pipes</td>\n",
       "      <td>Yes, not many (around 20%)</td>\n",
       "      <td>yes</td>\n",
       "      <td>I am satisfied</td>\n",
       "      <td>Baked brick</td>\n",
       "      <td>Standard (constructed based on a design)</td>\n",
       "      <td>Repaired - satisfactory</td>\n",
       "      <td>NaN</td>\n",
       "    </tr>\n",
       "    <tr>\n",
       "      <th>4</th>\n",
       "      <td>5</td>\n",
       "      <td>Samarkand region</td>\n",
       "      <td>Bulungur district</td>\n",
       "      <td>13-сонли умумий ўрта таълим мактаби</td>\n",
       "      <td>secondary (grades 1-11)</td>\n",
       "      <td>2005</td>\n",
       "      <td>NaN</td>\n",
       "      <td>840</td>\n",
       "      <td>2</td>\n",
       "      <td>30</td>\n",
       "      <td>30</td>\n",
       "      <td>30</td>\n",
       "      <td>5.0</td>\n",
       "      <td>2</td>\n",
       "      <td>NaN</td>\n",
       "      <td>brick</td>\n",
       "      <td>In satisfactory condition (no cracks, other fl...</td>\n",
       "      <td>NaN</td>\n",
       "      <td>NaN</td>\n",
       "      <td>slate</td>\n",
       "      <td>Satisfactory (no cracks or other defects) - no...</td>\n",
       "      <td>Satisfactory (almost all frames are adequate, ...</td>\n",
       "      <td>Satisfactory (almost all floors are intact) – ...</td>\n",
       "      <td>Satisfactory (almost all doors are present, in...</td>\n",
       "      <td>yes</td>\n",
       "      <td>Satisfactory (the floor is not rotten, its cov...</td>\n",
       "      <td>Satisfactory (the surface layer is even, with ...</td>\n",
       "      <td>Almost everything is available</td>\n",
       "      <td>Completely absent</td>\n",
       "      <td>There is no cafeteria at all</td>\n",
       "      <td>Completely absent</td>\n",
       "      <td>It turns off at certain times during the day (...</td>\n",
       "      <td>Available</td>\n",
       "      <td>Not available</td>\n",
       "      <td>Satisfactory (wires, switches, circuit breaker...</td>\n",
       "      <td>Satisfactory (fully modern LED lighting instal...</td>\n",
       "      <td>Local (the heating boiler is located within th...</td>\n",
       "      <td>Coal</td>\n",
       "      <td>Operational</td>\n",
       "      <td>Operational (all pipes and radiators are in go...</td>\n",
       "      <td>Available and safe to drink</td>\n",
       "      <td>Centralized (supplied through pipes from outsi...</td>\n",
       "      <td>Available</td>\n",
       "      <td>Partially available</td>\n",
       "      <td>By fiber optic or wired cable</td>\n",
       "      <td>Used within the scope of lessons</td>\n",
       "      <td>Available</td>\n",
       "      <td>Cameras are installed but not functioning</td>\n",
       "      <td>Available, approximately 200 meters away</td>\n",
       "      <td>Available</td>\n",
       "      <td>Not available</td>\n",
       "      <td>Not avaible</td>\n",
       "      <td>1156</td>\n",
       "      <td>720</td>\n",
       "      <td>436</td>\n",
       "      <td>Uzbek</td>\n",
       "      <td>NaN</td>\n",
       "      <td>NaN</td>\n",
       "      <td>NaN</td>\n",
       "      <td>NaN</td>\n",
       "      <td>NaN</td>\n",
       "      <td>NaN</td>\n",
       "      <td>Yes, safe</td>\n",
       "      <td>NaN</td>\n",
       "      <td>brick</td>\n",
       "      <td>In satisfactory condition (no cracks, defects,...</td>\n",
       "      <td>NaN</td>\n",
       "      <td>NaN</td>\n",
       "      <td>Yes, safe</td>\n",
       "      <td>slate</td>\n",
       "      <td>Satisfactory (no cracks or other defects) - no...</td>\n",
       "      <td>Satisfactory (almost all frames are adequate, ...</td>\n",
       "      <td>Satisfactory (almost all floors are intact) – ...</td>\n",
       "      <td>Satisfactory (almost all doors are present, in...</td>\n",
       "      <td>NaN</td>\n",
       "      <td>NaN</td>\n",
       "      <td>NaN</td>\n",
       "      <td>NaN</td>\n",
       "      <td>NaN</td>\n",
       "      <td>NaN</td>\n",
       "      <td>NaN</td>\n",
       "      <td>NaN</td>\n",
       "      <td>NaN</td>\n",
       "      <td>NaN</td>\n",
       "      <td>NaN</td>\n",
       "      <td>In the yard</td>\n",
       "      <td>Yes, there is water available only for handwas...</td>\n",
       "      <td>There is a septic tank (special) in the school...</td>\n",
       "      <td>8.0</td>\n",
       "      <td>4</td>\n",
       "      <td>4</td>\n",
       "      <td>Available</td>\n",
       "      <td>Available</td>\n",
       "      <td>Yes, safe</td>\n",
       "      <td>No</td>\n",
       "      <td>There are no restrooms inside the building</td>\n",
       "      <td>There are no restrooms inside the building</td>\n",
       "      <td>Yes</td>\n",
       "      <td>Yes</td>\n",
       "      <td>There is neither a cafeteria nor a kitchen</td>\n",
       "      <td>Yes, hot</td>\n",
       "      <td>No, there is neither water nor pipes</td>\n",
       "      <td>Yes, not many (around 20%)</td>\n",
       "      <td>yes</td>\n",
       "      <td>I am satisfied</td>\n",
       "      <td>Baked brick</td>\n",
       "      <td>Standard (constructed based on a design)</td>\n",
       "      <td>Repaired - satisfactory</td>\n",
       "      <td>NaN</td>\n",
       "    </tr>\n",
       "  </tbody>\n",
       "</table>\n",
       "</div>"
      ],
      "text/plain": [
       "   id       Region name      District name  \\\n",
       "0   1  Samarkand region  Bulungur district   \n",
       "1   2  Samarkand region  Bulungur district   \n",
       "2   3  Samarkand region  Bulungur district   \n",
       "3   4  Samarkand region  Bulungur district   \n",
       "4   5  Samarkand region  Bulungur district   \n",
       "\n",
       "                                         School name  Elementary (Grades 1-4)  \\\n",
       "0  1-sonli ixtisoslashtirilgan davlat umumta’lim ...  secondary (grades 1-11)   \n",
       "1               10-sonli umumiy o'rta ta'lim maktabi  secondary (grades 1-11)   \n",
       "2               11-sonli umumiy o'rta ta'lim maktabi  secondary (grades 1-11)   \n",
       "3               12-sonli umumiy o'rta ta'lim maktabi  secondary (grades 1-11)   \n",
       "4                13-сонли умумий ўрта таълим мактаби  secondary (grades 1-11)   \n",
       "\n",
       "   Enter the year the building was constructed  If completed, enter the year  \\\n",
       "0                                         1987                        2006.0   \n",
       "1                                         2015                        2019.0   \n",
       "2                                         2001                        2014.0   \n",
       "3                                         1980                        2024.0   \n",
       "4                                         2005                           NaN   \n",
       "\n",
       "   Total design capacity of the school (student capacity – enter the number of student places according to the approved construction project or passport)  \\\n",
       "0                                                903                                                                                                        \n",
       "1                                                350                                                                                                        \n",
       "2                                                530                                                                                                        \n",
       "3                                                440                                                                                                        \n",
       "4                                                840                                                                                                        \n",
       "\n",
       "   Number of shifts (1, 2, or 3)  Between grades 1-4  Between grades 5-9  \\\n",
       "0                              2                  31                  31   \n",
       "1                              2                  24                  26   \n",
       "2                              2                  25                  25   \n",
       "3                              2                  30                  26   \n",
       "4                              2                  30                  30   \n",
       "\n",
       "   Between grades 10-11  \\\n",
       "0                    19   \n",
       "1                    21   \n",
       "2                    25   \n",
       "3                    20   \n",
       "4                    30   \n",
       "\n",
       "   Available vacant land area on the school premises for the construction of an additional academic building  \\\n",
       "0                                               10.0                                                           \n",
       "1                                               10.0                                                           \n",
       "2                                               20.0                                                           \n",
       "3                                               10.0                                                           \n",
       "4                                                5.0                                                           \n",
       "\n",
       "   Number of academic buildings (do not include branch campuses, if any)  \\\n",
       "0                                                  1                       \n",
       "1                                                  2                       \n",
       "2                                                  2                       \n",
       "3                                                  2                       \n",
       "4                                                  2                       \n",
       "\n",
       "   Number of floors: Enter the type of wall material:  \\\n",
       "0                NaN                            brick   \n",
       "1                NaN                            brick   \n",
       "2                NaN                            brick   \n",
       "3                NaN                            brick   \n",
       "4                NaN                            brick   \n",
       "\n",
       "                     Condition of the building walls  Building foundations  \\\n",
       "0  In satisfactory condition (no cracks, other fl...                   NaN   \n",
       "1  In satisfactory condition (no cracks, other fl...                   NaN   \n",
       "2  In satisfactory condition (no cracks, other fl...                   NaN   \n",
       "3  In satisfactory condition (no cracks, other fl...                   NaN   \n",
       "4  In satisfactory condition (no cracks, other fl...                   NaN   \n",
       "\n",
       "   Condition of the concrete slabs (ceiling) between floors  \\\n",
       "0                                                NaN          \n",
       "1                                                NaN          \n",
       "2                                                NaN          \n",
       "3                                                NaN          \n",
       "4                                                NaN          \n",
       "\n",
       "  Enter the type of roofing material of the building  \\\n",
       "0                                        profnastyle   \n",
       "1                                        profnastyle   \n",
       "2                                              slate   \n",
       "3                                        profnastyle   \n",
       "4                                              slate   \n",
       "\n",
       "                      Condition of the building roof  \\\n",
       "0  Satisfactory (no cracks or other defects) - no...   \n",
       "1  Satisfactory (no cracks or other defects) - no...   \n",
       "2  Satisfactory (no cracks or other defects) - no...   \n",
       "3  Satisfactory (no cracks or other defects) - no...   \n",
       "4  Satisfactory (no cracks or other defects) - no...   \n",
       "\n",
       "       Condition of windows and frames in classrooms  \\\n",
       "0  Satisfactory (almost all frames are adequate, ...   \n",
       "1  Satisfactory (almost all frames are adequate, ...   \n",
       "2  Satisfactory (almost all frames are adequate, ...   \n",
       "3  Partial repair required (some frames do not op...   \n",
       "4  Satisfactory (almost all frames are adequate, ...   \n",
       "\n",
       "               Condition of the floors in classrooms  \\\n",
       "0  Partially in need of repair (floors in some cl...   \n",
       "1  Satisfactory (almost all floors are intact) – ...   \n",
       "2  Satisfactory (almost all floors are intact) – ...   \n",
       "3  Partially in need of repair (floors in some cl...   \n",
       "4  Satisfactory (almost all floors are intact) – ...   \n",
       "\n",
       "                Condition of the doors in classrooms  \\\n",
       "0  Partially in need of repair (some doors do not...   \n",
       "1  Satisfactory (almost all doors are present, in...   \n",
       "2  Satisfactory (almost all doors are present, in...   \n",
       "3  Satisfactory (almost all doors are present, in...   \n",
       "4  Satisfactory (almost all doors are present, in...   \n",
       "\n",
       "  Is the condition of the library satisfactory?  \\\n",
       "0                                           yes   \n",
       "1                                           yes   \n",
       "2                                           yes   \n",
       "3                                           yes   \n",
       "4                                           yes   \n",
       "\n",
       "                          Condition of the gymnasium  \\\n",
       "0  Partially in need of repair (floor or its cove...   \n",
       "1  Satisfactory (the floor is not rotten, its cov...   \n",
       "2  Satisfactory (the floor is not rotten, its cov...   \n",
       "3  Satisfactory (the floor is not rotten, its cov...   \n",
       "4  Satisfactory (the floor is not rotten, its cov...   \n",
       "\n",
       "                            Condition of the stadium  \\\n",
       "0  Partially in need of repair (the surface layer...   \n",
       "1  Satisfactory (the surface layer is even, with ...   \n",
       "2  Satisfactory (the surface layer is even, with ...   \n",
       "3  Satisfactory (the surface layer is even, with ...   \n",
       "4  Satisfactory (the surface layer is even, with ...   \n",
       "\n",
       "  Availability of sports equipment in accordance with standards (balls, benches, ropes, mats, dumbbells, rings, sticks, chess, etc.)  \\\n",
       "0                     Almost everything is available                                                                                   \n",
       "1                     Almost everything is available                                                                                   \n",
       "2                     Almost everything is available                                                                                   \n",
       "3                     Almost everything is available                                                                                   \n",
       "4                     Almost everything is available                                                                                   \n",
       "\n",
       "                      Condition of the assembly hall  \\\n",
       "0  Partially in need of repair (some seats have d...   \n",
       "1                                  Completely absent   \n",
       "2                                  Completely absent   \n",
       "3                                  Completely absent   \n",
       "4                                  Completely absent   \n",
       "\n",
       "                            Condition of the kitchen  \\\n",
       "0  Partially in need of repair (floor and walls, ...   \n",
       "1                       There is no cafeteria at all   \n",
       "2                       There is no cafeteria at all   \n",
       "3                       There is no cafeteria at all   \n",
       "4                       There is no cafeteria at all   \n",
       "\n",
       "  Availability of drinking water and handwashing facilities in the kitchen  \\\n",
       "0                                  Completely absent                         \n",
       "1                                  Completely absent                         \n",
       "2                                  Completely absent                         \n",
       "3                                  Completely absent                         \n",
       "4                                  Completely absent                         \n",
       "\n",
       "  Condition of electricity supply throughout the day  \\\n",
       "0                 It hardly turns off during the day   \n",
       "1                 It hardly turns off during the day   \n",
       "2  It turns off at certain times during the day (...   \n",
       "3                 It hardly turns off during the day   \n",
       "4  It turns off at certain times during the day (...   \n",
       "\n",
       "  Is there a generator in the school?  \\\n",
       "0                       Not available   \n",
       "1                       Not available   \n",
       "2                           Available   \n",
       "3                           Available   \n",
       "4                           Available   \n",
       "\n",
       "  Are there solar panels in the school (above 10 kW)  \\\n",
       "0          Available, providing energy to the school   \n",
       "1                                      Not available   \n",
       "2                                      Not available   \n",
       "3          Available, providing energy to the school   \n",
       "4                                      Not available   \n",
       "\n",
       "         Condition of the internal electrical system  \\\n",
       "0  Needs complete replacement (wires are disconne...   \n",
       "1  Satisfactory (wires, switches, circuit breaker...   \n",
       "2  Satisfactory (wires, switches, circuit breaker...   \n",
       "3  Satisfactory (wires, switches, circuit breaker...   \n",
       "4  Satisfactory (wires, switches, circuit breaker...   \n",
       "\n",
       "                    Condition of the lighting system  \\\n",
       "0  Partially modern lighting installed (some LED ...   \n",
       "1  Satisfactory (fully modern LED lighting instal...   \n",
       "2  Satisfactory (fully modern LED lighting instal...   \n",
       "3  Satisfactory (fully modern LED lighting instal...   \n",
       "4  Satisfactory (fully modern LED lighting instal...   \n",
       "\n",
       "                        Source of the heating system  \\\n",
       "0  Local (the heating boiler is located within th...   \n",
       "1  Local (the heating boiler is located within th...   \n",
       "2  Local (the heating boiler is located within th...   \n",
       "3  Local (the heating boiler is located within th...   \n",
       "4  Local (the heating boiler is located within th...   \n",
       "\n",
       "  Fuel source for local or improvised heating systems  \\\n",
       "0                                               Coal    \n",
       "1                                               Coal    \n",
       "2                                               Coal    \n",
       "3                                               Coal    \n",
       "4                                               Coal    \n",
       "\n",
       "  Condition of the school boiler room  \\\n",
       "0                         Operational   \n",
       "1                         Operational   \n",
       "2                         Operational   \n",
       "3                         Operational   \n",
       "4                         Operational   \n",
       "\n",
       "  Condition of the internal heating system (pipes and radiators)  \\\n",
       "0  Needs repair or replacement (some or all pipes...               \n",
       "1  Operational (all pipes and radiators are in go...               \n",
       "2  Needs repair or replacement (some or all pipes...               \n",
       "3  Operational (all pipes and radiators are in go...               \n",
       "4  Operational (all pipes and radiators are in go...               \n",
       "\n",
       "  Availability of water in the school  \\\n",
       "0         Available and safe to drink   \n",
       "1         Available and safe to drink   \n",
       "2         Available and safe to drink   \n",
       "3         Available and safe to drink   \n",
       "4         Available and safe to drink   \n",
       "\n",
       "                     Source of drinking water supply  \\\n",
       "0  Centralized (supplied through pipes from outsi...   \n",
       "1  Local (a well/artesian source or water tower i...   \n",
       "2  Local (a well/artesian source or water tower i...   \n",
       "3  Centralized (supplied through pipes from outsi...   \n",
       "4  Centralized (supplied through pipes from outsi...   \n",
       "\n",
       "  Are there concrete/asphalt pathways between buildings and outdoor restrooms?  \\\n",
       "0                                          Available                             \n",
       "1                                          Available                             \n",
       "2                                          Available                             \n",
       "3                                          Available                             \n",
       "4                                          Available                             \n",
       "\n",
       "  Is the school perimeter fenced with a boundary wall?  \\\n",
       "0                                       Fully fenced     \n",
       "1                                Partially available     \n",
       "2                                Partially available     \n",
       "3                                Partially available     \n",
       "4                                Partially available     \n",
       "\n",
       "     Type of internet connection                    Internet usage  \\\n",
       "0  By fiber optic or wired cable  Used within the scope of lessons   \n",
       "1  By fiber optic or wired cable  Used within the scope of lessons   \n",
       "2  By fiber optic or wired cable  Used within the scope of lessons   \n",
       "3  By fiber optic or wired cable  Used within the scope of lessons   \n",
       "4  By fiber optic or wired cable  Used within the scope of lessons   \n",
       "\n",
       "  Availability of fire safety equipment (fire extinguishers and other devices) and alarm systems  \\\n",
       "0                                          Available                                               \n",
       "1                                          Available                                               \n",
       "2                                          Available                                               \n",
       "3                                          Available                                               \n",
       "4                                          Available                                               \n",
       "\n",
       "          Availability of video surveillance cameras  \\\n",
       "0  Available both in the yard and inside the buil...   \n",
       "1  Available both in the yard and inside the buil...   \n",
       "2  Available both in the yard and inside the buil...   \n",
       "3  Available both in the yard and inside the buil...   \n",
       "4          Cameras are installed but not functioning   \n",
       "\n",
       "  Availability of public transport stops nearby  \\\n",
       "0      Available, approximately 500 meters away   \n",
       "1      Available, approximately 500 meters away   \n",
       "2      Available, approximately 200 meters away   \n",
       "3      Available, approximately 200 meters away   \n",
       "4      Available, approximately 200 meters away   \n",
       "\n",
       "  Facilities for students with musculoskeletal disorders:  \\\n",
       "0                                          Available        \n",
       "1                                          Available        \n",
       "2                                          Available        \n",
       "3                                          Available        \n",
       "4                                          Available        \n",
       "\n",
       "  Does the school have a branch?  \\\n",
       "0                  Not available   \n",
       "1                  Not available   \n",
       "2                  Not available   \n",
       "3                  Not available   \n",
       "4                  Not available   \n",
       "\n",
       "  Have any repair or reconstruction works been carried out in the building?  \\\n",
       "0                           Yes, current maintenance                          \n",
       "1                                Yes, reconstruction                          \n",
       "2                                Yes, reconstruction                          \n",
       "3                                Yes, reconstruction                          \n",
       "4                                        Not avaible                          \n",
       "\n",
       "   Total  Boys  Girls  Uzbek  Karakalpak Russian Tajik  Kazakh  Kyrgyz  \\\n",
       "0   1383   714    669  Uzbek         NaN     NaN   NaN     NaN     NaN   \n",
       "1    564   296    268  Uzbek         NaN     NaN   NaN     NaN     NaN   \n",
       "2    865   465    400  Uzbek         NaN     NaN   NaN     NaN     NaN   \n",
       "3    610   310    300  Uzbek         NaN     NaN   NaN     NaN     NaN   \n",
       "4   1156   720    436  Uzbek         NaN     NaN   NaN     NaN     NaN   \n",
       "\n",
       "   Turkmen Do you consider the building safe during an earthquake?  \\\n",
       "0      NaN                                          Yes, safe        \n",
       "1      NaN                                          Yes, safe        \n",
       "2      NaN                                          Yes, safe        \n",
       "3      NaN                                          Yes, safe        \n",
       "4      NaN                                          Yes, safe        \n",
       "\n",
       "   Number of floors:.1 Enter the type of wall material of the building:  \\\n",
       "0                  NaN                                              NaN   \n",
       "1                  NaN                                            brick   \n",
       "2                  NaN                                            brick   \n",
       "3                  NaN                                            brick   \n",
       "4                  NaN                                            brick   \n",
       "\n",
       "                   Condition of the building walls.1  Building foundations.1  \\\n",
       "0                                                NaN                     NaN   \n",
       "1  In satisfactory condition (no cracks, defects,...                     NaN   \n",
       "2  In satisfactory condition (no cracks, defects,...                     NaN   \n",
       "3  In satisfactory condition (no cracks, defects,...                     NaN   \n",
       "4  In satisfactory condition (no cracks, defects,...                     NaN   \n",
       "\n",
       "   Condition of the concrete slabs (ceiling) between floors.1  \\\n",
       "0                                                NaN            \n",
       "1                                                NaN            \n",
       "2                                                NaN            \n",
       "3                                                NaN            \n",
       "4                                                NaN            \n",
       "\n",
       "  Do you consider the building safe during an earthquake?.1  \\\n",
       "0                                                NaN          \n",
       "1                                          Yes, safe          \n",
       "2                                          Yes, safe          \n",
       "3                                          Yes, safe          \n",
       "4                                          Yes, safe          \n",
       "\n",
       "  Enter the type of roofing material of the building:  \\\n",
       "0                                                NaN    \n",
       "1                                        profnastyle    \n",
       "2                                              slate    \n",
       "3                                        profnastyle    \n",
       "4                                              slate    \n",
       "\n",
       "                    Condition of the building roof.1  \\\n",
       "0                                                NaN   \n",
       "1  Satisfactory (no cracks or other defects) - no...   \n",
       "2  Satisfactory (no cracks or other defects) - no...   \n",
       "3  Satisfactory (no cracks or other defects) - no...   \n",
       "4  Satisfactory (no cracks or other defects) - no...   \n",
       "\n",
       "     Condition of windows and frames in classrooms.1  \\\n",
       "0                                                NaN   \n",
       "1  Satisfactory (almost all frames are adequate, ...   \n",
       "2  Satisfactory (almost all frames are adequate, ...   \n",
       "3  Satisfactory (almost all frames are adequate, ...   \n",
       "4  Satisfactory (almost all frames are adequate, ...   \n",
       "\n",
       "             Condition of the floors in classrooms.1  \\\n",
       "0                                                NaN   \n",
       "1  Satisfactory (almost all floors are intact) – ...   \n",
       "2  Satisfactory (almost all floors are intact) – ...   \n",
       "3  Satisfactory (almost all floors are intact) – ...   \n",
       "4  Satisfactory (almost all floors are intact) – ...   \n",
       "\n",
       "              Condition of the doors in classrooms.1  Number of floors:.2  \\\n",
       "0                                                NaN                  NaN   \n",
       "1  Satisfactory (almost all doors are present, in...                  NaN   \n",
       "2  Satisfactory (almost all doors are present, in...                  NaN   \n",
       "3  Satisfactory (almost all doors are present, in...                  NaN   \n",
       "4  Satisfactory (almost all doors are present, in...                  NaN   \n",
       "\n",
       "  Enter the type of wall material of the building:.1  \\\n",
       "0                                                NaN   \n",
       "1                                                NaN   \n",
       "2                                                NaN   \n",
       "3                                                NaN   \n",
       "4                                                NaN   \n",
       "\n",
       "  Condition of the building walls.2  Building foundations.2  \\\n",
       "0                               NaN                     NaN   \n",
       "1                               NaN                     NaN   \n",
       "2                               NaN                     NaN   \n",
       "3                               NaN                     NaN   \n",
       "4                               NaN                     NaN   \n",
       "\n",
       "   Condition of the concrete slabs (ceiling) between floors.2  \\\n",
       "0                                                NaN            \n",
       "1                                                NaN            \n",
       "2                                                NaN            \n",
       "3                                                NaN            \n",
       "4                                                NaN            \n",
       "\n",
       "  Do you consider the building safe during an earthquake?.2  \\\n",
       "0                                                NaN          \n",
       "1                                                NaN          \n",
       "2                                                NaN          \n",
       "3                                                NaN          \n",
       "4                                                NaN          \n",
       "\n",
       "  Enter the type of roofing material of the building.1  \\\n",
       "0                                                NaN     \n",
       "1                                                NaN     \n",
       "2                                                NaN     \n",
       "3                                                NaN     \n",
       "4                                                NaN     \n",
       "\n",
       "  Condition of the building roof.2  \\\n",
       "0                              NaN   \n",
       "1                              NaN   \n",
       "2                              NaN   \n",
       "3                              NaN   \n",
       "4                              NaN   \n",
       "\n",
       "  Condition of windows and frames in classrooms.2  \\\n",
       "0                                             NaN   \n",
       "1                                             NaN   \n",
       "2                                             NaN   \n",
       "3                                             NaN   \n",
       "4                                             NaN   \n",
       "\n",
       "  Condition of the floors in classrooms.2  \\\n",
       "0                                     NaN   \n",
       "1                                     NaN   \n",
       "2                                     NaN   \n",
       "3                                     NaN   \n",
       "4                                     NaN   \n",
       "\n",
       "  Condition of the doors in classrooms.2  \\\n",
       "0                                    NaN   \n",
       "1                                    NaN   \n",
       "2                                    NaN   \n",
       "3                                    NaN   \n",
       "4                                    NaN   \n",
       "\n",
       "  Where is the functioning restroom located in the school?  \\\n",
       "0                                        In the yard         \n",
       "1                                        In the yard         \n",
       "2                                        In the yard         \n",
       "3                                        In the yard         \n",
       "4                                        In the yard         \n",
       "\n",
       "      Condition of water supply inside the restrooms  \\\n",
       "0  Yes, there is water available only for handwas...   \n",
       "1  Yes, there is water available only for handwas...   \n",
       "2  Yes, there is water available only for handwas...   \n",
       "3  Yes, there is water available only for handwas...   \n",
       "4  Yes, there is water available only for handwas...   \n",
       "\n",
       "  Is the restroom connected to the central sewage system?  Total.1  Men  \\\n",
       "0  There is a septic tank (special) in the school...          10.0    5   \n",
       "1  There is a septic tank (special) in the school...           6.0    3   \n",
       "2  There is a septic tank (special) in the school...          12.0    6   \n",
       "3                   There is no sewage system at all           8.0    4   \n",
       "4  There is a septic tank (special) in the school...           8.0    4   \n",
       "\n",
       "   Women Availability of doors and partitions in restroom stalls  \\\n",
       "0      5  There are barriers, but there are no separate ...        \n",
       "1      3                                          Available        \n",
       "2      6  There are barriers, but there are no separate ...        \n",
       "3      4                                          Available        \n",
       "4      4                                          Available        \n",
       "\n",
       "  Availability of water and soap for handwashing near restrooms  \\\n",
       "0                                          Available              \n",
       "1                                          Available              \n",
       "2                                          Available              \n",
       "3           Water is available, but there is no soap              \n",
       "4                                          Available              \n",
       "\n",
       "  Do you think the restroom is safe for children?  \\\n",
       "0                                       Yes, safe   \n",
       "1                                       Yes, safe   \n",
       "2                                       Yes, safe   \n",
       "3                                       Yes, safe   \n",
       "4                                       Yes, safe   \n",
       "\n",
       "  Do you think there is a connection between the condition of restrooms and students' willingness to attend school?  \\\n",
       "0                                                 No                                                                  \n",
       "1                                                 No                                                                  \n",
       "2                                                 No                                                                  \n",
       "3                                                 No                                                                  \n",
       "4                                                 No                                                                  \n",
       "\n",
       "  Are there any issues connecting the indoor restrooms to the sewage system?  \\\n",
       "0         There are no restrooms inside the building                           \n",
       "1         There are no restrooms inside the building                           \n",
       "2         There are no restrooms inside the building                           \n",
       "3         There are no restrooms inside the building                           \n",
       "4         There are no restrooms inside the building                           \n",
       "\n",
       "  Are there any issues connecting the indoor restrooms to the water supply system?  \\\n",
       "0         There are no restrooms inside the building                                 \n",
       "1         There are no restrooms inside the building                                 \n",
       "2         There are no restrooms inside the building                                 \n",
       "3         There are no restrooms inside the building                                 \n",
       "4         There are no restrooms inside the building                                 \n",
       "\n",
       "  Are there lights inside the restrooms, and are they safe for children?  \\\n",
       "0                                                Yes                       \n",
       "1                                                Yes                       \n",
       "2                                                Yes                       \n",
       "3                                                Yes                       \n",
       "4                                                Yes                       \n",
       "\n",
       "  Is the pathway to the restroom illuminated and safe for children?  \\\n",
       "0                                                 No                  \n",
       "1                                                Yes                  \n",
       "2                                                 No                  \n",
       "3                                                Yes                  \n",
       "4                                                Yes                  \n",
       "\n",
       "                               Conditions for dining  \\\n",
       "0  There is a kitchen available for preparing hot...   \n",
       "1         There is neither a cafeteria nor a kitchen   \n",
       "2  Only a cafeteria is available (there are no fa...   \n",
       "3  Only a cafeteria is available (there are no fa...   \n",
       "4         There is neither a cafeteria nor a kitchen   \n",
       "\n",
       "  Do you think the classrooms are warm during the autumn-winter season?  \\\n",
       "0                                           Yes, hot                      \n",
       "1                                           Yes, hot                      \n",
       "2                                           Yes, hot                      \n",
       "3                                           Yes, hot                      \n",
       "4                                           Yes, hot                      \n",
       "\n",
       "  Does the school building have a water pipeline, and does water flow through it?  \\\n",
       "0               No, there is neither water nor pipes                                \n",
       "1               No, there is neither water nor pipes                                \n",
       "2               No, there is neither water nor pipes                                \n",
       "3               No, there is neither water nor pipes                                \n",
       "4               No, there is neither water nor pipes                                \n",
       "\n",
       "  (QUESTION MAINLY FOR RURAL SCHOOLS) Are children in your microdistrict forced to walk more than 3 km one way to reach the school?  \\\n",
       "0                   My school is located in the city                                                                                  \n",
       "1                         Yes, not many (around 20%)                                                                                  \n",
       "2                           There is no such problem                                                                                  \n",
       "3                         Yes, not many (around 20%)                                                                                  \n",
       "4                         Yes, not many (around 20%)                                                                                  \n",
       "\n",
       "  Do you think your school's infrastructure meets modern educational requirements?  \\\n",
       "0                                                yes                                 \n",
       "1                                                yes                                 \n",
       "2                                                yes                                 \n",
       "3                                                yes                                 \n",
       "4                                                yes                                 \n",
       "\n",
       "  Are you satisfied with the condition of your school?  \\\n",
       "0                                     I am satisfied     \n",
       "1                                     I am satisfied     \n",
       "2                                     I am satisfied     \n",
       "3                                     I am satisfied     \n",
       "4                                     I am satisfied     \n",
       "\n",
       "  What material are the walls of the outdoor restroom made of?  \\\n",
       "0                                              Stone             \n",
       "1                                        Baked brick             \n",
       "2                                        Baked brick             \n",
       "3                                        Baked brick             \n",
       "4                                        Baked brick             \n",
       "\n",
       "  What is the condition of the outdoor restroom?  \\\n",
       "0       Standard (constructed based on a design)   \n",
       "1       Standard (constructed based on a design)   \n",
       "2       Standard (constructed based on a design)   \n",
       "3       Standard (constructed based on a design)   \n",
       "4       Standard (constructed based on a design)   \n",
       "\n",
       "  What is the condition of the standard (project-based) restroom?  \\\n",
       "0                            Repaired - satisfactory                \n",
       "1                            Repaired - satisfactory                \n",
       "2                            Repaired - satisfactory                \n",
       "3                            Repaired - satisfactory                \n",
       "4                            Repaired - satisfactory                \n",
       "\n",
       "  What is the condition of the adapted (community-built, sponsored, stone, wood, or adobe) restroom?  \n",
       "0                                                NaN                                                  \n",
       "1                                                NaN                                                  \n",
       "2                                                NaN                                                  \n",
       "3                                                NaN                                                  \n",
       "4                                                NaN                                                  "
      ]
     },
     "execution_count": 3,
     "metadata": {},
     "output_type": "execute_result"
    }
   ],
   "source": [
    "# Dataset First Look\n",
    "df.head()"
   ]
  },
  {
   "cell_type": "markdown",
   "metadata": {
    "id": "7hBIi_osiCS2"
   },
   "source": [
    "### Dataset Rows & Columns count"
   ]
  },
  {
   "cell_type": "code",
   "execution_count": 4,
   "metadata": {
    "id": "Kllu7SJgmLij"
   },
   "outputs": [
    {
     "data": {
      "text/plain": [
       "(1261, 109)"
      ]
     },
     "execution_count": 4,
     "metadata": {},
     "output_type": "execute_result"
    }
   ],
   "source": [
    "# Dataset Rows & Columns count\n",
    "df.shape"
   ]
  },
  {
   "cell_type": "markdown",
   "metadata": {
    "id": "JlHwYmJAmNHm"
   },
   "source": [
    "### Dataset Information"
   ]
  },
  {
   "cell_type": "code",
   "execution_count": 6,
   "metadata": {
    "id": "e9hRXRi6meOf"
   },
   "outputs": [
    {
     "name": "stdout",
     "output_type": "stream",
     "text": [
      "<class 'pandas.core.frame.DataFrame'>\n",
      "RangeIndex: 1261 entries, 0 to 1260\n",
      "Columns: 109 entries, id to What is the condition of the adapted (community-built, sponsored, stone, wood, or adobe) restroom?\n",
      "dtypes: float64(16), int64(13), object(80)\n",
      "memory usage: 1.0+ MB\n"
     ]
    }
   ],
   "source": [
    "# Dataset Info\n",
    "df.info()"
   ]
  },
  {
   "cell_type": "markdown",
   "metadata": {
    "id": "35m5QtbWiB9F"
   },
   "source": [
    "#### Duplicate Values"
   ]
  },
  {
   "cell_type": "code",
   "execution_count": 7,
   "metadata": {
    "id": "1sLdpKYkmox0"
   },
   "outputs": [
    {
     "data": {
      "text/plain": [
       "False    1261\n",
       "Name: count, dtype: int64"
      ]
     },
     "execution_count": 7,
     "metadata": {},
     "output_type": "execute_result"
    }
   ],
   "source": [
    "# Dataset Duplicate Value Count\n",
    "df.duplicated().value_counts()"
   ]
  },
  {
   "cell_type": "markdown",
   "metadata": {
    "id": "PoPl-ycgm1ru"
   },
   "source": [
    "#### Missing Values/Null Values"
   ]
  },
  {
   "cell_type": "code",
   "execution_count": 8,
   "metadata": {
    "id": "GgHWkxvamxVg"
   },
   "outputs": [],
   "source": [
    "# Missing Values/Null Values Count\n",
    "df.isnull().sum()\n",
    "\n",
    "# columns where all the values are missing\n",
    "null_counts = df.isnull().sum()\n",
    "columns_with_1261_nulls = null_counts[null_counts == 1261]\n",
    "columns_with_1261_nulls\n",
    "\n",
    "# We will directly drop these columns\n",
    "df = df.drop(columns_with_1261_nulls.index, axis=1)\n",
    "\n",
    "# columns where the null values are greater than 1000\n",
    "null_counts = df.isnull().sum()\n",
    "columns_with_1000_nulls = null_counts[null_counts > 1000]\n",
    "columns_with_1000_nulls\n",
    "\n",
    "\"\"\"\n",
    "Russian                                                                                               1164\n",
    "Tajik                                                                                                 1235\n",
    "Enter the type of wall material of the building:.1                                                    1137\n",
    "Condition of the building walls.2                                                                     1137\n",
    "Do you consider the building safe during an earthquake?.2                                             1137\n",
    "Enter the type of roofing material of the building.1                                                  1137\n",
    "Condition of the building roof.2                                                                      1137\n",
    "Condition of windows and frames in classrooms.2                                                       1137\n",
    "Condition of the floors in classrooms.2                                                               1137\n",
    "Condition of the doors in classrooms.2                                                                1137\n",
    "What is the condition of the adapted (community-built, sponsored, stone, wood, or adobe) restroom?    1147\n",
    "dtype: int64\n",
    "\"\"\"\n",
    "# We can see that most of these columns are getting repeated, so we will drop them right away\n",
    "df = df.drop(columns_with_1000_nulls.index, axis=1)\n",
    "\n",
    "df.isnull().sum()\n",
    "\n",
    "# columns where the null values are greater than 100\n",
    "null_counts = df.isnull().sum()\n",
    "columns_with_100_nulls = null_counts[null_counts > 100]\n",
    "columns_with_100_nulls\n",
    "\n",
    "\"\"\"\n",
    "If completed, enter the year                                       406\n",
    "Enter the type of wall material of the building:                   688\n",
    "Condition of the building walls.1                                  688\n",
    "Do you consider the building safe during an earthquake?.1          689\n",
    "Enter the type of roofing material of the building:                690\n",
    "Condition of the building roof.1                                   691\n",
    "Condition of windows and frames in classrooms.1                    691\n",
    "Condition of the floors in classrooms.1                            691\n",
    "Condition of the doors in classrooms.1                             691\n",
    "What is the condition of the standard (project-based) restroom?    179\n",
    "dtype: int64\n",
    "\"\"\"\n",
    "# Here also, we can see that most of these columns are getting repeated, so we will drop them right away but we will only drop the columns that are getting repeated\n",
    "repeated_columns = ['Condition of the building walls.1', 'Do you consider the building safe during an earthquake?.1', 'Condition of the building roof.1', 'Condition of windows and frames in classrooms.1', 'Condition of the floors in classrooms.1', 'Condition of the doors in classrooms.1']\n",
    "df = df.drop(repeated_columns, axis=1)\n",
    "\n",
    "# The rest of the missing values we will handle later\n"
   ]
  },
  {
   "cell_type": "code",
   "execution_count": 9,
   "metadata": {},
   "outputs": [
    {
     "data": {
      "text/plain": [
       "(1261, 79)"
      ]
     },
     "execution_count": 9,
     "metadata": {},
     "output_type": "execute_result"
    }
   ],
   "source": [
    "# Shape of the data after removing null values\n",
    "df.shape"
   ]
  },
  {
   "cell_type": "markdown",
   "metadata": {
    "id": "H0kj-8xxnORC"
   },
   "source": [
    "### What did you know about your dataset?"
   ]
  },
  {
   "cell_type": "markdown",
   "metadata": {
    "id": "gfoNAAC-nUe_"
   },
   "source": [
    "Our dataset had 1261 rows and 109 columns.\n",
    "Data types of the columns are as follows:-\n",
    "- float64(16), \n",
    "- int64(13), \n",
    "- object(80)\n",
    "\n",
    "There were no fully duplicated rows found in the dataset.\n",
    "However there were many repeated columns in the dataset, where there was 100% null values. Hence, these columns were dropped.\n",
    "There were many other columns with more than 1000 null values. Hence, these columns were dropped, because most of them were repeated and the others were not useful.\n",
    "Few more columns were there with more than 100 null values and repeated columns. Hence, these columns were dropped.\n",
    "Rest of the null values will be handled accordingly as we move forward in the analysis.\n",
    "\n",
    "After this pocess the shape of the dataset is as follows:\n",
    "(1261, 79)\n"
   ]
  },
  {
   "cell_type": "markdown",
   "metadata": {
    "id": "nA9Y7ga8ng1Z"
   },
   "source": [
    "## ***2. Understanding Your Variables***"
   ]
  },
  {
   "cell_type": "markdown",
   "metadata": {},
   "source": [
    "### Dataset Bifurcation"
   ]
  },
  {
   "cell_type": "code",
   "execution_count": 5,
   "metadata": {
    "id": "j7xfkqrt5Ag5"
   },
   "outputs": [],
   "source": [
    "# Dataset Columns\n",
    "df.columns\n",
    "\n",
    "# Dividing the dataset into 3 parts: Population Columns, Infrastructure Columns, and Resources columns\n",
    "common_columns = ['id', 'Region name', 'District name', 'School name']\n",
    "\n",
    "# Population Columns\n",
    "population_columns = common_columns + ['Elementary (Grades 1-4)', \n",
    "                        'Number of shifts (1, 2, or 3)',\n",
    "                        'Total design capacity of the school (student capacity – enter the number of student places according to the approved construction project or passport)',\n",
    "                        'Between grades 1-4',\n",
    "                        'Between grades 5-9', \n",
    "                        'Between grades 10-11',\n",
    "                        'Total', \n",
    "                        'Boys', \n",
    "                        'Girls',\n",
    "                        'Total.1',\n",
    "                        'Men', \n",
    "                        'Women'\n",
    "                        ]\n",
    "# Infrastructure Columns\n",
    "infrastructure_columns = common_columns + ['Enter the year the building was constructed',\n",
    "                            'If completed, enter the year',\n",
    "                            'Available vacant land area on the school premises for the construction of an additional academic building',\n",
    "                            'Number of academic buildings (do not include branch campuses, if any)',\n",
    "                            'Enter the type of wall material:',\n",
    "                            'Condition of the building walls',\n",
    "                            'Enter the type of roofing material of the building',\n",
    "                            'Condition of the building roof',\n",
    "                            'Condition of windows and frames in classrooms',\n",
    "                            'Condition of the floors in classrooms',\n",
    "                            'Condition of the doors in classrooms',\n",
    "                            'Is the condition of the library satisfactory?',\n",
    "                            'Condition of the gymnasium', \n",
    "                            'Condition of the stadium',\n",
    "                            'Condition of the assembly hall',\n",
    "                            'Condition of the kitchen',\n",
    "                            'Condition of the internal electrical system',\n",
    "                            'Condition of the lighting system',\n",
    "                            'Condition of the school boiler room',\n",
    "                            'Condition of the internal heating system (pipes and radiators)',\n",
    "                            'Condition of water supply inside the restrooms',\n",
    "                            'Is the restroom connected to the central sewage system?',\n",
    "                            'Are there any issues connecting the indoor restrooms to the sewage system?',\n",
    "                            'Are there any issues connecting the indoor restrooms to the water supply system?',\n",
    "                            'Are there lights inside the restrooms, and are they safe for children?',\n",
    "                            'Are there concrete/asphalt pathways between buildings and outdoor restrooms?',\n",
    "                            'Conditions for dining',\n",
    "                            'Is the school perimeter fenced with a boundary wall?',\n",
    "                            'Have any repair or reconstruction works been carried out in the building?',\n",
    "                            'Do you consider the building safe during an earthquake?',\n",
    "                            '(QUESTION MAINLY FOR RURAL SCHOOLS) Are children in your microdistrict forced to walk more than 3 km one way to reach the school?',\n",
    "                            'Do you think your school\\'s infrastructure meets modern educational requirements?',\n",
    "                            'Are you satisfied with the condition of your school?',\n",
    "                            'What material are the walls of the outdoor restroom made of?',\n",
    "                            'What is the condition of the outdoor restroom?',\n",
    "                            'What is the condition of the standard (project-based) restroom?',\n",
    "                            ]\n",
    "\n",
    "# Resources Columns\n",
    "resources_columns = common_columns + ['Availability of sports equipment in accordance with standards (balls, benches, ropes, mats, dumbbells, rings, sticks, chess, etc.)',\n",
    "                            'Availability of drinking water and handwashing facilities in the kitchen',\n",
    "                            'Is there a generator in the school?',\n",
    "                            'Are there solar panels in the school (above 10 kW)',\n",
    "                            'Source of the heating system',\n",
    "                            'Fuel source for local or improvised heating systems',\n",
    "                            'Availability of water in the school',\n",
    "                            'Source of drinking water supply',\n",
    "                            'Type of internet connection', \n",
    "                            'Internet usage',\n",
    "                            'Availability of fire safety equipment (fire extinguishers and other devices) and alarm systems',\n",
    "                            'Availability of video surveillance cameras',\n",
    "                            'Availability of public transport stops nearby',\n",
    "                            'Facilities for students with musculoskeletal disorders:',\n",
    "                            'Where is the functioning restroom located in the school?',\n",
    "                            'Availability of doors and partitions in restroom stalls',\n",
    "                            'Availability of water and soap for handwashing near restrooms',\n",
    "                            'Do you think the restroom is safe for children?',\n",
    "                            'Do you think there is a connection between the condition of restrooms and students\\' willingness to attend school?',\n",
    "                            'Do you think the classrooms are warm during the autumn-winter season?',\n",
    "                            'Does the school building have a water pipeline, and does water flow through it?',\n",
    "                            ]"
   ]
  },
  {
   "cell_type": "code",
   "execution_count": 34,
   "metadata": {},
   "outputs": [
    {
     "data": {
      "text/html": [
       "<div>\n",
       "<style scoped>\n",
       "    .dataframe tbody tr th:only-of-type {\n",
       "        vertical-align: middle;\n",
       "    }\n",
       "\n",
       "    .dataframe tbody tr th {\n",
       "        vertical-align: top;\n",
       "    }\n",
       "\n",
       "    .dataframe thead th {\n",
       "        text-align: right;\n",
       "    }\n",
       "</style>\n",
       "<table border=\"1\" class=\"dataframe\">\n",
       "  <thead>\n",
       "    <tr style=\"text-align: right;\">\n",
       "      <th></th>\n",
       "      <th>id</th>\n",
       "      <th>Region name</th>\n",
       "      <th>District name</th>\n",
       "      <th>School name</th>\n",
       "      <th>Elementary (Grades 1-4)</th>\n",
       "      <th>Number of shifts (1, 2, or 3)</th>\n",
       "      <th>Total design capacity of the school (student capacity – enter the number of student places according to the approved construction project or passport)</th>\n",
       "      <th>Between grades 1-4</th>\n",
       "      <th>Between grades 5-9</th>\n",
       "      <th>Between grades 10-11</th>\n",
       "      <th>Total</th>\n",
       "      <th>Boys</th>\n",
       "      <th>Girls</th>\n",
       "      <th>Total.1</th>\n",
       "      <th>Men</th>\n",
       "      <th>Women</th>\n",
       "    </tr>\n",
       "  </thead>\n",
       "  <tbody>\n",
       "    <tr>\n",
       "      <th>0</th>\n",
       "      <td>1</td>\n",
       "      <td>Samarkand region</td>\n",
       "      <td>Bulungur district</td>\n",
       "      <td>1-sonli ixtisoslashtirilgan davlat umumta’lim ...</td>\n",
       "      <td>secondary (grades 1-11)</td>\n",
       "      <td>2</td>\n",
       "      <td>903</td>\n",
       "      <td>31</td>\n",
       "      <td>31</td>\n",
       "      <td>19</td>\n",
       "      <td>1383</td>\n",
       "      <td>714</td>\n",
       "      <td>669</td>\n",
       "      <td>10.0</td>\n",
       "      <td>5</td>\n",
       "      <td>5</td>\n",
       "    </tr>\n",
       "    <tr>\n",
       "      <th>1</th>\n",
       "      <td>2</td>\n",
       "      <td>Samarkand region</td>\n",
       "      <td>Bulungur district</td>\n",
       "      <td>10-sonli umumiy o'rta ta'lim maktabi</td>\n",
       "      <td>secondary (grades 1-11)</td>\n",
       "      <td>2</td>\n",
       "      <td>350</td>\n",
       "      <td>24</td>\n",
       "      <td>26</td>\n",
       "      <td>21</td>\n",
       "      <td>564</td>\n",
       "      <td>296</td>\n",
       "      <td>268</td>\n",
       "      <td>6.0</td>\n",
       "      <td>3</td>\n",
       "      <td>3</td>\n",
       "    </tr>\n",
       "    <tr>\n",
       "      <th>2</th>\n",
       "      <td>3</td>\n",
       "      <td>Samarkand region</td>\n",
       "      <td>Bulungur district</td>\n",
       "      <td>11-sonli umumiy o'rta ta'lim maktabi</td>\n",
       "      <td>secondary (grades 1-11)</td>\n",
       "      <td>2</td>\n",
       "      <td>530</td>\n",
       "      <td>25</td>\n",
       "      <td>25</td>\n",
       "      <td>25</td>\n",
       "      <td>865</td>\n",
       "      <td>465</td>\n",
       "      <td>400</td>\n",
       "      <td>12.0</td>\n",
       "      <td>6</td>\n",
       "      <td>6</td>\n",
       "    </tr>\n",
       "    <tr>\n",
       "      <th>3</th>\n",
       "      <td>4</td>\n",
       "      <td>Samarkand region</td>\n",
       "      <td>Bulungur district</td>\n",
       "      <td>12-sonli umumiy o'rta ta'lim maktabi</td>\n",
       "      <td>secondary (grades 1-11)</td>\n",
       "      <td>2</td>\n",
       "      <td>440</td>\n",
       "      <td>30</td>\n",
       "      <td>26</td>\n",
       "      <td>20</td>\n",
       "      <td>610</td>\n",
       "      <td>310</td>\n",
       "      <td>300</td>\n",
       "      <td>8.0</td>\n",
       "      <td>4</td>\n",
       "      <td>4</td>\n",
       "    </tr>\n",
       "    <tr>\n",
       "      <th>4</th>\n",
       "      <td>5</td>\n",
       "      <td>Samarkand region</td>\n",
       "      <td>Bulungur district</td>\n",
       "      <td>13-сонли умумий ўрта таълим мактаби</td>\n",
       "      <td>secondary (grades 1-11)</td>\n",
       "      <td>2</td>\n",
       "      <td>840</td>\n",
       "      <td>30</td>\n",
       "      <td>30</td>\n",
       "      <td>30</td>\n",
       "      <td>1156</td>\n",
       "      <td>720</td>\n",
       "      <td>436</td>\n",
       "      <td>8.0</td>\n",
       "      <td>4</td>\n",
       "      <td>4</td>\n",
       "    </tr>\n",
       "  </tbody>\n",
       "</table>\n",
       "</div>"
      ],
      "text/plain": [
       "   id       Region name      District name  \\\n",
       "0   1  Samarkand region  Bulungur district   \n",
       "1   2  Samarkand region  Bulungur district   \n",
       "2   3  Samarkand region  Bulungur district   \n",
       "3   4  Samarkand region  Bulungur district   \n",
       "4   5  Samarkand region  Bulungur district   \n",
       "\n",
       "                                         School name  Elementary (Grades 1-4)  \\\n",
       "0  1-sonli ixtisoslashtirilgan davlat umumta’lim ...  secondary (grades 1-11)   \n",
       "1               10-sonli umumiy o'rta ta'lim maktabi  secondary (grades 1-11)   \n",
       "2               11-sonli umumiy o'rta ta'lim maktabi  secondary (grades 1-11)   \n",
       "3               12-sonli umumiy o'rta ta'lim maktabi  secondary (grades 1-11)   \n",
       "4                13-сонли умумий ўрта таълим мактаби  secondary (grades 1-11)   \n",
       "\n",
       "   Number of shifts (1, 2, or 3)  \\\n",
       "0                              2   \n",
       "1                              2   \n",
       "2                              2   \n",
       "3                              2   \n",
       "4                              2   \n",
       "\n",
       "   Total design capacity of the school (student capacity – enter the number of student places according to the approved construction project or passport)  \\\n",
       "0                                                903                                                                                                        \n",
       "1                                                350                                                                                                        \n",
       "2                                                530                                                                                                        \n",
       "3                                                440                                                                                                        \n",
       "4                                                840                                                                                                        \n",
       "\n",
       "   Between grades 1-4  Between grades 5-9  Between grades 10-11  Total  Boys  \\\n",
       "0                  31                  31                    19   1383   714   \n",
       "1                  24                  26                    21    564   296   \n",
       "2                  25                  25                    25    865   465   \n",
       "3                  30                  26                    20    610   310   \n",
       "4                  30                  30                    30   1156   720   \n",
       "\n",
       "   Girls  Total.1  Men  Women  \n",
       "0    669     10.0    5      5  \n",
       "1    268      6.0    3      3  \n",
       "2    400     12.0    6      6  \n",
       "3    300      8.0    4      4  \n",
       "4    436      8.0    4      4  "
      ]
     },
     "execution_count": 34,
     "metadata": {},
     "output_type": "execute_result"
    }
   ],
   "source": [
    "# Creating the 3 different dfs as per the analysis\n",
    "population_df = df[population_columns].copy()\n",
    "infrastructure_df = df[infrastructure_columns].copy()\n",
    "resources_df = df[resources_columns].copy()\n",
    "\n",
    "# Displaying the first 5 rows of each df\n",
    "population_df.head()\n"
   ]
  },
  {
   "cell_type": "code",
   "execution_count": 7,
   "metadata": {},
   "outputs": [
    {
     "data": {
      "text/html": [
       "<div>\n",
       "<style scoped>\n",
       "    .dataframe tbody tr th:only-of-type {\n",
       "        vertical-align: middle;\n",
       "    }\n",
       "\n",
       "    .dataframe tbody tr th {\n",
       "        vertical-align: top;\n",
       "    }\n",
       "\n",
       "    .dataframe thead th {\n",
       "        text-align: right;\n",
       "    }\n",
       "</style>\n",
       "<table border=\"1\" class=\"dataframe\">\n",
       "  <thead>\n",
       "    <tr style=\"text-align: right;\">\n",
       "      <th></th>\n",
       "      <th>id</th>\n",
       "      <th>Region name</th>\n",
       "      <th>District name</th>\n",
       "      <th>School name</th>\n",
       "      <th>Enter the year the building was constructed</th>\n",
       "      <th>If completed, enter the year</th>\n",
       "      <th>Available vacant land area on the school premises for the construction of an additional academic building</th>\n",
       "      <th>Number of academic buildings (do not include branch campuses, if any)</th>\n",
       "      <th>Enter the type of wall material:</th>\n",
       "      <th>Condition of the building walls</th>\n",
       "      <th>Enter the type of roofing material of the building</th>\n",
       "      <th>Condition of the building roof</th>\n",
       "      <th>Condition of windows and frames in classrooms</th>\n",
       "      <th>Condition of the floors in classrooms</th>\n",
       "      <th>Condition of the doors in classrooms</th>\n",
       "      <th>Is the condition of the library satisfactory?</th>\n",
       "      <th>Condition of the gymnasium</th>\n",
       "      <th>Condition of the stadium</th>\n",
       "      <th>Condition of the assembly hall</th>\n",
       "      <th>Condition of the kitchen</th>\n",
       "      <th>Condition of the internal electrical system</th>\n",
       "      <th>Condition of the lighting system</th>\n",
       "      <th>Condition of the school boiler room</th>\n",
       "      <th>Condition of the internal heating system (pipes and radiators)</th>\n",
       "      <th>Condition of water supply inside the restrooms</th>\n",
       "      <th>Is the restroom connected to the central sewage system?</th>\n",
       "      <th>Are there any issues connecting the indoor restrooms to the sewage system?</th>\n",
       "      <th>Are there any issues connecting the indoor restrooms to the water supply system?</th>\n",
       "      <th>Are there lights inside the restrooms, and are they safe for children?</th>\n",
       "      <th>Are there concrete/asphalt pathways between buildings and outdoor restrooms?</th>\n",
       "      <th>Conditions for dining</th>\n",
       "      <th>Is the school perimeter fenced with a boundary wall?</th>\n",
       "      <th>Have any repair or reconstruction works been carried out in the building?</th>\n",
       "      <th>Do you consider the building safe during an earthquake?</th>\n",
       "      <th>(QUESTION MAINLY FOR RURAL SCHOOLS) Are children in your microdistrict forced to walk more than 3 km one way to reach the school?</th>\n",
       "      <th>Do you think your school's infrastructure meets modern educational requirements?</th>\n",
       "      <th>Are you satisfied with the condition of your school?</th>\n",
       "      <th>What material are the walls of the outdoor restroom made of?</th>\n",
       "      <th>What is the condition of the outdoor restroom?</th>\n",
       "      <th>What is the condition of the standard (project-based) restroom?</th>\n",
       "    </tr>\n",
       "  </thead>\n",
       "  <tbody>\n",
       "    <tr>\n",
       "      <th>0</th>\n",
       "      <td>1</td>\n",
       "      <td>Samarkand region</td>\n",
       "      <td>Bulungur district</td>\n",
       "      <td>1-sonli ixtisoslashtirilgan davlat umumta’lim ...</td>\n",
       "      <td>1987</td>\n",
       "      <td>2006.0</td>\n",
       "      <td>10.0</td>\n",
       "      <td>1</td>\n",
       "      <td>brick</td>\n",
       "      <td>In satisfactory condition (no cracks, other fl...</td>\n",
       "      <td>profnastyle</td>\n",
       "      <td>Satisfactory (no cracks or other defects) - no...</td>\n",
       "      <td>Satisfactory (almost all frames are adequate, ...</td>\n",
       "      <td>Partially in need of repair (floors in some cl...</td>\n",
       "      <td>Partially in need of repair (some doors do not...</td>\n",
       "      <td>yes</td>\n",
       "      <td>Partially in need of repair (floor or its cove...</td>\n",
       "      <td>Partially in need of repair (the surface layer...</td>\n",
       "      <td>Partially in need of repair (some seats have d...</td>\n",
       "      <td>Partially in need of repair (floor and walls, ...</td>\n",
       "      <td>Needs complete replacement (wires are disconne...</td>\n",
       "      <td>Partially modern lighting installed (some LED ...</td>\n",
       "      <td>Operational</td>\n",
       "      <td>Needs repair or replacement (some or all pipes...</td>\n",
       "      <td>Yes, there is water available only for handwas...</td>\n",
       "      <td>There is a septic tank (special) in the school...</td>\n",
       "      <td>There are no restrooms inside the building</td>\n",
       "      <td>There are no restrooms inside the building</td>\n",
       "      <td>Yes</td>\n",
       "      <td>Available</td>\n",
       "      <td>There is a kitchen available for preparing hot...</td>\n",
       "      <td>Fully fenced</td>\n",
       "      <td>Yes, current maintenance</td>\n",
       "      <td>Yes, safe</td>\n",
       "      <td>My school is located in the city</td>\n",
       "      <td>yes</td>\n",
       "      <td>I am satisfied</td>\n",
       "      <td>Stone</td>\n",
       "      <td>Standard (constructed based on a design)</td>\n",
       "      <td>Repaired - satisfactory</td>\n",
       "    </tr>\n",
       "    <tr>\n",
       "      <th>1</th>\n",
       "      <td>2</td>\n",
       "      <td>Samarkand region</td>\n",
       "      <td>Bulungur district</td>\n",
       "      <td>10-sonli umumiy o'rta ta'lim maktabi</td>\n",
       "      <td>2015</td>\n",
       "      <td>2019.0</td>\n",
       "      <td>10.0</td>\n",
       "      <td>2</td>\n",
       "      <td>brick</td>\n",
       "      <td>In satisfactory condition (no cracks, other fl...</td>\n",
       "      <td>profnastyle</td>\n",
       "      <td>Satisfactory (no cracks or other defects) - no...</td>\n",
       "      <td>Satisfactory (almost all frames are adequate, ...</td>\n",
       "      <td>Satisfactory (almost all floors are intact) – ...</td>\n",
       "      <td>Satisfactory (almost all doors are present, in...</td>\n",
       "      <td>yes</td>\n",
       "      <td>Satisfactory (the floor is not rotten, its cov...</td>\n",
       "      <td>Satisfactory (the surface layer is even, with ...</td>\n",
       "      <td>Completely absent</td>\n",
       "      <td>There is no cafeteria at all</td>\n",
       "      <td>Satisfactory (wires, switches, circuit breaker...</td>\n",
       "      <td>Satisfactory (fully modern LED lighting instal...</td>\n",
       "      <td>Operational</td>\n",
       "      <td>Operational (all pipes and radiators are in go...</td>\n",
       "      <td>Yes, there is water available only for handwas...</td>\n",
       "      <td>There is a septic tank (special) in the school...</td>\n",
       "      <td>There are no restrooms inside the building</td>\n",
       "      <td>There are no restrooms inside the building</td>\n",
       "      <td>Yes</td>\n",
       "      <td>Available</td>\n",
       "      <td>There is neither a cafeteria nor a kitchen</td>\n",
       "      <td>Partially available</td>\n",
       "      <td>Yes, reconstruction</td>\n",
       "      <td>Yes, safe</td>\n",
       "      <td>Yes, not many (around 20%)</td>\n",
       "      <td>yes</td>\n",
       "      <td>I am satisfied</td>\n",
       "      <td>Baked brick</td>\n",
       "      <td>Standard (constructed based on a design)</td>\n",
       "      <td>Repaired - satisfactory</td>\n",
       "    </tr>\n",
       "    <tr>\n",
       "      <th>2</th>\n",
       "      <td>3</td>\n",
       "      <td>Samarkand region</td>\n",
       "      <td>Bulungur district</td>\n",
       "      <td>11-sonli umumiy o'rta ta'lim maktabi</td>\n",
       "      <td>2001</td>\n",
       "      <td>2014.0</td>\n",
       "      <td>20.0</td>\n",
       "      <td>2</td>\n",
       "      <td>brick</td>\n",
       "      <td>In satisfactory condition (no cracks, other fl...</td>\n",
       "      <td>slate</td>\n",
       "      <td>Satisfactory (no cracks or other defects) - no...</td>\n",
       "      <td>Satisfactory (almost all frames are adequate, ...</td>\n",
       "      <td>Satisfactory (almost all floors are intact) – ...</td>\n",
       "      <td>Satisfactory (almost all doors are present, in...</td>\n",
       "      <td>yes</td>\n",
       "      <td>Satisfactory (the floor is not rotten, its cov...</td>\n",
       "      <td>Satisfactory (the surface layer is even, with ...</td>\n",
       "      <td>Completely absent</td>\n",
       "      <td>There is no cafeteria at all</td>\n",
       "      <td>Satisfactory (wires, switches, circuit breaker...</td>\n",
       "      <td>Satisfactory (fully modern LED lighting instal...</td>\n",
       "      <td>Operational</td>\n",
       "      <td>Needs repair or replacement (some or all pipes...</td>\n",
       "      <td>Yes, there is water available only for handwas...</td>\n",
       "      <td>There is a septic tank (special) in the school...</td>\n",
       "      <td>There are no restrooms inside the building</td>\n",
       "      <td>There are no restrooms inside the building</td>\n",
       "      <td>Yes</td>\n",
       "      <td>Available</td>\n",
       "      <td>Only a cafeteria is available (there are no fa...</td>\n",
       "      <td>Partially available</td>\n",
       "      <td>Yes, reconstruction</td>\n",
       "      <td>Yes, safe</td>\n",
       "      <td>There is no such problem</td>\n",
       "      <td>yes</td>\n",
       "      <td>I am satisfied</td>\n",
       "      <td>Baked brick</td>\n",
       "      <td>Standard (constructed based on a design)</td>\n",
       "      <td>Repaired - satisfactory</td>\n",
       "    </tr>\n",
       "    <tr>\n",
       "      <th>3</th>\n",
       "      <td>4</td>\n",
       "      <td>Samarkand region</td>\n",
       "      <td>Bulungur district</td>\n",
       "      <td>12-sonli umumiy o'rta ta'lim maktabi</td>\n",
       "      <td>1980</td>\n",
       "      <td>2024.0</td>\n",
       "      <td>10.0</td>\n",
       "      <td>2</td>\n",
       "      <td>brick</td>\n",
       "      <td>In satisfactory condition (no cracks, other fl...</td>\n",
       "      <td>profnastyle</td>\n",
       "      <td>Satisfactory (no cracks or other defects) - no...</td>\n",
       "      <td>Partial repair required (some frames do not op...</td>\n",
       "      <td>Partially in need of repair (floors in some cl...</td>\n",
       "      <td>Satisfactory (almost all doors are present, in...</td>\n",
       "      <td>yes</td>\n",
       "      <td>Satisfactory (the floor is not rotten, its cov...</td>\n",
       "      <td>Satisfactory (the surface layer is even, with ...</td>\n",
       "      <td>Completely absent</td>\n",
       "      <td>There is no cafeteria at all</td>\n",
       "      <td>Satisfactory (wires, switches, circuit breaker...</td>\n",
       "      <td>Satisfactory (fully modern LED lighting instal...</td>\n",
       "      <td>Operational</td>\n",
       "      <td>Operational (all pipes and radiators are in go...</td>\n",
       "      <td>Yes, there is water available only for handwas...</td>\n",
       "      <td>There is no sewage system at all</td>\n",
       "      <td>There are no restrooms inside the building</td>\n",
       "      <td>There are no restrooms inside the building</td>\n",
       "      <td>Yes</td>\n",
       "      <td>Available</td>\n",
       "      <td>Only a cafeteria is available (there are no fa...</td>\n",
       "      <td>Partially available</td>\n",
       "      <td>Yes, reconstruction</td>\n",
       "      <td>Yes, safe</td>\n",
       "      <td>Yes, not many (around 20%)</td>\n",
       "      <td>yes</td>\n",
       "      <td>I am satisfied</td>\n",
       "      <td>Baked brick</td>\n",
       "      <td>Standard (constructed based on a design)</td>\n",
       "      <td>Repaired - satisfactory</td>\n",
       "    </tr>\n",
       "    <tr>\n",
       "      <th>4</th>\n",
       "      <td>5</td>\n",
       "      <td>Samarkand region</td>\n",
       "      <td>Bulungur district</td>\n",
       "      <td>13-сонли умумий ўрта таълим мактаби</td>\n",
       "      <td>2005</td>\n",
       "      <td>NaN</td>\n",
       "      <td>5.0</td>\n",
       "      <td>2</td>\n",
       "      <td>brick</td>\n",
       "      <td>In satisfactory condition (no cracks, other fl...</td>\n",
       "      <td>slate</td>\n",
       "      <td>Satisfactory (no cracks or other defects) - no...</td>\n",
       "      <td>Satisfactory (almost all frames are adequate, ...</td>\n",
       "      <td>Satisfactory (almost all floors are intact) – ...</td>\n",
       "      <td>Satisfactory (almost all doors are present, in...</td>\n",
       "      <td>yes</td>\n",
       "      <td>Satisfactory (the floor is not rotten, its cov...</td>\n",
       "      <td>Satisfactory (the surface layer is even, with ...</td>\n",
       "      <td>Completely absent</td>\n",
       "      <td>There is no cafeteria at all</td>\n",
       "      <td>Satisfactory (wires, switches, circuit breaker...</td>\n",
       "      <td>Satisfactory (fully modern LED lighting instal...</td>\n",
       "      <td>Operational</td>\n",
       "      <td>Operational (all pipes and radiators are in go...</td>\n",
       "      <td>Yes, there is water available only for handwas...</td>\n",
       "      <td>There is a septic tank (special) in the school...</td>\n",
       "      <td>There are no restrooms inside the building</td>\n",
       "      <td>There are no restrooms inside the building</td>\n",
       "      <td>Yes</td>\n",
       "      <td>Available</td>\n",
       "      <td>There is neither a cafeteria nor a kitchen</td>\n",
       "      <td>Partially available</td>\n",
       "      <td>Not avaible</td>\n",
       "      <td>Yes, safe</td>\n",
       "      <td>Yes, not many (around 20%)</td>\n",
       "      <td>yes</td>\n",
       "      <td>I am satisfied</td>\n",
       "      <td>Baked brick</td>\n",
       "      <td>Standard (constructed based on a design)</td>\n",
       "      <td>Repaired - satisfactory</td>\n",
       "    </tr>\n",
       "  </tbody>\n",
       "</table>\n",
       "</div>"
      ],
      "text/plain": [
       "   id       Region name      District name  \\\n",
       "0   1  Samarkand region  Bulungur district   \n",
       "1   2  Samarkand region  Bulungur district   \n",
       "2   3  Samarkand region  Bulungur district   \n",
       "3   4  Samarkand region  Bulungur district   \n",
       "4   5  Samarkand region  Bulungur district   \n",
       "\n",
       "                                         School name  \\\n",
       "0  1-sonli ixtisoslashtirilgan davlat umumta’lim ...   \n",
       "1               10-sonli umumiy o'rta ta'lim maktabi   \n",
       "2               11-sonli umumiy o'rta ta'lim maktabi   \n",
       "3               12-sonli umumiy o'rta ta'lim maktabi   \n",
       "4                13-сонли умумий ўрта таълим мактаби   \n",
       "\n",
       "   Enter the year the building was constructed  If completed, enter the year  \\\n",
       "0                                         1987                        2006.0   \n",
       "1                                         2015                        2019.0   \n",
       "2                                         2001                        2014.0   \n",
       "3                                         1980                        2024.0   \n",
       "4                                         2005                           NaN   \n",
       "\n",
       "   Available vacant land area on the school premises for the construction of an additional academic building  \\\n",
       "0                                               10.0                                                           \n",
       "1                                               10.0                                                           \n",
       "2                                               20.0                                                           \n",
       "3                                               10.0                                                           \n",
       "4                                                5.0                                                           \n",
       "\n",
       "   Number of academic buildings (do not include branch campuses, if any)  \\\n",
       "0                                                  1                       \n",
       "1                                                  2                       \n",
       "2                                                  2                       \n",
       "3                                                  2                       \n",
       "4                                                  2                       \n",
       "\n",
       "  Enter the type of wall material:  \\\n",
       "0                            brick   \n",
       "1                            brick   \n",
       "2                            brick   \n",
       "3                            brick   \n",
       "4                            brick   \n",
       "\n",
       "                     Condition of the building walls  \\\n",
       "0  In satisfactory condition (no cracks, other fl...   \n",
       "1  In satisfactory condition (no cracks, other fl...   \n",
       "2  In satisfactory condition (no cracks, other fl...   \n",
       "3  In satisfactory condition (no cracks, other fl...   \n",
       "4  In satisfactory condition (no cracks, other fl...   \n",
       "\n",
       "  Enter the type of roofing material of the building  \\\n",
       "0                                        profnastyle   \n",
       "1                                        profnastyle   \n",
       "2                                              slate   \n",
       "3                                        profnastyle   \n",
       "4                                              slate   \n",
       "\n",
       "                      Condition of the building roof  \\\n",
       "0  Satisfactory (no cracks or other defects) - no...   \n",
       "1  Satisfactory (no cracks or other defects) - no...   \n",
       "2  Satisfactory (no cracks or other defects) - no...   \n",
       "3  Satisfactory (no cracks or other defects) - no...   \n",
       "4  Satisfactory (no cracks or other defects) - no...   \n",
       "\n",
       "       Condition of windows and frames in classrooms  \\\n",
       "0  Satisfactory (almost all frames are adequate, ...   \n",
       "1  Satisfactory (almost all frames are adequate, ...   \n",
       "2  Satisfactory (almost all frames are adequate, ...   \n",
       "3  Partial repair required (some frames do not op...   \n",
       "4  Satisfactory (almost all frames are adequate, ...   \n",
       "\n",
       "               Condition of the floors in classrooms  \\\n",
       "0  Partially in need of repair (floors in some cl...   \n",
       "1  Satisfactory (almost all floors are intact) – ...   \n",
       "2  Satisfactory (almost all floors are intact) – ...   \n",
       "3  Partially in need of repair (floors in some cl...   \n",
       "4  Satisfactory (almost all floors are intact) – ...   \n",
       "\n",
       "                Condition of the doors in classrooms  \\\n",
       "0  Partially in need of repair (some doors do not...   \n",
       "1  Satisfactory (almost all doors are present, in...   \n",
       "2  Satisfactory (almost all doors are present, in...   \n",
       "3  Satisfactory (almost all doors are present, in...   \n",
       "4  Satisfactory (almost all doors are present, in...   \n",
       "\n",
       "  Is the condition of the library satisfactory?  \\\n",
       "0                                           yes   \n",
       "1                                           yes   \n",
       "2                                           yes   \n",
       "3                                           yes   \n",
       "4                                           yes   \n",
       "\n",
       "                          Condition of the gymnasium  \\\n",
       "0  Partially in need of repair (floor or its cove...   \n",
       "1  Satisfactory (the floor is not rotten, its cov...   \n",
       "2  Satisfactory (the floor is not rotten, its cov...   \n",
       "3  Satisfactory (the floor is not rotten, its cov...   \n",
       "4  Satisfactory (the floor is not rotten, its cov...   \n",
       "\n",
       "                            Condition of the stadium  \\\n",
       "0  Partially in need of repair (the surface layer...   \n",
       "1  Satisfactory (the surface layer is even, with ...   \n",
       "2  Satisfactory (the surface layer is even, with ...   \n",
       "3  Satisfactory (the surface layer is even, with ...   \n",
       "4  Satisfactory (the surface layer is even, with ...   \n",
       "\n",
       "                      Condition of the assembly hall  \\\n",
       "0  Partially in need of repair (some seats have d...   \n",
       "1                                  Completely absent   \n",
       "2                                  Completely absent   \n",
       "3                                  Completely absent   \n",
       "4                                  Completely absent   \n",
       "\n",
       "                            Condition of the kitchen  \\\n",
       "0  Partially in need of repair (floor and walls, ...   \n",
       "1                       There is no cafeteria at all   \n",
       "2                       There is no cafeteria at all   \n",
       "3                       There is no cafeteria at all   \n",
       "4                       There is no cafeteria at all   \n",
       "\n",
       "         Condition of the internal electrical system  \\\n",
       "0  Needs complete replacement (wires are disconne...   \n",
       "1  Satisfactory (wires, switches, circuit breaker...   \n",
       "2  Satisfactory (wires, switches, circuit breaker...   \n",
       "3  Satisfactory (wires, switches, circuit breaker...   \n",
       "4  Satisfactory (wires, switches, circuit breaker...   \n",
       "\n",
       "                    Condition of the lighting system  \\\n",
       "0  Partially modern lighting installed (some LED ...   \n",
       "1  Satisfactory (fully modern LED lighting instal...   \n",
       "2  Satisfactory (fully modern LED lighting instal...   \n",
       "3  Satisfactory (fully modern LED lighting instal...   \n",
       "4  Satisfactory (fully modern LED lighting instal...   \n",
       "\n",
       "  Condition of the school boiler room  \\\n",
       "0                         Operational   \n",
       "1                         Operational   \n",
       "2                         Operational   \n",
       "3                         Operational   \n",
       "4                         Operational   \n",
       "\n",
       "  Condition of the internal heating system (pipes and radiators)  \\\n",
       "0  Needs repair or replacement (some or all pipes...               \n",
       "1  Operational (all pipes and radiators are in go...               \n",
       "2  Needs repair or replacement (some or all pipes...               \n",
       "3  Operational (all pipes and radiators are in go...               \n",
       "4  Operational (all pipes and radiators are in go...               \n",
       "\n",
       "      Condition of water supply inside the restrooms  \\\n",
       "0  Yes, there is water available only for handwas...   \n",
       "1  Yes, there is water available only for handwas...   \n",
       "2  Yes, there is water available only for handwas...   \n",
       "3  Yes, there is water available only for handwas...   \n",
       "4  Yes, there is water available only for handwas...   \n",
       "\n",
       "  Is the restroom connected to the central sewage system?  \\\n",
       "0  There is a septic tank (special) in the school...        \n",
       "1  There is a septic tank (special) in the school...        \n",
       "2  There is a septic tank (special) in the school...        \n",
       "3                   There is no sewage system at all        \n",
       "4  There is a septic tank (special) in the school...        \n",
       "\n",
       "  Are there any issues connecting the indoor restrooms to the sewage system?  \\\n",
       "0         There are no restrooms inside the building                           \n",
       "1         There are no restrooms inside the building                           \n",
       "2         There are no restrooms inside the building                           \n",
       "3         There are no restrooms inside the building                           \n",
       "4         There are no restrooms inside the building                           \n",
       "\n",
       "  Are there any issues connecting the indoor restrooms to the water supply system?  \\\n",
       "0         There are no restrooms inside the building                                 \n",
       "1         There are no restrooms inside the building                                 \n",
       "2         There are no restrooms inside the building                                 \n",
       "3         There are no restrooms inside the building                                 \n",
       "4         There are no restrooms inside the building                                 \n",
       "\n",
       "  Are there lights inside the restrooms, and are they safe for children?  \\\n",
       "0                                                Yes                       \n",
       "1                                                Yes                       \n",
       "2                                                Yes                       \n",
       "3                                                Yes                       \n",
       "4                                                Yes                       \n",
       "\n",
       "  Are there concrete/asphalt pathways between buildings and outdoor restrooms?  \\\n",
       "0                                          Available                             \n",
       "1                                          Available                             \n",
       "2                                          Available                             \n",
       "3                                          Available                             \n",
       "4                                          Available                             \n",
       "\n",
       "                               Conditions for dining  \\\n",
       "0  There is a kitchen available for preparing hot...   \n",
       "1         There is neither a cafeteria nor a kitchen   \n",
       "2  Only a cafeteria is available (there are no fa...   \n",
       "3  Only a cafeteria is available (there are no fa...   \n",
       "4         There is neither a cafeteria nor a kitchen   \n",
       "\n",
       "  Is the school perimeter fenced with a boundary wall?  \\\n",
       "0                                       Fully fenced     \n",
       "1                                Partially available     \n",
       "2                                Partially available     \n",
       "3                                Partially available     \n",
       "4                                Partially available     \n",
       "\n",
       "  Have any repair or reconstruction works been carried out in the building?  \\\n",
       "0                           Yes, current maintenance                          \n",
       "1                                Yes, reconstruction                          \n",
       "2                                Yes, reconstruction                          \n",
       "3                                Yes, reconstruction                          \n",
       "4                                        Not avaible                          \n",
       "\n",
       "  Do you consider the building safe during an earthquake?  \\\n",
       "0                                          Yes, safe        \n",
       "1                                          Yes, safe        \n",
       "2                                          Yes, safe        \n",
       "3                                          Yes, safe        \n",
       "4                                          Yes, safe        \n",
       "\n",
       "  (QUESTION MAINLY FOR RURAL SCHOOLS) Are children in your microdistrict forced to walk more than 3 km one way to reach the school?  \\\n",
       "0                   My school is located in the city                                                                                  \n",
       "1                         Yes, not many (around 20%)                                                                                  \n",
       "2                           There is no such problem                                                                                  \n",
       "3                         Yes, not many (around 20%)                                                                                  \n",
       "4                         Yes, not many (around 20%)                                                                                  \n",
       "\n",
       "  Do you think your school's infrastructure meets modern educational requirements?  \\\n",
       "0                                                yes                                 \n",
       "1                                                yes                                 \n",
       "2                                                yes                                 \n",
       "3                                                yes                                 \n",
       "4                                                yes                                 \n",
       "\n",
       "  Are you satisfied with the condition of your school?  \\\n",
       "0                                     I am satisfied     \n",
       "1                                     I am satisfied     \n",
       "2                                     I am satisfied     \n",
       "3                                     I am satisfied     \n",
       "4                                     I am satisfied     \n",
       "\n",
       "  What material are the walls of the outdoor restroom made of?  \\\n",
       "0                                              Stone             \n",
       "1                                        Baked brick             \n",
       "2                                        Baked brick             \n",
       "3                                        Baked brick             \n",
       "4                                        Baked brick             \n",
       "\n",
       "  What is the condition of the outdoor restroom?  \\\n",
       "0       Standard (constructed based on a design)   \n",
       "1       Standard (constructed based on a design)   \n",
       "2       Standard (constructed based on a design)   \n",
       "3       Standard (constructed based on a design)   \n",
       "4       Standard (constructed based on a design)   \n",
       "\n",
       "  What is the condition of the standard (project-based) restroom?  \n",
       "0                            Repaired - satisfactory               \n",
       "1                            Repaired - satisfactory               \n",
       "2                            Repaired - satisfactory               \n",
       "3                            Repaired - satisfactory               \n",
       "4                            Repaired - satisfactory               "
      ]
     },
     "execution_count": 7,
     "metadata": {},
     "output_type": "execute_result"
    }
   ],
   "source": [
    "infrastructure_df.head()"
   ]
  },
  {
   "cell_type": "code",
   "execution_count": 8,
   "metadata": {},
   "outputs": [
    {
     "data": {
      "text/html": [
       "<div>\n",
       "<style scoped>\n",
       "    .dataframe tbody tr th:only-of-type {\n",
       "        vertical-align: middle;\n",
       "    }\n",
       "\n",
       "    .dataframe tbody tr th {\n",
       "        vertical-align: top;\n",
       "    }\n",
       "\n",
       "    .dataframe thead th {\n",
       "        text-align: right;\n",
       "    }\n",
       "</style>\n",
       "<table border=\"1\" class=\"dataframe\">\n",
       "  <thead>\n",
       "    <tr style=\"text-align: right;\">\n",
       "      <th></th>\n",
       "      <th>id</th>\n",
       "      <th>Region name</th>\n",
       "      <th>District name</th>\n",
       "      <th>School name</th>\n",
       "      <th>Availability of sports equipment in accordance with standards (balls, benches, ropes, mats, dumbbells, rings, sticks, chess, etc.)</th>\n",
       "      <th>Availability of drinking water and handwashing facilities in the kitchen</th>\n",
       "      <th>Is there a generator in the school?</th>\n",
       "      <th>Are there solar panels in the school (above 10 kW)</th>\n",
       "      <th>Source of the heating system</th>\n",
       "      <th>Fuel source for local or improvised heating systems</th>\n",
       "      <th>Availability of water in the school</th>\n",
       "      <th>Source of drinking water supply</th>\n",
       "      <th>Type of internet connection</th>\n",
       "      <th>Internet usage</th>\n",
       "      <th>Availability of fire safety equipment (fire extinguishers and other devices) and alarm systems</th>\n",
       "      <th>Availability of video surveillance cameras</th>\n",
       "      <th>Availability of public transport stops nearby</th>\n",
       "      <th>Facilities for students with musculoskeletal disorders:</th>\n",
       "      <th>Where is the functioning restroom located in the school?</th>\n",
       "      <th>Availability of doors and partitions in restroom stalls</th>\n",
       "      <th>Availability of water and soap for handwashing near restrooms</th>\n",
       "      <th>Do you think the restroom is safe for children?</th>\n",
       "      <th>Do you think there is a connection between the condition of restrooms and students' willingness to attend school?</th>\n",
       "      <th>Do you think the classrooms are warm during the autumn-winter season?</th>\n",
       "      <th>Does the school building have a water pipeline, and does water flow through it?</th>\n",
       "    </tr>\n",
       "  </thead>\n",
       "  <tbody>\n",
       "    <tr>\n",
       "      <th>0</th>\n",
       "      <td>1</td>\n",
       "      <td>Samarkand region</td>\n",
       "      <td>Bulungur district</td>\n",
       "      <td>1-sonli ixtisoslashtirilgan davlat umumta’lim ...</td>\n",
       "      <td>Almost everything is available</td>\n",
       "      <td>Completely absent</td>\n",
       "      <td>Not available</td>\n",
       "      <td>Available, providing energy to the school</td>\n",
       "      <td>Local (the heating boiler is located within th...</td>\n",
       "      <td>Coal</td>\n",
       "      <td>Available and safe to drink</td>\n",
       "      <td>Centralized (supplied through pipes from outsi...</td>\n",
       "      <td>By fiber optic or wired cable</td>\n",
       "      <td>Used within the scope of lessons</td>\n",
       "      <td>Available</td>\n",
       "      <td>Available both in the yard and inside the buil...</td>\n",
       "      <td>Available, approximately 500 meters away</td>\n",
       "      <td>Available</td>\n",
       "      <td>In the yard</td>\n",
       "      <td>There are barriers, but there are no separate ...</td>\n",
       "      <td>Available</td>\n",
       "      <td>Yes, safe</td>\n",
       "      <td>No</td>\n",
       "      <td>Yes, hot</td>\n",
       "      <td>No, there is neither water nor pipes</td>\n",
       "    </tr>\n",
       "    <tr>\n",
       "      <th>1</th>\n",
       "      <td>2</td>\n",
       "      <td>Samarkand region</td>\n",
       "      <td>Bulungur district</td>\n",
       "      <td>10-sonli umumiy o'rta ta'lim maktabi</td>\n",
       "      <td>Almost everything is available</td>\n",
       "      <td>Completely absent</td>\n",
       "      <td>Not available</td>\n",
       "      <td>Not available</td>\n",
       "      <td>Local (the heating boiler is located within th...</td>\n",
       "      <td>Coal</td>\n",
       "      <td>Available and safe to drink</td>\n",
       "      <td>Local (a well/artesian source or water tower i...</td>\n",
       "      <td>By fiber optic or wired cable</td>\n",
       "      <td>Used within the scope of lessons</td>\n",
       "      <td>Available</td>\n",
       "      <td>Available both in the yard and inside the buil...</td>\n",
       "      <td>Available, approximately 500 meters away</td>\n",
       "      <td>Available</td>\n",
       "      <td>In the yard</td>\n",
       "      <td>Available</td>\n",
       "      <td>Available</td>\n",
       "      <td>Yes, safe</td>\n",
       "      <td>No</td>\n",
       "      <td>Yes, hot</td>\n",
       "      <td>No, there is neither water nor pipes</td>\n",
       "    </tr>\n",
       "    <tr>\n",
       "      <th>2</th>\n",
       "      <td>3</td>\n",
       "      <td>Samarkand region</td>\n",
       "      <td>Bulungur district</td>\n",
       "      <td>11-sonli umumiy o'rta ta'lim maktabi</td>\n",
       "      <td>Almost everything is available</td>\n",
       "      <td>Completely absent</td>\n",
       "      <td>Available</td>\n",
       "      <td>Not available</td>\n",
       "      <td>Local (the heating boiler is located within th...</td>\n",
       "      <td>Coal</td>\n",
       "      <td>Available and safe to drink</td>\n",
       "      <td>Local (a well/artesian source or water tower i...</td>\n",
       "      <td>By fiber optic or wired cable</td>\n",
       "      <td>Used within the scope of lessons</td>\n",
       "      <td>Available</td>\n",
       "      <td>Available both in the yard and inside the buil...</td>\n",
       "      <td>Available, approximately 200 meters away</td>\n",
       "      <td>Available</td>\n",
       "      <td>In the yard</td>\n",
       "      <td>There are barriers, but there are no separate ...</td>\n",
       "      <td>Available</td>\n",
       "      <td>Yes, safe</td>\n",
       "      <td>No</td>\n",
       "      <td>Yes, hot</td>\n",
       "      <td>No, there is neither water nor pipes</td>\n",
       "    </tr>\n",
       "    <tr>\n",
       "      <th>3</th>\n",
       "      <td>4</td>\n",
       "      <td>Samarkand region</td>\n",
       "      <td>Bulungur district</td>\n",
       "      <td>12-sonli umumiy o'rta ta'lim maktabi</td>\n",
       "      <td>Almost everything is available</td>\n",
       "      <td>Completely absent</td>\n",
       "      <td>Available</td>\n",
       "      <td>Available, providing energy to the school</td>\n",
       "      <td>Local (the heating boiler is located within th...</td>\n",
       "      <td>Coal</td>\n",
       "      <td>Available and safe to drink</td>\n",
       "      <td>Centralized (supplied through pipes from outsi...</td>\n",
       "      <td>By fiber optic or wired cable</td>\n",
       "      <td>Used within the scope of lessons</td>\n",
       "      <td>Available</td>\n",
       "      <td>Available both in the yard and inside the buil...</td>\n",
       "      <td>Available, approximately 200 meters away</td>\n",
       "      <td>Available</td>\n",
       "      <td>In the yard</td>\n",
       "      <td>Available</td>\n",
       "      <td>Water is available, but there is no soap</td>\n",
       "      <td>Yes, safe</td>\n",
       "      <td>No</td>\n",
       "      <td>Yes, hot</td>\n",
       "      <td>No, there is neither water nor pipes</td>\n",
       "    </tr>\n",
       "    <tr>\n",
       "      <th>4</th>\n",
       "      <td>5</td>\n",
       "      <td>Samarkand region</td>\n",
       "      <td>Bulungur district</td>\n",
       "      <td>13-сонли умумий ўрта таълим мактаби</td>\n",
       "      <td>Almost everything is available</td>\n",
       "      <td>Completely absent</td>\n",
       "      <td>Available</td>\n",
       "      <td>Not available</td>\n",
       "      <td>Local (the heating boiler is located within th...</td>\n",
       "      <td>Coal</td>\n",
       "      <td>Available and safe to drink</td>\n",
       "      <td>Centralized (supplied through pipes from outsi...</td>\n",
       "      <td>By fiber optic or wired cable</td>\n",
       "      <td>Used within the scope of lessons</td>\n",
       "      <td>Available</td>\n",
       "      <td>Cameras are installed but not functioning</td>\n",
       "      <td>Available, approximately 200 meters away</td>\n",
       "      <td>Available</td>\n",
       "      <td>In the yard</td>\n",
       "      <td>Available</td>\n",
       "      <td>Available</td>\n",
       "      <td>Yes, safe</td>\n",
       "      <td>No</td>\n",
       "      <td>Yes, hot</td>\n",
       "      <td>No, there is neither water nor pipes</td>\n",
       "    </tr>\n",
       "  </tbody>\n",
       "</table>\n",
       "</div>"
      ],
      "text/plain": [
       "   id       Region name      District name  \\\n",
       "0   1  Samarkand region  Bulungur district   \n",
       "1   2  Samarkand region  Bulungur district   \n",
       "2   3  Samarkand region  Bulungur district   \n",
       "3   4  Samarkand region  Bulungur district   \n",
       "4   5  Samarkand region  Bulungur district   \n",
       "\n",
       "                                         School name  \\\n",
       "0  1-sonli ixtisoslashtirilgan davlat umumta’lim ...   \n",
       "1               10-sonli umumiy o'rta ta'lim maktabi   \n",
       "2               11-sonli umumiy o'rta ta'lim maktabi   \n",
       "3               12-sonli umumiy o'rta ta'lim maktabi   \n",
       "4                13-сонли умумий ўрта таълим мактаби   \n",
       "\n",
       "  Availability of sports equipment in accordance with standards (balls, benches, ropes, mats, dumbbells, rings, sticks, chess, etc.)  \\\n",
       "0                     Almost everything is available                                                                                   \n",
       "1                     Almost everything is available                                                                                   \n",
       "2                     Almost everything is available                                                                                   \n",
       "3                     Almost everything is available                                                                                   \n",
       "4                     Almost everything is available                                                                                   \n",
       "\n",
       "  Availability of drinking water and handwashing facilities in the kitchen  \\\n",
       "0                                  Completely absent                         \n",
       "1                                  Completely absent                         \n",
       "2                                  Completely absent                         \n",
       "3                                  Completely absent                         \n",
       "4                                  Completely absent                         \n",
       "\n",
       "  Is there a generator in the school?  \\\n",
       "0                       Not available   \n",
       "1                       Not available   \n",
       "2                           Available   \n",
       "3                           Available   \n",
       "4                           Available   \n",
       "\n",
       "  Are there solar panels in the school (above 10 kW)  \\\n",
       "0          Available, providing energy to the school   \n",
       "1                                      Not available   \n",
       "2                                      Not available   \n",
       "3          Available, providing energy to the school   \n",
       "4                                      Not available   \n",
       "\n",
       "                        Source of the heating system  \\\n",
       "0  Local (the heating boiler is located within th...   \n",
       "1  Local (the heating boiler is located within th...   \n",
       "2  Local (the heating boiler is located within th...   \n",
       "3  Local (the heating boiler is located within th...   \n",
       "4  Local (the heating boiler is located within th...   \n",
       "\n",
       "  Fuel source for local or improvised heating systems  \\\n",
       "0                                               Coal    \n",
       "1                                               Coal    \n",
       "2                                               Coal    \n",
       "3                                               Coal    \n",
       "4                                               Coal    \n",
       "\n",
       "  Availability of water in the school  \\\n",
       "0         Available and safe to drink   \n",
       "1         Available and safe to drink   \n",
       "2         Available and safe to drink   \n",
       "3         Available and safe to drink   \n",
       "4         Available and safe to drink   \n",
       "\n",
       "                     Source of drinking water supply  \\\n",
       "0  Centralized (supplied through pipes from outsi...   \n",
       "1  Local (a well/artesian source or water tower i...   \n",
       "2  Local (a well/artesian source or water tower i...   \n",
       "3  Centralized (supplied through pipes from outsi...   \n",
       "4  Centralized (supplied through pipes from outsi...   \n",
       "\n",
       "     Type of internet connection                    Internet usage  \\\n",
       "0  By fiber optic or wired cable  Used within the scope of lessons   \n",
       "1  By fiber optic or wired cable  Used within the scope of lessons   \n",
       "2  By fiber optic or wired cable  Used within the scope of lessons   \n",
       "3  By fiber optic or wired cable  Used within the scope of lessons   \n",
       "4  By fiber optic or wired cable  Used within the scope of lessons   \n",
       "\n",
       "  Availability of fire safety equipment (fire extinguishers and other devices) and alarm systems  \\\n",
       "0                                          Available                                               \n",
       "1                                          Available                                               \n",
       "2                                          Available                                               \n",
       "3                                          Available                                               \n",
       "4                                          Available                                               \n",
       "\n",
       "          Availability of video surveillance cameras  \\\n",
       "0  Available both in the yard and inside the buil...   \n",
       "1  Available both in the yard and inside the buil...   \n",
       "2  Available both in the yard and inside the buil...   \n",
       "3  Available both in the yard and inside the buil...   \n",
       "4          Cameras are installed but not functioning   \n",
       "\n",
       "  Availability of public transport stops nearby  \\\n",
       "0      Available, approximately 500 meters away   \n",
       "1      Available, approximately 500 meters away   \n",
       "2      Available, approximately 200 meters away   \n",
       "3      Available, approximately 200 meters away   \n",
       "4      Available, approximately 200 meters away   \n",
       "\n",
       "  Facilities for students with musculoskeletal disorders:  \\\n",
       "0                                          Available        \n",
       "1                                          Available        \n",
       "2                                          Available        \n",
       "3                                          Available        \n",
       "4                                          Available        \n",
       "\n",
       "  Where is the functioning restroom located in the school?  \\\n",
       "0                                        In the yard         \n",
       "1                                        In the yard         \n",
       "2                                        In the yard         \n",
       "3                                        In the yard         \n",
       "4                                        In the yard         \n",
       "\n",
       "  Availability of doors and partitions in restroom stalls  \\\n",
       "0  There are barriers, but there are no separate ...        \n",
       "1                                          Available        \n",
       "2  There are barriers, but there are no separate ...        \n",
       "3                                          Available        \n",
       "4                                          Available        \n",
       "\n",
       "  Availability of water and soap for handwashing near restrooms  \\\n",
       "0                                          Available              \n",
       "1                                          Available              \n",
       "2                                          Available              \n",
       "3           Water is available, but there is no soap              \n",
       "4                                          Available              \n",
       "\n",
       "  Do you think the restroom is safe for children?  \\\n",
       "0                                       Yes, safe   \n",
       "1                                       Yes, safe   \n",
       "2                                       Yes, safe   \n",
       "3                                       Yes, safe   \n",
       "4                                       Yes, safe   \n",
       "\n",
       "  Do you think there is a connection between the condition of restrooms and students' willingness to attend school?  \\\n",
       "0                                                 No                                                                  \n",
       "1                                                 No                                                                  \n",
       "2                                                 No                                                                  \n",
       "3                                                 No                                                                  \n",
       "4                                                 No                                                                  \n",
       "\n",
       "  Do you think the classrooms are warm during the autumn-winter season?  \\\n",
       "0                                           Yes, hot                      \n",
       "1                                           Yes, hot                      \n",
       "2                                           Yes, hot                      \n",
       "3                                           Yes, hot                      \n",
       "4                                           Yes, hot                      \n",
       "\n",
       "  Does the school building have a water pipeline, and does water flow through it?  \n",
       "0               No, there is neither water nor pipes                               \n",
       "1               No, there is neither water nor pipes                               \n",
       "2               No, there is neither water nor pipes                               \n",
       "3               No, there is neither water nor pipes                               \n",
       "4               No, there is neither water nor pipes                               "
      ]
     },
     "execution_count": 8,
     "metadata": {},
     "output_type": "execute_result"
    }
   ],
   "source": [
    "resources_df.head()"
   ]
  },
  {
   "cell_type": "code",
   "execution_count": 9,
   "metadata": {
    "id": "DnOaZdaE5Q5t"
   },
   "outputs": [
    {
     "data": {
      "text/html": [
       "<div>\n",
       "<style scoped>\n",
       "    .dataframe tbody tr th:only-of-type {\n",
       "        vertical-align: middle;\n",
       "    }\n",
       "\n",
       "    .dataframe tbody tr th {\n",
       "        vertical-align: top;\n",
       "    }\n",
       "\n",
       "    .dataframe thead th {\n",
       "        text-align: right;\n",
       "    }\n",
       "</style>\n",
       "<table border=\"1\" class=\"dataframe\">\n",
       "  <thead>\n",
       "    <tr style=\"text-align: right;\">\n",
       "      <th></th>\n",
       "      <th>id</th>\n",
       "      <th>Number of shifts (1, 2, or 3)</th>\n",
       "      <th>Total design capacity of the school (student capacity – enter the number of student places according to the approved construction project or passport)</th>\n",
       "      <th>Between grades 1-4</th>\n",
       "      <th>Between grades 5-9</th>\n",
       "      <th>Between grades 10-11</th>\n",
       "      <th>Total</th>\n",
       "      <th>Boys</th>\n",
       "      <th>Girls</th>\n",
       "      <th>Total.1</th>\n",
       "      <th>Men</th>\n",
       "      <th>Women</th>\n",
       "    </tr>\n",
       "  </thead>\n",
       "  <tbody>\n",
       "    <tr>\n",
       "      <th>count</th>\n",
       "      <td>1261.000000</td>\n",
       "      <td>1261.000000</td>\n",
       "      <td>1261.000000</td>\n",
       "      <td>1261.000000</td>\n",
       "      <td>1261.000000</td>\n",
       "      <td>1261.000000</td>\n",
       "      <td>1261.000000</td>\n",
       "      <td>1261.000000</td>\n",
       "      <td>1261.000000</td>\n",
       "      <td>1260.000000</td>\n",
       "      <td>1261.000000</td>\n",
       "      <td>1261.000000</td>\n",
       "    </tr>\n",
       "    <tr>\n",
       "      <th>mean</th>\n",
       "      <td>631.000000</td>\n",
       "      <td>1.824742</td>\n",
       "      <td>509.976209</td>\n",
       "      <td>24.615385</td>\n",
       "      <td>24.425852</td>\n",
       "      <td>22.348136</td>\n",
       "      <td>618.233941</td>\n",
       "      <td>310.740682</td>\n",
       "      <td>307.493259</td>\n",
       "      <td>9.078571</td>\n",
       "      <td>4.615385</td>\n",
       "      <td>4.610626</td>\n",
       "    </tr>\n",
       "    <tr>\n",
       "      <th>std</th>\n",
       "      <td>364.163654</td>\n",
       "      <td>0.386548</td>\n",
       "      <td>368.433009</td>\n",
       "      <td>6.063190</td>\n",
       "      <td>5.812706</td>\n",
       "      <td>7.106568</td>\n",
       "      <td>444.788443</td>\n",
       "      <td>230.215676</td>\n",
       "      <td>220.917257</td>\n",
       "      <td>4.782416</td>\n",
       "      <td>2.818091</td>\n",
       "      <td>2.424056</td>\n",
       "    </tr>\n",
       "    <tr>\n",
       "      <th>min</th>\n",
       "      <td>1.000000</td>\n",
       "      <td>1.000000</td>\n",
       "      <td>0.000000</td>\n",
       "      <td>0.000000</td>\n",
       "      <td>1.000000</td>\n",
       "      <td>0.000000</td>\n",
       "      <td>32.000000</td>\n",
       "      <td>14.000000</td>\n",
       "      <td>18.000000</td>\n",
       "      <td>0.000000</td>\n",
       "      <td>0.000000</td>\n",
       "      <td>0.000000</td>\n",
       "    </tr>\n",
       "    <tr>\n",
       "      <th>25%</th>\n",
       "      <td>316.000000</td>\n",
       "      <td>2.000000</td>\n",
       "      <td>260.000000</td>\n",
       "      <td>20.000000</td>\n",
       "      <td>21.000000</td>\n",
       "      <td>20.000000</td>\n",
       "      <td>326.000000</td>\n",
       "      <td>160.000000</td>\n",
       "      <td>162.000000</td>\n",
       "      <td>6.000000</td>\n",
       "      <td>3.000000</td>\n",
       "      <td>3.000000</td>\n",
       "    </tr>\n",
       "    <tr>\n",
       "      <th>50%</th>\n",
       "      <td>631.000000</td>\n",
       "      <td>2.000000</td>\n",
       "      <td>420.000000</td>\n",
       "      <td>25.000000</td>\n",
       "      <td>25.000000</td>\n",
       "      <td>23.000000</td>\n",
       "      <td>503.000000</td>\n",
       "      <td>251.000000</td>\n",
       "      <td>253.000000</td>\n",
       "      <td>8.000000</td>\n",
       "      <td>4.000000</td>\n",
       "      <td>4.000000</td>\n",
       "    </tr>\n",
       "    <tr>\n",
       "      <th>75%</th>\n",
       "      <td>946.000000</td>\n",
       "      <td>2.000000</td>\n",
       "      <td>640.000000</td>\n",
       "      <td>30.000000</td>\n",
       "      <td>29.000000</td>\n",
       "      <td>28.000000</td>\n",
       "      <td>778.000000</td>\n",
       "      <td>396.000000</td>\n",
       "      <td>387.000000</td>\n",
       "      <td>10.000000</td>\n",
       "      <td>5.000000</td>\n",
       "      <td>5.000000</td>\n",
       "    </tr>\n",
       "    <tr>\n",
       "      <th>max</th>\n",
       "      <td>1261.000000</td>\n",
       "      <td>3.000000</td>\n",
       "      <td>2040.000000</td>\n",
       "      <td>40.000000</td>\n",
       "      <td>40.000000</td>\n",
       "      <td>40.000000</td>\n",
       "      <td>4897.000000</td>\n",
       "      <td>2560.000000</td>\n",
       "      <td>2337.000000</td>\n",
       "      <td>64.000000</td>\n",
       "      <td>58.000000</td>\n",
       "      <td>32.000000</td>\n",
       "    </tr>\n",
       "  </tbody>\n",
       "</table>\n",
       "</div>"
      ],
      "text/plain": [
       "                id  Number of shifts (1, 2, or 3)  \\\n",
       "count  1261.000000                    1261.000000   \n",
       "mean    631.000000                       1.824742   \n",
       "std     364.163654                       0.386548   \n",
       "min       1.000000                       1.000000   \n",
       "25%     316.000000                       2.000000   \n",
       "50%     631.000000                       2.000000   \n",
       "75%     946.000000                       2.000000   \n",
       "max    1261.000000                       3.000000   \n",
       "\n",
       "       Total design capacity of the school (student capacity – enter the number of student places according to the approved construction project or passport)  \\\n",
       "count                                        1261.000000                                                                                                        \n",
       "mean                                          509.976209                                                                                                        \n",
       "std                                           368.433009                                                                                                        \n",
       "min                                             0.000000                                                                                                        \n",
       "25%                                           260.000000                                                                                                        \n",
       "50%                                           420.000000                                                                                                        \n",
       "75%                                           640.000000                                                                                                        \n",
       "max                                          2040.000000                                                                                                        \n",
       "\n",
       "       Between grades 1-4  Between grades 5-9  Between grades 10-11  \\\n",
       "count         1261.000000         1261.000000           1261.000000   \n",
       "mean            24.615385           24.425852             22.348136   \n",
       "std              6.063190            5.812706              7.106568   \n",
       "min              0.000000            1.000000              0.000000   \n",
       "25%             20.000000           21.000000             20.000000   \n",
       "50%             25.000000           25.000000             23.000000   \n",
       "75%             30.000000           29.000000             28.000000   \n",
       "max             40.000000           40.000000             40.000000   \n",
       "\n",
       "             Total         Boys        Girls      Total.1          Men  \\\n",
       "count  1261.000000  1261.000000  1261.000000  1260.000000  1261.000000   \n",
       "mean    618.233941   310.740682   307.493259     9.078571     4.615385   \n",
       "std     444.788443   230.215676   220.917257     4.782416     2.818091   \n",
       "min      32.000000    14.000000    18.000000     0.000000     0.000000   \n",
       "25%     326.000000   160.000000   162.000000     6.000000     3.000000   \n",
       "50%     503.000000   251.000000   253.000000     8.000000     4.000000   \n",
       "75%     778.000000   396.000000   387.000000    10.000000     5.000000   \n",
       "max    4897.000000  2560.000000  2337.000000    64.000000    58.000000   \n",
       "\n",
       "             Women  \n",
       "count  1261.000000  \n",
       "mean      4.610626  \n",
       "std       2.424056  \n",
       "min       0.000000  \n",
       "25%       3.000000  \n",
       "50%       4.000000  \n",
       "75%       5.000000  \n",
       "max      32.000000  "
      ]
     },
     "execution_count": 9,
     "metadata": {},
     "output_type": "execute_result"
    }
   ],
   "source": [
    "# Dataset Describe\n",
    "population_df.describe()"
   ]
  },
  {
   "cell_type": "code",
   "execution_count": 10,
   "metadata": {},
   "outputs": [
    {
     "data": {
      "text/html": [
       "<div>\n",
       "<style scoped>\n",
       "    .dataframe tbody tr th:only-of-type {\n",
       "        vertical-align: middle;\n",
       "    }\n",
       "\n",
       "    .dataframe tbody tr th {\n",
       "        vertical-align: top;\n",
       "    }\n",
       "\n",
       "    .dataframe thead th {\n",
       "        text-align: right;\n",
       "    }\n",
       "</style>\n",
       "<table border=\"1\" class=\"dataframe\">\n",
       "  <thead>\n",
       "    <tr style=\"text-align: right;\">\n",
       "      <th></th>\n",
       "      <th>id</th>\n",
       "      <th>Enter the year the building was constructed</th>\n",
       "      <th>If completed, enter the year</th>\n",
       "      <th>Available vacant land area on the school premises for the construction of an additional academic building</th>\n",
       "      <th>Number of academic buildings (do not include branch campuses, if any)</th>\n",
       "    </tr>\n",
       "  </thead>\n",
       "  <tbody>\n",
       "    <tr>\n",
       "      <th>count</th>\n",
       "      <td>1261.000000</td>\n",
       "      <td>1261.000000</td>\n",
       "      <td>855.000000</td>\n",
       "      <td>1261.000000</td>\n",
       "      <td>1261.000000</td>\n",
       "    </tr>\n",
       "    <tr>\n",
       "      <th>mean</th>\n",
       "      <td>631.000000</td>\n",
       "      <td>1996.011102</td>\n",
       "      <td>2007.142690</td>\n",
       "      <td>40.252419</td>\n",
       "      <td>1.589215</td>\n",
       "    </tr>\n",
       "    <tr>\n",
       "      <th>std</th>\n",
       "      <td>364.163654</td>\n",
       "      <td>18.721684</td>\n",
       "      <td>134.894297</td>\n",
       "      <td>258.000907</td>\n",
       "      <td>0.737442</td>\n",
       "    </tr>\n",
       "    <tr>\n",
       "      <th>min</th>\n",
       "      <td>1.000000</td>\n",
       "      <td>1907.000000</td>\n",
       "      <td>0.000000</td>\n",
       "      <td>0.000000</td>\n",
       "      <td>1.000000</td>\n",
       "    </tr>\n",
       "    <tr>\n",
       "      <th>25%</th>\n",
       "      <td>316.000000</td>\n",
       "      <td>1984.000000</td>\n",
       "      <td>2012.000000</td>\n",
       "      <td>5.000000</td>\n",
       "      <td>1.000000</td>\n",
       "    </tr>\n",
       "    <tr>\n",
       "      <th>50%</th>\n",
       "      <td>631.000000</td>\n",
       "      <td>2005.000000</td>\n",
       "      <td>2019.000000</td>\n",
       "      <td>10.000000</td>\n",
       "      <td>1.000000</td>\n",
       "    </tr>\n",
       "    <tr>\n",
       "      <th>75%</th>\n",
       "      <td>946.000000</td>\n",
       "      <td>2009.000000</td>\n",
       "      <td>2021.500000</td>\n",
       "      <td>25.000000</td>\n",
       "      <td>2.000000</td>\n",
       "    </tr>\n",
       "    <tr>\n",
       "      <th>max</th>\n",
       "      <td>1261.000000</td>\n",
       "      <td>2024.000000</td>\n",
       "      <td>2024.000000</td>\n",
       "      <td>6566.000000</td>\n",
       "      <td>5.000000</td>\n",
       "    </tr>\n",
       "  </tbody>\n",
       "</table>\n",
       "</div>"
      ],
      "text/plain": [
       "                id  Enter the year the building was constructed  \\\n",
       "count  1261.000000                                  1261.000000   \n",
       "mean    631.000000                                  1996.011102   \n",
       "std     364.163654                                    18.721684   \n",
       "min       1.000000                                  1907.000000   \n",
       "25%     316.000000                                  1984.000000   \n",
       "50%     631.000000                                  2005.000000   \n",
       "75%     946.000000                                  2009.000000   \n",
       "max    1261.000000                                  2024.000000   \n",
       "\n",
       "       If completed, enter the year  \\\n",
       "count                    855.000000   \n",
       "mean                    2007.142690   \n",
       "std                      134.894297   \n",
       "min                        0.000000   \n",
       "25%                     2012.000000   \n",
       "50%                     2019.000000   \n",
       "75%                     2021.500000   \n",
       "max                     2024.000000   \n",
       "\n",
       "       Available vacant land area on the school premises for the construction of an additional academic building  \\\n",
       "count                                        1261.000000                                                           \n",
       "mean                                           40.252419                                                           \n",
       "std                                           258.000907                                                           \n",
       "min                                             0.000000                                                           \n",
       "25%                                             5.000000                                                           \n",
       "50%                                            10.000000                                                           \n",
       "75%                                            25.000000                                                           \n",
       "max                                          6566.000000                                                           \n",
       "\n",
       "       Number of academic buildings (do not include branch campuses, if any)  \n",
       "count                                        1261.000000                      \n",
       "mean                                            1.589215                      \n",
       "std                                             0.737442                      \n",
       "min                                             1.000000                      \n",
       "25%                                             1.000000                      \n",
       "50%                                             1.000000                      \n",
       "75%                                             2.000000                      \n",
       "max                                             5.000000                      "
      ]
     },
     "execution_count": 10,
     "metadata": {},
     "output_type": "execute_result"
    }
   ],
   "source": [
    "infrastructure_df.describe()"
   ]
  },
  {
   "cell_type": "code",
   "execution_count": 11,
   "metadata": {},
   "outputs": [
    {
     "data": {
      "text/html": [
       "<div>\n",
       "<style scoped>\n",
       "    .dataframe tbody tr th:only-of-type {\n",
       "        vertical-align: middle;\n",
       "    }\n",
       "\n",
       "    .dataframe tbody tr th {\n",
       "        vertical-align: top;\n",
       "    }\n",
       "\n",
       "    .dataframe thead th {\n",
       "        text-align: right;\n",
       "    }\n",
       "</style>\n",
       "<table border=\"1\" class=\"dataframe\">\n",
       "  <thead>\n",
       "    <tr style=\"text-align: right;\">\n",
       "      <th></th>\n",
       "      <th>id</th>\n",
       "    </tr>\n",
       "  </thead>\n",
       "  <tbody>\n",
       "    <tr>\n",
       "      <th>count</th>\n",
       "      <td>1261.000000</td>\n",
       "    </tr>\n",
       "    <tr>\n",
       "      <th>mean</th>\n",
       "      <td>631.000000</td>\n",
       "    </tr>\n",
       "    <tr>\n",
       "      <th>std</th>\n",
       "      <td>364.163654</td>\n",
       "    </tr>\n",
       "    <tr>\n",
       "      <th>min</th>\n",
       "      <td>1.000000</td>\n",
       "    </tr>\n",
       "    <tr>\n",
       "      <th>25%</th>\n",
       "      <td>316.000000</td>\n",
       "    </tr>\n",
       "    <tr>\n",
       "      <th>50%</th>\n",
       "      <td>631.000000</td>\n",
       "    </tr>\n",
       "    <tr>\n",
       "      <th>75%</th>\n",
       "      <td>946.000000</td>\n",
       "    </tr>\n",
       "    <tr>\n",
       "      <th>max</th>\n",
       "      <td>1261.000000</td>\n",
       "    </tr>\n",
       "  </tbody>\n",
       "</table>\n",
       "</div>"
      ],
      "text/plain": [
       "                id\n",
       "count  1261.000000\n",
       "mean    631.000000\n",
       "std     364.163654\n",
       "min       1.000000\n",
       "25%     316.000000\n",
       "50%     631.000000\n",
       "75%     946.000000\n",
       "max    1261.000000"
      ]
     },
     "execution_count": 11,
     "metadata": {},
     "output_type": "execute_result"
    }
   ],
   "source": [
    "resources_df.describe()"
   ]
  },
  {
   "cell_type": "markdown",
   "metadata": {
    "id": "PBTbrJXOngz2"
   },
   "source": [
    "### Variables Description"
   ]
  },
  {
   "cell_type": "markdown",
   "metadata": {
    "id": "aJV4KIxSnxay"
   },
   "source": [
    "In the above steps we have bifurcated the dataset into 3 different dataframes: population_df, infrastructure_df, and resources_df.\n",
    "Each of these dfs have their own related columns, on which we will be performing analysis. The idea to bifurcate the dataset is to make the analysis more focused and easier to understand. \n",
    "\n",
    "Using this bifurcation we will simplfy the current position of each school in terms of capacity, infrastructure and resources. Once these positions are framed we can then use them as scores for each school in order to identify the level of development needed for each school."
   ]
  },
  {
   "cell_type": "markdown",
   "metadata": {
    "id": "u3PMJOP6ngxN"
   },
   "source": [
    "### Working on each df separately"
   ]
  },
  {
   "cell_type": "markdown",
   "metadata": {},
   "source": [
    "#### 1. Population df"
   ]
  },
  {
   "cell_type": "code",
   "execution_count": 15,
   "metadata": {
    "id": "zms12Yq5n-jE"
   },
   "outputs": [
    {
     "data": {
      "text/html": [
       "<div>\n",
       "<style scoped>\n",
       "    .dataframe tbody tr th:only-of-type {\n",
       "        vertical-align: middle;\n",
       "    }\n",
       "\n",
       "    .dataframe tbody tr th {\n",
       "        vertical-align: top;\n",
       "    }\n",
       "\n",
       "    .dataframe thead th {\n",
       "        text-align: right;\n",
       "    }\n",
       "</style>\n",
       "<table border=\"1\" class=\"dataframe\">\n",
       "  <thead>\n",
       "    <tr style=\"text-align: right;\">\n",
       "      <th></th>\n",
       "      <th>ID</th>\n",
       "      <th>region_name</th>\n",
       "      <th>district_name</th>\n",
       "      <th>school_name</th>\n",
       "      <th>elementary</th>\n",
       "      <th>total_students</th>\n",
       "      <th>boys</th>\n",
       "      <th>girls</th>\n",
       "      <th>total_staff</th>\n",
       "      <th>men</th>\n",
       "      <th>women</th>\n",
       "      <th>total_capacity</th>\n",
       "    </tr>\n",
       "  </thead>\n",
       "  <tbody>\n",
       "    <tr>\n",
       "      <th>0</th>\n",
       "      <td>1</td>\n",
       "      <td>Samarkand region</td>\n",
       "      <td>Bulungur district</td>\n",
       "      <td>1-sonli ixtisoslashtirilgan davlat umumta’lim ...</td>\n",
       "      <td>secondary (grades 1-11)</td>\n",
       "      <td>1383</td>\n",
       "      <td>714</td>\n",
       "      <td>669</td>\n",
       "      <td>10.0</td>\n",
       "      <td>5</td>\n",
       "      <td>5</td>\n",
       "      <td>1806</td>\n",
       "    </tr>\n",
       "    <tr>\n",
       "      <th>1</th>\n",
       "      <td>2</td>\n",
       "      <td>Samarkand region</td>\n",
       "      <td>Bulungur district</td>\n",
       "      <td>10-sonli umumiy o'rta ta'lim maktabi</td>\n",
       "      <td>secondary (grades 1-11)</td>\n",
       "      <td>564</td>\n",
       "      <td>296</td>\n",
       "      <td>268</td>\n",
       "      <td>6.0</td>\n",
       "      <td>3</td>\n",
       "      <td>3</td>\n",
       "      <td>700</td>\n",
       "    </tr>\n",
       "    <tr>\n",
       "      <th>2</th>\n",
       "      <td>3</td>\n",
       "      <td>Samarkand region</td>\n",
       "      <td>Bulungur district</td>\n",
       "      <td>11-sonli umumiy o'rta ta'lim maktabi</td>\n",
       "      <td>secondary (grades 1-11)</td>\n",
       "      <td>865</td>\n",
       "      <td>465</td>\n",
       "      <td>400</td>\n",
       "      <td>12.0</td>\n",
       "      <td>6</td>\n",
       "      <td>6</td>\n",
       "      <td>1060</td>\n",
       "    </tr>\n",
       "    <tr>\n",
       "      <th>3</th>\n",
       "      <td>4</td>\n",
       "      <td>Samarkand region</td>\n",
       "      <td>Bulungur district</td>\n",
       "      <td>12-sonli umumiy o'rta ta'lim maktabi</td>\n",
       "      <td>secondary (grades 1-11)</td>\n",
       "      <td>610</td>\n",
       "      <td>310</td>\n",
       "      <td>300</td>\n",
       "      <td>8.0</td>\n",
       "      <td>4</td>\n",
       "      <td>4</td>\n",
       "      <td>880</td>\n",
       "    </tr>\n",
       "    <tr>\n",
       "      <th>4</th>\n",
       "      <td>5</td>\n",
       "      <td>Samarkand region</td>\n",
       "      <td>Bulungur district</td>\n",
       "      <td>13-сонли умумий ўрта таълим мактаби</td>\n",
       "      <td>secondary (grades 1-11)</td>\n",
       "      <td>1156</td>\n",
       "      <td>720</td>\n",
       "      <td>436</td>\n",
       "      <td>8.0</td>\n",
       "      <td>4</td>\n",
       "      <td>4</td>\n",
       "      <td>1680</td>\n",
       "    </tr>\n",
       "  </tbody>\n",
       "</table>\n",
       "</div>"
      ],
      "text/plain": [
       "   ID       region_name      district_name  \\\n",
       "0   1  Samarkand region  Bulungur district   \n",
       "1   2  Samarkand region  Bulungur district   \n",
       "2   3  Samarkand region  Bulungur district   \n",
       "3   4  Samarkand region  Bulungur district   \n",
       "4   5  Samarkand region  Bulungur district   \n",
       "\n",
       "                                         school_name               elementary  \\\n",
       "0  1-sonli ixtisoslashtirilgan davlat umumta’lim ...  secondary (grades 1-11)   \n",
       "1               10-sonli umumiy o'rta ta'lim maktabi  secondary (grades 1-11)   \n",
       "2               11-sonli umumiy o'rta ta'lim maktabi  secondary (grades 1-11)   \n",
       "3               12-sonli umumiy o'rta ta'lim maktabi  secondary (grades 1-11)   \n",
       "4                13-сонли умумий ўрта таълим мактаби  secondary (grades 1-11)   \n",
       "\n",
       "   total_students  boys  girls  total_staff  men  women  total_capacity  \n",
       "0            1383   714    669         10.0    5      5            1806  \n",
       "1             564   296    268          6.0    3      3             700  \n",
       "2             865   465    400         12.0    6      6            1060  \n",
       "3             610   310    300          8.0    4      4             880  \n",
       "4            1156   720    436          8.0    4      4            1680  "
      ]
     },
     "execution_count": 15,
     "metadata": {},
     "output_type": "execute_result"
    }
   ],
   "source": [
    "population_df.head()"
   ]
  },
  {
   "cell_type": "code",
   "execution_count": 35,
   "metadata": {},
   "outputs": [
    {
     "data": {
      "text/html": [
       "<div>\n",
       "<style scoped>\n",
       "    .dataframe tbody tr th:only-of-type {\n",
       "        vertical-align: middle;\n",
       "    }\n",
       "\n",
       "    .dataframe tbody tr th {\n",
       "        vertical-align: top;\n",
       "    }\n",
       "\n",
       "    .dataframe thead th {\n",
       "        text-align: right;\n",
       "    }\n",
       "</style>\n",
       "<table border=\"1\" class=\"dataframe\">\n",
       "  <thead>\n",
       "    <tr style=\"text-align: right;\">\n",
       "      <th></th>\n",
       "      <th>ID</th>\n",
       "      <th>region_name</th>\n",
       "      <th>district_name</th>\n",
       "      <th>school_name</th>\n",
       "      <th>elementary</th>\n",
       "      <th>number_of_shifts</th>\n",
       "      <th>total_design_capacity</th>\n",
       "      <th>between_grades_1_4</th>\n",
       "      <th>between_grades_5_9</th>\n",
       "      <th>between_grades_10_11</th>\n",
       "      <th>total_students</th>\n",
       "      <th>boys</th>\n",
       "      <th>girls</th>\n",
       "      <th>total_staff</th>\n",
       "      <th>men</th>\n",
       "      <th>women</th>\n",
       "    </tr>\n",
       "  </thead>\n",
       "  <tbody>\n",
       "    <tr>\n",
       "      <th>0</th>\n",
       "      <td>1</td>\n",
       "      <td>Samarkand region</td>\n",
       "      <td>Bulungur district</td>\n",
       "      <td>1-sonli ixtisoslashtirilgan davlat umumta’lim ...</td>\n",
       "      <td>secondary (grades 1-11)</td>\n",
       "      <td>2</td>\n",
       "      <td>903</td>\n",
       "      <td>31</td>\n",
       "      <td>31</td>\n",
       "      <td>19</td>\n",
       "      <td>1383</td>\n",
       "      <td>714</td>\n",
       "      <td>669</td>\n",
       "      <td>10.0</td>\n",
       "      <td>5</td>\n",
       "      <td>5</td>\n",
       "    </tr>\n",
       "    <tr>\n",
       "      <th>1</th>\n",
       "      <td>2</td>\n",
       "      <td>Samarkand region</td>\n",
       "      <td>Bulungur district</td>\n",
       "      <td>10-sonli umumiy o'rta ta'lim maktabi</td>\n",
       "      <td>secondary (grades 1-11)</td>\n",
       "      <td>2</td>\n",
       "      <td>350</td>\n",
       "      <td>24</td>\n",
       "      <td>26</td>\n",
       "      <td>21</td>\n",
       "      <td>564</td>\n",
       "      <td>296</td>\n",
       "      <td>268</td>\n",
       "      <td>6.0</td>\n",
       "      <td>3</td>\n",
       "      <td>3</td>\n",
       "    </tr>\n",
       "    <tr>\n",
       "      <th>2</th>\n",
       "      <td>3</td>\n",
       "      <td>Samarkand region</td>\n",
       "      <td>Bulungur district</td>\n",
       "      <td>11-sonli umumiy o'rta ta'lim maktabi</td>\n",
       "      <td>secondary (grades 1-11)</td>\n",
       "      <td>2</td>\n",
       "      <td>530</td>\n",
       "      <td>25</td>\n",
       "      <td>25</td>\n",
       "      <td>25</td>\n",
       "      <td>865</td>\n",
       "      <td>465</td>\n",
       "      <td>400</td>\n",
       "      <td>12.0</td>\n",
       "      <td>6</td>\n",
       "      <td>6</td>\n",
       "    </tr>\n",
       "    <tr>\n",
       "      <th>3</th>\n",
       "      <td>4</td>\n",
       "      <td>Samarkand region</td>\n",
       "      <td>Bulungur district</td>\n",
       "      <td>12-sonli umumiy o'rta ta'lim maktabi</td>\n",
       "      <td>secondary (grades 1-11)</td>\n",
       "      <td>2</td>\n",
       "      <td>440</td>\n",
       "      <td>30</td>\n",
       "      <td>26</td>\n",
       "      <td>20</td>\n",
       "      <td>610</td>\n",
       "      <td>310</td>\n",
       "      <td>300</td>\n",
       "      <td>8.0</td>\n",
       "      <td>4</td>\n",
       "      <td>4</td>\n",
       "    </tr>\n",
       "    <tr>\n",
       "      <th>4</th>\n",
       "      <td>5</td>\n",
       "      <td>Samarkand region</td>\n",
       "      <td>Bulungur district</td>\n",
       "      <td>13-сонли умумий ўрта таълим мактаби</td>\n",
       "      <td>secondary (grades 1-11)</td>\n",
       "      <td>2</td>\n",
       "      <td>840</td>\n",
       "      <td>30</td>\n",
       "      <td>30</td>\n",
       "      <td>30</td>\n",
       "      <td>1156</td>\n",
       "      <td>720</td>\n",
       "      <td>436</td>\n",
       "      <td>8.0</td>\n",
       "      <td>4</td>\n",
       "      <td>4</td>\n",
       "    </tr>\n",
       "  </tbody>\n",
       "</table>\n",
       "</div>"
      ],
      "text/plain": [
       "   ID       region_name      district_name  \\\n",
       "0   1  Samarkand region  Bulungur district   \n",
       "1   2  Samarkand region  Bulungur district   \n",
       "2   3  Samarkand region  Bulungur district   \n",
       "3   4  Samarkand region  Bulungur district   \n",
       "4   5  Samarkand region  Bulungur district   \n",
       "\n",
       "                                         school_name               elementary  \\\n",
       "0  1-sonli ixtisoslashtirilgan davlat umumta’lim ...  secondary (grades 1-11)   \n",
       "1               10-sonli umumiy o'rta ta'lim maktabi  secondary (grades 1-11)   \n",
       "2               11-sonli umumiy o'rta ta'lim maktabi  secondary (grades 1-11)   \n",
       "3               12-sonli umumiy o'rta ta'lim maktabi  secondary (grades 1-11)   \n",
       "4                13-сонли умумий ўрта таълим мактаби  secondary (grades 1-11)   \n",
       "\n",
       "   number_of_shifts  total_design_capacity  between_grades_1_4  \\\n",
       "0                 2                    903                  31   \n",
       "1                 2                    350                  24   \n",
       "2                 2                    530                  25   \n",
       "3                 2                    440                  30   \n",
       "4                 2                    840                  30   \n",
       "\n",
       "   between_grades_5_9  between_grades_10_11  total_students  boys  girls  \\\n",
       "0                  31                    19            1383   714    669   \n",
       "1                  26                    21             564   296    268   \n",
       "2                  25                    25             865   465    400   \n",
       "3                  26                    20             610   310    300   \n",
       "4                  30                    30            1156   720    436   \n",
       "\n",
       "   total_staff  men  women  \n",
       "0         10.0    5      5  \n",
       "1          6.0    3      3  \n",
       "2         12.0    6      6  \n",
       "3          8.0    4      4  \n",
       "4          8.0    4      4  "
      ]
     },
     "execution_count": 35,
     "metadata": {},
     "output_type": "execute_result"
    }
   ],
   "source": [
    "# Renaming columns for simplicity\n",
    "population_df.rename(columns={\n",
    "    'id': 'ID',\n",
    "    'Region name': 'region_name',\n",
    "    'District name': 'district_name',\n",
    "    'School name': 'school_name',\n",
    "    'Number of shifts (1, 2, or 3)': 'number_of_shifts',\n",
    "    'Total design capacity of the school (student capacity – enter the number of student places according to the approved construction project or passport)': 'total_design_capacity',\n",
    "    'Elementary (Grades 1-4)': 'elementary',\n",
    "    'Between grades 1-4': 'between_grades_1_4',\n",
    "    'Between grades 5-9': 'between_grades_5_9',\n",
    "    'Between grades 10-11': 'between_grades_10_11',\n",
    "    'Total': 'total_students',\n",
    "    'Boys': 'boys',\n",
    "    'Girls': 'girls',\n",
    "    'Total.1': 'total_staff',\n",
    "    'Men': 'men',\n",
    "    'Women': 'women'\n",
    "}, inplace=True)\n",
    "\n",
    "# Displaying the first few rows of the DataFrame\n",
    "population_df.head()\n"
   ]
  },
  {
   "cell_type": "code",
   "execution_count": 36,
   "metadata": {},
   "outputs": [
    {
     "data": {
      "text/html": [
       "<div>\n",
       "<style scoped>\n",
       "    .dataframe tbody tr th:only-of-type {\n",
       "        vertical-align: middle;\n",
       "    }\n",
       "\n",
       "    .dataframe tbody tr th {\n",
       "        vertical-align: top;\n",
       "    }\n",
       "\n",
       "    .dataframe thead th {\n",
       "        text-align: right;\n",
       "    }\n",
       "</style>\n",
       "<table border=\"1\" class=\"dataframe\">\n",
       "  <thead>\n",
       "    <tr style=\"text-align: right;\">\n",
       "      <th></th>\n",
       "      <th>ID</th>\n",
       "      <th>region_name</th>\n",
       "      <th>district_name</th>\n",
       "      <th>school_name</th>\n",
       "      <th>elementary</th>\n",
       "      <th>total_students</th>\n",
       "      <th>boys</th>\n",
       "      <th>girls</th>\n",
       "      <th>total_staff</th>\n",
       "      <th>men</th>\n",
       "      <th>women</th>\n",
       "      <th>total_capacity</th>\n",
       "    </tr>\n",
       "  </thead>\n",
       "  <tbody>\n",
       "    <tr>\n",
       "      <th>0</th>\n",
       "      <td>1</td>\n",
       "      <td>Samarkand region</td>\n",
       "      <td>Bulungur district</td>\n",
       "      <td>1-sonli ixtisoslashtirilgan davlat umumta’lim ...</td>\n",
       "      <td>secondary (grades 1-11)</td>\n",
       "      <td>1383</td>\n",
       "      <td>714</td>\n",
       "      <td>669</td>\n",
       "      <td>10.0</td>\n",
       "      <td>5</td>\n",
       "      <td>5</td>\n",
       "      <td>1806</td>\n",
       "    </tr>\n",
       "    <tr>\n",
       "      <th>1</th>\n",
       "      <td>2</td>\n",
       "      <td>Samarkand region</td>\n",
       "      <td>Bulungur district</td>\n",
       "      <td>10-sonli umumiy o'rta ta'lim maktabi</td>\n",
       "      <td>secondary (grades 1-11)</td>\n",
       "      <td>564</td>\n",
       "      <td>296</td>\n",
       "      <td>268</td>\n",
       "      <td>6.0</td>\n",
       "      <td>3</td>\n",
       "      <td>3</td>\n",
       "      <td>700</td>\n",
       "    </tr>\n",
       "    <tr>\n",
       "      <th>2</th>\n",
       "      <td>3</td>\n",
       "      <td>Samarkand region</td>\n",
       "      <td>Bulungur district</td>\n",
       "      <td>11-sonli umumiy o'rta ta'lim maktabi</td>\n",
       "      <td>secondary (grades 1-11)</td>\n",
       "      <td>865</td>\n",
       "      <td>465</td>\n",
       "      <td>400</td>\n",
       "      <td>12.0</td>\n",
       "      <td>6</td>\n",
       "      <td>6</td>\n",
       "      <td>1060</td>\n",
       "    </tr>\n",
       "    <tr>\n",
       "      <th>3</th>\n",
       "      <td>4</td>\n",
       "      <td>Samarkand region</td>\n",
       "      <td>Bulungur district</td>\n",
       "      <td>12-sonli umumiy o'rta ta'lim maktabi</td>\n",
       "      <td>secondary (grades 1-11)</td>\n",
       "      <td>610</td>\n",
       "      <td>310</td>\n",
       "      <td>300</td>\n",
       "      <td>8.0</td>\n",
       "      <td>4</td>\n",
       "      <td>4</td>\n",
       "      <td>880</td>\n",
       "    </tr>\n",
       "    <tr>\n",
       "      <th>4</th>\n",
       "      <td>5</td>\n",
       "      <td>Samarkand region</td>\n",
       "      <td>Bulungur district</td>\n",
       "      <td>13-сонли умумий ўрта таълим мактаби</td>\n",
       "      <td>secondary (grades 1-11)</td>\n",
       "      <td>1156</td>\n",
       "      <td>720</td>\n",
       "      <td>436</td>\n",
       "      <td>8.0</td>\n",
       "      <td>4</td>\n",
       "      <td>4</td>\n",
       "      <td>1680</td>\n",
       "    </tr>\n",
       "  </tbody>\n",
       "</table>\n",
       "</div>"
      ],
      "text/plain": [
       "   ID       region_name      district_name  \\\n",
       "0   1  Samarkand region  Bulungur district   \n",
       "1   2  Samarkand region  Bulungur district   \n",
       "2   3  Samarkand region  Bulungur district   \n",
       "3   4  Samarkand region  Bulungur district   \n",
       "4   5  Samarkand region  Bulungur district   \n",
       "\n",
       "                                         school_name               elementary  \\\n",
       "0  1-sonli ixtisoslashtirilgan davlat umumta’lim ...  secondary (grades 1-11)   \n",
       "1               10-sonli umumiy o'rta ta'lim maktabi  secondary (grades 1-11)   \n",
       "2               11-sonli umumiy o'rta ta'lim maktabi  secondary (grades 1-11)   \n",
       "3               12-sonli umumiy o'rta ta'lim maktabi  secondary (grades 1-11)   \n",
       "4                13-сонли умумий ўрта таълим мактаби  secondary (grades 1-11)   \n",
       "\n",
       "   total_students  boys  girls  total_staff  men  women  total_capacity  \n",
       "0            1383   714    669         10.0    5      5            1806  \n",
       "1             564   296    268          6.0    3      3             700  \n",
       "2             865   465    400         12.0    6      6            1060  \n",
       "3             610   310    300          8.0    4      4             880  \n",
       "4            1156   720    436          8.0    4      4            1680  "
      ]
     },
     "execution_count": 36,
     "metadata": {},
     "output_type": "execute_result"
    }
   ],
   "source": [
    "# Creating a column for total capacity as per shifts\n",
    "population_df['total_capacity'] = population_df['total_design_capacity'] * population_df['number_of_shifts']\n",
    "\n",
    "# Filtering the df only with required columns\n",
    "population_df = population_df[['ID', 'region_name', 'district_name', 'school_name', 'elementary','total_students', 'boys', 'girls', 'total_staff', 'men', 'women', 'total_capacity']]\n",
    "\n",
    "# Displaying the first few rows of the DataFrame\n",
    "population_df.head()"
   ]
  },
  {
   "cell_type": "code",
   "execution_count": 38,
   "metadata": {},
   "outputs": [
    {
     "data": {
      "text/plain": [
       "count    1261.000000\n",
       "mean      310.011895\n",
       "std       525.602518\n",
       "min     -1640.000000\n",
       "25%        80.000000\n",
       "50%       191.000000\n",
       "75%       383.000000\n",
       "max      3941.000000\n",
       "Name: difference, dtype: float64"
      ]
     },
     "execution_count": 38,
     "metadata": {},
     "output_type": "execute_result"
    }
   ],
   "source": [
    "# creating a column to check the difference of total_students and total_capacity\n",
    "population_df['difference'] = population_df['total_capacity'] - population_df['total_students']\n",
    "population_df['difference'].describe()"
   ]
  },
  {
   "cell_type": "code",
   "execution_count": 39,
   "metadata": {},
   "outputs": [],
   "source": [
    "Q1 = population_df['difference'].quantile(0.25)\n",
    "Q3 = population_df['difference'].quantile(0.75)\n",
    "IQR = Q3 - Q1\n",
    "\n",
    "population_df = population_df[(population_df['difference'] >= Q1 - 1.5 * IQR) & (population_df['difference'] <= Q3 + 1.5 * IQR)]\n",
    "\n",
    "# creating a usage % column to check the usage of the total capacity\n",
    "population_df['usage %'] = round((population_df['total_students'] / population_df['total_capacity'])*100, 2)"
   ]
  },
  {
   "cell_type": "code",
   "execution_count": 43,
   "metadata": {},
   "outputs": [
    {
     "name": "stderr",
     "output_type": "stream",
     "text": [
      "c:\\Users\\hp\\AppData\\Local\\Programs\\Python\\Python39\\lib\\site-packages\\pandas\\core\\nanops.py:1016: RuntimeWarning: invalid value encountered in subtract\n",
      "  sqr = _ensure_numeric((avg - values) ** 2)\n"
     ]
    },
    {
     "data": {
      "text/html": [
       "<div>\n",
       "<style scoped>\n",
       "    .dataframe tbody tr th:only-of-type {\n",
       "        vertical-align: middle;\n",
       "    }\n",
       "\n",
       "    .dataframe tbody tr th {\n",
       "        vertical-align: top;\n",
       "    }\n",
       "\n",
       "    .dataframe thead th {\n",
       "        text-align: right;\n",
       "    }\n",
       "</style>\n",
       "<table border=\"1\" class=\"dataframe\">\n",
       "  <thead>\n",
       "    <tr style=\"text-align: right;\">\n",
       "      <th></th>\n",
       "      <th>ID</th>\n",
       "      <th>total_students</th>\n",
       "      <th>boys</th>\n",
       "      <th>girls</th>\n",
       "      <th>total_staff</th>\n",
       "      <th>men</th>\n",
       "      <th>women</th>\n",
       "      <th>total_capacity</th>\n",
       "      <th>difference</th>\n",
       "      <th>usage %</th>\n",
       "    </tr>\n",
       "  </thead>\n",
       "  <tbody>\n",
       "    <tr>\n",
       "      <th>count</th>\n",
       "      <td>1178.000000</td>\n",
       "      <td>1178.000000</td>\n",
       "      <td>1178.000000</td>\n",
       "      <td>1178.000000</td>\n",
       "      <td>1177.000000</td>\n",
       "      <td>1178.000000</td>\n",
       "      <td>1178.000000</td>\n",
       "      <td>1178.000000</td>\n",
       "      <td>1178.000000</td>\n",
       "      <td>1178.000000</td>\n",
       "    </tr>\n",
       "    <tr>\n",
       "      <th>mean</th>\n",
       "      <td>619.280136</td>\n",
       "      <td>593.624788</td>\n",
       "      <td>298.780985</td>\n",
       "      <td>294.843803</td>\n",
       "      <td>8.953271</td>\n",
       "      <td>4.559423</td>\n",
       "      <td>4.551783</td>\n",
       "      <td>820.240238</td>\n",
       "      <td>226.615450</td>\n",
       "      <td>73.321808</td>\n",
       "    </tr>\n",
       "    <tr>\n",
       "      <th>std</th>\n",
       "      <td>361.359064</td>\n",
       "      <td>403.447832</td>\n",
       "      <td>209.952828</td>\n",
       "      <td>197.121135</td>\n",
       "      <td>4.461707</td>\n",
       "      <td>2.714438</td>\n",
       "      <td>2.269696</td>\n",
       "      <td>502.352793</td>\n",
       "      <td>200.403664</td>\n",
       "      <td>19.289842</td>\n",
       "    </tr>\n",
       "    <tr>\n",
       "      <th>min</th>\n",
       "      <td>1.000000</td>\n",
       "      <td>51.000000</td>\n",
       "      <td>24.000000</td>\n",
       "      <td>21.000000</td>\n",
       "      <td>0.000000</td>\n",
       "      <td>0.000000</td>\n",
       "      <td>0.000000</td>\n",
       "      <td>120.000000</td>\n",
       "      <td>-308.000000</td>\n",
       "      <td>22.080000</td>\n",
       "    </tr>\n",
       "    <tr>\n",
       "      <th>25%</th>\n",
       "      <td>306.250000</td>\n",
       "      <td>322.250000</td>\n",
       "      <td>159.000000</td>\n",
       "      <td>160.250000</td>\n",
       "      <td>6.000000</td>\n",
       "      <td>3.000000</td>\n",
       "      <td>3.000000</td>\n",
       "      <td>460.000000</td>\n",
       "      <td>80.000000</td>\n",
       "      <td>60.560000</td>\n",
       "    </tr>\n",
       "    <tr>\n",
       "      <th>50%</th>\n",
       "      <td>612.500000</td>\n",
       "      <td>496.500000</td>\n",
       "      <td>248.000000</td>\n",
       "      <td>246.500000</td>\n",
       "      <td>8.000000</td>\n",
       "      <td>4.000000</td>\n",
       "      <td>4.000000</td>\n",
       "      <td>720.000000</td>\n",
       "      <td>179.000000</td>\n",
       "      <td>71.425000</td>\n",
       "    </tr>\n",
       "    <tr>\n",
       "      <th>75%</th>\n",
       "      <td>927.500000</td>\n",
       "      <td>739.500000</td>\n",
       "      <td>379.000000</td>\n",
       "      <td>369.000000</td>\n",
       "      <td>10.000000</td>\n",
       "      <td>5.000000</td>\n",
       "      <td>5.000000</td>\n",
       "      <td>1080.000000</td>\n",
       "      <td>344.500000</td>\n",
       "      <td>84.722500</td>\n",
       "    </tr>\n",
       "    <tr>\n",
       "      <th>max</th>\n",
       "      <td>1261.000000</td>\n",
       "      <td>3297.000000</td>\n",
       "      <td>1845.000000</td>\n",
       "      <td>1453.000000</td>\n",
       "      <td>58.000000</td>\n",
       "      <td>58.000000</td>\n",
       "      <td>29.000000</td>\n",
       "      <td>3648.000000</td>\n",
       "      <td>832.000000</td>\n",
       "      <td>238.890000</td>\n",
       "    </tr>\n",
       "  </tbody>\n",
       "</table>\n",
       "</div>"
      ],
      "text/plain": [
       "                ID  total_students         boys        girls  total_staff  \\\n",
       "count  1178.000000     1178.000000  1178.000000  1178.000000  1177.000000   \n",
       "mean    619.280136      593.624788   298.780985   294.843803     8.953271   \n",
       "std     361.359064      403.447832   209.952828   197.121135     4.461707   \n",
       "min       1.000000       51.000000    24.000000    21.000000     0.000000   \n",
       "25%     306.250000      322.250000   159.000000   160.250000     6.000000   \n",
       "50%     612.500000      496.500000   248.000000   246.500000     8.000000   \n",
       "75%     927.500000      739.500000   379.000000   369.000000    10.000000   \n",
       "max    1261.000000     3297.000000  1845.000000  1453.000000    58.000000   \n",
       "\n",
       "               men        women  total_capacity   difference      usage %  \n",
       "count  1178.000000  1178.000000     1178.000000  1178.000000  1178.000000  \n",
       "mean      4.559423     4.551783      820.240238   226.615450    73.321808  \n",
       "std       2.714438     2.269696      502.352793   200.403664    19.289842  \n",
       "min       0.000000     0.000000      120.000000  -308.000000    22.080000  \n",
       "25%       3.000000     3.000000      460.000000    80.000000    60.560000  \n",
       "50%       4.000000     4.000000      720.000000   179.000000    71.425000  \n",
       "75%       5.000000     5.000000     1080.000000   344.500000    84.722500  \n",
       "max      58.000000    29.000000     3648.000000   832.000000   238.890000  "
      ]
     },
     "execution_count": 43,
     "metadata": {},
     "output_type": "execute_result"
    }
   ],
   "source": [
    "population_df.describe()\n",
    "\n",
    "# We can see that few values in the total capacity column are 0 which is not possible hence we will drop the values where the capacity is less than 100\n",
    "population_df = population_df[population_df['total_capacity'] > 100]\n",
    "\n",
    "# Displaying the description of the DataFrame\n",
    "population_df.describe()\n"
   ]
  },
  {
   "cell_type": "code",
   "execution_count": 45,
   "metadata": {},
   "outputs": [
    {
     "data": {
      "image/png": "[encoded data removed]",
      "text/plain": [
       "<Figure size 640x480 with 1 Axes>"
      ]
     },
     "metadata": {},
     "output_type": "display_data"
    }
   ],
   "source": [
    "# visualizing the usage %\n",
    "sns.histplot(data=population_df['usage %'], kde=True)\n",
    "plt.show()\n",
    "\n",
    "# We can see that the usage % is normally distributed but there are values where the usage is more than 100% making the school overcrowded \n",
    "# On the other hand there are values where the usage is less than 50% making the school underutilized"
   ]
  },
  {
   "cell_type": "code",
   "execution_count": 48,
   "metadata": {},
   "outputs": [
    {
     "data": {
      "text/html": [
       "<div>\n",
       "<style scoped>\n",
       "    .dataframe tbody tr th:only-of-type {\n",
       "        vertical-align: middle;\n",
       "    }\n",
       "\n",
       "    .dataframe tbody tr th {\n",
       "        vertical-align: top;\n",
       "    }\n",
       "\n",
       "    .dataframe thead th {\n",
       "        text-align: right;\n",
       "    }\n",
       "</style>\n",
       "<table border=\"1\" class=\"dataframe\">\n",
       "  <thead>\n",
       "    <tr style=\"text-align: right;\">\n",
       "      <th></th>\n",
       "      <th>ID</th>\n",
       "      <th>region_name</th>\n",
       "      <th>district_name</th>\n",
       "      <th>school_name</th>\n",
       "      <th>usage %</th>\n",
       "      <th>z_score</th>\n",
       "      <th>Need_Category</th>\n",
       "    </tr>\n",
       "  </thead>\n",
       "  <tbody>\n",
       "    <tr>\n",
       "      <th>0</th>\n",
       "      <td>1</td>\n",
       "      <td>Samarkand region</td>\n",
       "      <td>Bulungur district</td>\n",
       "      <td>1-sonli ixtisoslashtirilgan davlat umumta’lim ...</td>\n",
       "      <td>76.58</td>\n",
       "      <td>0.168979</td>\n",
       "      <td>YELLOW (Optimal)</td>\n",
       "    </tr>\n",
       "    <tr>\n",
       "      <th>1</th>\n",
       "      <td>2</td>\n",
       "      <td>Samarkand region</td>\n",
       "      <td>Bulungur district</td>\n",
       "      <td>10-sonli umumiy o'rta ta'lim maktabi</td>\n",
       "      <td>80.57</td>\n",
       "      <td>0.375911</td>\n",
       "      <td>YELLOW (Optimal)</td>\n",
       "    </tr>\n",
       "    <tr>\n",
       "      <th>2</th>\n",
       "      <td>3</td>\n",
       "      <td>Samarkand region</td>\n",
       "      <td>Bulungur district</td>\n",
       "      <td>11-sonli umumiy o'rta ta'lim maktabi</td>\n",
       "      <td>81.60</td>\n",
       "      <td>0.429330</td>\n",
       "      <td>YELLOW (Optimal)</td>\n",
       "    </tr>\n",
       "    <tr>\n",
       "      <th>3</th>\n",
       "      <td>4</td>\n",
       "      <td>Samarkand region</td>\n",
       "      <td>Bulungur district</td>\n",
       "      <td>12-sonli umumiy o'rta ta'lim maktabi</td>\n",
       "      <td>69.32</td>\n",
       "      <td>-0.207545</td>\n",
       "      <td>YELLOW (Optimal)</td>\n",
       "    </tr>\n",
       "    <tr>\n",
       "      <th>4</th>\n",
       "      <td>5</td>\n",
       "      <td>Samarkand region</td>\n",
       "      <td>Bulungur district</td>\n",
       "      <td>13-сонли умумий ўрта таълим мактаби</td>\n",
       "      <td>68.81</td>\n",
       "      <td>-0.233995</td>\n",
       "      <td>YELLOW (Optimal)</td>\n",
       "    </tr>\n",
       "  </tbody>\n",
       "</table>\n",
       "</div>"
      ],
      "text/plain": [
       "   ID       region_name      district_name  \\\n",
       "0   1  Samarkand region  Bulungur district   \n",
       "1   2  Samarkand region  Bulungur district   \n",
       "2   3  Samarkand region  Bulungur district   \n",
       "3   4  Samarkand region  Bulungur district   \n",
       "4   5  Samarkand region  Bulungur district   \n",
       "\n",
       "                                         school_name  usage %   z_score  \\\n",
       "0  1-sonli ixtisoslashtirilgan davlat umumta’lim ...    76.58  0.168979   \n",
       "1               10-sonli umumiy o'rta ta'lim maktabi    80.57  0.375911   \n",
       "2               11-sonli umumiy o'rta ta'lim maktabi    81.60  0.429330   \n",
       "3               12-sonli umumiy o'rta ta'lim maktabi    69.32 -0.207545   \n",
       "4                13-сонли умумий ўрта таълим мактаби    68.81 -0.233995   \n",
       "\n",
       "      Need_Category  \n",
       "0  YELLOW (Optimal)  \n",
       "1  YELLOW (Optimal)  \n",
       "2  YELLOW (Optimal)  \n",
       "3  YELLOW (Optimal)  \n",
       "4  YELLOW (Optimal)  "
      ]
     },
     "execution_count": 48,
     "metadata": {},
     "output_type": "execute_result"
    }
   ],
   "source": [
    "# Now in the final step we will assign a z-score as per the usage % of the school\n",
    "# Calculate Z-score for 'usage %'\n",
    "population_df[\"z_score\"] = zscore(population_df[\"usage %\"])\n",
    "\n",
    "# Define categories based on Z-score\n",
    "def categorize_usage(z):\n",
    "    if z > 2:\n",
    "        return \"RED (Overcrowded)\"\n",
    "    elif z < -1:\n",
    "        return \"GREEN (Underutilized)\"\n",
    "    else:\n",
    "        return \"YELLOW (Optimal)\"\n",
    "\n",
    "population_df[\"Need_Category\"] = population_df[\"z_score\"].apply(categorize_usage)\n",
    "\n",
    "# Display summary\n",
    "population_df = population_df[['ID', 'region_name', 'district_name', 'school_name', 'usage %', 'z_score', 'Need_Category']]\n",
    "population_df.head()\n"
   ]
  },
  {
   "cell_type": "markdown",
   "metadata": {
    "id": "bKJF3rekwFvQ"
   },
   "source": [
    "### Data Wrangling Code"
   ]
  },
  {
   "cell_type": "code",
   "execution_count": null,
   "metadata": {
    "id": "wk-9a2fpoLcV"
   },
   "outputs": [],
   "source": [
    "# Write your code to make your dataset analysis ready."
   ]
  },
  {
   "cell_type": "markdown",
   "metadata": {
    "id": "MSa1f5Uengrz"
   },
   "source": [
    "### What all manipulations have you done and insights you found?"
   ]
  },
  {
   "cell_type": "markdown",
   "metadata": {
    "id": "LbyXE7I1olp8"
   },
   "source": [
    "Answer Here."
   ]
  },
  {
   "cell_type": "markdown",
   "metadata": {
    "id": "GF8Ens_Soomf"
   },
   "source": [
    "## ***4. Data Vizualization, Storytelling & Experimenting with charts : Understand the relationships between variables***"
   ]
  },
  {
   "cell_type": "markdown",
   "metadata": {
    "id": "0wOQAZs5pc--"
   },
   "source": [
    "#### Chart - 1"
   ]
  },
  {
   "cell_type": "code",
   "execution_count": null,
   "metadata": {
    "id": "7v_ESjsspbW7"
   },
   "outputs": [],
   "source": [
    "# Chart - 1 visualization code"
   ]
  },
  {
   "cell_type": "markdown",
   "metadata": {
    "id": "K5QZ13OEpz2H"
   },
   "source": [
    "##### 1. Why did you pick the specific chart?"
   ]
  },
  {
   "cell_type": "markdown",
   "metadata": {
    "id": "XESiWehPqBRc"
   },
   "source": [
    "Answer Here."
   ]
  },
  {
   "cell_type": "markdown",
   "metadata": {
    "id": "lQ7QKXXCp7Bj"
   },
   "source": [
    "##### 2. What is/are the insight(s) found from the chart?"
   ]
  },
  {
   "cell_type": "markdown",
   "metadata": {
    "id": "C_j1G7yiqdRP"
   },
   "source": [
    "Answer Here"
   ]
  },
  {
   "cell_type": "markdown",
   "metadata": {
    "id": "448CDAPjqfQr"
   },
   "source": [
    "##### 3. Will the gained insights help creating a positive business impact? \n",
    "Are there any insights that lead to negative growth? Justify with specific reason."
   ]
  },
  {
   "cell_type": "markdown",
   "metadata": {
    "id": "3cspy4FjqxJW"
   },
   "source": [
    "Answer Here"
   ]
  },
  {
   "cell_type": "markdown",
   "metadata": {
    "id": "KSlN3yHqYklG"
   },
   "source": [
    "#### Chart - 2"
   ]
  },
  {
   "cell_type": "code",
   "execution_count": null,
   "metadata": {
    "id": "R4YgtaqtYklH"
   },
   "outputs": [],
   "source": [
    "# Chart - 2 visualization code"
   ]
  },
  {
   "cell_type": "markdown",
   "metadata": {
    "id": "t6dVpIINYklI"
   },
   "source": [
    "##### 1. Why did you pick the specific chart?"
   ]
  },
  {
   "cell_type": "markdown",
   "metadata": {
    "id": "5aaW0BYyYklI"
   },
   "source": [
    "Answer Here."
   ]
  },
  {
   "cell_type": "markdown",
   "metadata": {
    "id": "ijmpgYnKYklI"
   },
   "source": [
    "##### 2. What is/are the insight(s) found from the chart?"
   ]
  },
  {
   "cell_type": "markdown",
   "metadata": {
    "id": "PSx9atu2YklI"
   },
   "source": [
    "Answer Here"
   ]
  },
  {
   "cell_type": "markdown",
   "metadata": {
    "id": "-JiQyfWJYklI"
   },
   "source": [
    "##### 3. Will the gained insights help creating a positive business impact? \n",
    "Are there any insights that lead to negative growth? Justify with specific reason."
   ]
  },
  {
   "cell_type": "markdown",
   "metadata": {
    "id": "BcBbebzrYklV"
   },
   "source": [
    "Answer Here"
   ]
  },
  {
   "cell_type": "markdown",
   "metadata": {
    "id": "EM7whBJCYoAo"
   },
   "source": [
    "#### Chart - 3"
   ]
  },
  {
   "cell_type": "code",
   "execution_count": null,
   "metadata": {
    "id": "t6GMdE67YoAp"
   },
   "outputs": [],
   "source": [
    "# Chart - 3 visualization code"
   ]
  },
  {
   "cell_type": "markdown",
   "metadata": {
    "id": "fge-S5ZAYoAp"
   },
   "source": [
    "##### 1. Why did you pick the specific chart?"
   ]
  },
  {
   "cell_type": "markdown",
   "metadata": {
    "id": "5dBItgRVYoAp"
   },
   "source": [
    "Answer Here."
   ]
  },
  {
   "cell_type": "markdown",
   "metadata": {
    "id": "85gYPyotYoAp"
   },
   "source": [
    "##### 2. What is/are the insight(s) found from the chart?"
   ]
  },
  {
   "cell_type": "markdown",
   "metadata": {
    "id": "4jstXR6OYoAp"
   },
   "source": [
    "Answer Here"
   ]
  },
  {
   "cell_type": "markdown",
   "metadata": {
    "id": "RoGjAbkUYoAp"
   },
   "source": [
    "##### 3. Will the gained insights help creating a positive business impact? \n",
    "Are there any insights that lead to negative growth? Justify with specific reason."
   ]
  },
  {
   "cell_type": "markdown",
   "metadata": {
    "id": "zfJ8IqMcYoAp"
   },
   "source": [
    "Answer Here"
   ]
  },
  {
   "cell_type": "markdown",
   "metadata": {
    "id": "4Of9eVA-YrdM"
   },
   "source": [
    "#### Chart - 4"
   ]
  },
  {
   "cell_type": "code",
   "execution_count": null,
   "metadata": {
    "id": "irlUoxc8YrdO"
   },
   "outputs": [],
   "source": [
    "# Chart - 4 visualization code"
   ]
  },
  {
   "cell_type": "markdown",
   "metadata": {
    "id": "iky9q4vBYrdO"
   },
   "source": [
    "##### 1. Why did you pick the specific chart?"
   ]
  },
  {
   "cell_type": "markdown",
   "metadata": {
    "id": "aJRCwT6DYrdO"
   },
   "source": [
    "Answer Here."
   ]
  },
  {
   "cell_type": "markdown",
   "metadata": {
    "id": "F6T5p64dYrdO"
   },
   "source": [
    "##### 2. What is/are the insight(s) found from the chart?"
   ]
  },
  {
   "cell_type": "markdown",
   "metadata": {
    "id": "Xx8WAJvtYrdO"
   },
   "source": [
    "Answer Here"
   ]
  },
  {
   "cell_type": "markdown",
   "metadata": {
    "id": "y-Ehk30pYrdP"
   },
   "source": [
    "##### 3. Will the gained insights help creating a positive business impact? \n",
    "Are there any insights that lead to negative growth? Justify with specific reason."
   ]
  },
  {
   "cell_type": "markdown",
   "metadata": {
    "id": "jLNxxz7MYrdP"
   },
   "source": [
    "Answer Here"
   ]
  },
  {
   "cell_type": "markdown",
   "metadata": {
    "id": "bamQiAODYuh1"
   },
   "source": [
    "#### Chart - 5"
   ]
  },
  {
   "cell_type": "code",
   "execution_count": null,
   "metadata": {
    "id": "TIJwrbroYuh3"
   },
   "outputs": [],
   "source": [
    "# Chart - 5 visualization code"
   ]
  },
  {
   "cell_type": "markdown",
   "metadata": {
    "id": "QHF8YVU7Yuh3"
   },
   "source": [
    "##### 1. Why did you pick the specific chart?"
   ]
  },
  {
   "cell_type": "markdown",
   "metadata": {
    "id": "dcxuIMRPYuh3"
   },
   "source": [
    "Answer Here."
   ]
  },
  {
   "cell_type": "markdown",
   "metadata": {
    "id": "GwzvFGzlYuh3"
   },
   "source": [
    "##### 2. What is/are the insight(s) found from the chart?"
   ]
  },
  {
   "cell_type": "markdown",
   "metadata": {
    "id": "uyqkiB8YYuh3"
   },
   "source": [
    "Answer Here"
   ]
  },
  {
   "cell_type": "markdown",
   "metadata": {
    "id": "qYpmQ266Yuh3"
   },
   "source": [
    "##### 3. Will the gained insights help creating a positive business impact? \n",
    "Are there any insights that lead to negative growth? Justify with specific reason."
   ]
  },
  {
   "cell_type": "markdown",
   "metadata": {
    "id": "_WtzZ_hCYuh4"
   },
   "source": [
    "Answer Here"
   ]
  },
  {
   "cell_type": "markdown",
   "metadata": {
    "id": "OH-pJp9IphqM"
   },
   "source": [
    "#### Chart - 6"
   ]
  },
  {
   "cell_type": "code",
   "execution_count": null,
   "metadata": {
    "id": "kuRf4wtuphqN"
   },
   "outputs": [],
   "source": [
    "# Chart - 6 visualization code"
   ]
  },
  {
   "cell_type": "markdown",
   "metadata": {
    "id": "bbFf2-_FphqN"
   },
   "source": [
    "##### 1. Why did you pick the specific chart?"
   ]
  },
  {
   "cell_type": "markdown",
   "metadata": {
    "id": "loh7H2nzphqN"
   },
   "source": [
    "Answer Here."
   ]
  },
  {
   "cell_type": "markdown",
   "metadata": {
    "id": "_ouA3fa0phqN"
   },
   "source": [
    "##### 2. What is/are the insight(s) found from the chart?"
   ]
  },
  {
   "cell_type": "markdown",
   "metadata": {
    "id": "VECbqPI7phqN"
   },
   "source": [
    "Answer Here"
   ]
  },
  {
   "cell_type": "markdown",
   "metadata": {
    "id": "Seke61FWphqN"
   },
   "source": [
    "##### 3. Will the gained insights help creating a positive business impact? \n",
    "Are there any insights that lead to negative growth? Justify with specific reason."
   ]
  },
  {
   "cell_type": "markdown",
   "metadata": {
    "id": "DW4_bGpfphqN"
   },
   "source": [
    "Answer Here"
   ]
  },
  {
   "cell_type": "markdown",
   "metadata": {
    "id": "PIIx-8_IphqN"
   },
   "source": [
    "#### Chart - 7"
   ]
  },
  {
   "cell_type": "code",
   "execution_count": null,
   "metadata": {
    "id": "lqAIGUfyphqO"
   },
   "outputs": [],
   "source": [
    "# Chart - 7 visualization code"
   ]
  },
  {
   "cell_type": "markdown",
   "metadata": {
    "id": "t27r6nlMphqO"
   },
   "source": [
    "##### 1. Why did you pick the specific chart?"
   ]
  },
  {
   "cell_type": "markdown",
   "metadata": {
    "id": "iv6ro40sphqO"
   },
   "source": [
    "Answer Here."
   ]
  },
  {
   "cell_type": "markdown",
   "metadata": {
    "id": "r2jJGEOYphqO"
   },
   "source": [
    "##### 2. What is/are the insight(s) found from the chart?"
   ]
  },
  {
   "cell_type": "markdown",
   "metadata": {
    "id": "Po6ZPi4hphqO"
   },
   "source": [
    "Answer Here"
   ]
  },
  {
   "cell_type": "markdown",
   "metadata": {
    "id": "b0JNsNcRphqO"
   },
   "source": [
    "##### 3. Will the gained insights help creating a positive business impact? \n",
    "Are there any insights that lead to negative growth? Justify with specific reason."
   ]
  },
  {
   "cell_type": "markdown",
   "metadata": {
    "id": "xvSq8iUTphqO"
   },
   "source": [
    "Answer Here"
   ]
  },
  {
   "cell_type": "markdown",
   "metadata": {
    "id": "BZR9WyysphqO"
   },
   "source": [
    "#### Chart - 8"
   ]
  },
  {
   "cell_type": "code",
   "execution_count": null,
   "metadata": {
    "id": "TdPTWpAVphqO"
   },
   "outputs": [],
   "source": [
    "# Chart - 8 visualization code"
   ]
  },
  {
   "cell_type": "markdown",
   "metadata": {
    "id": "jj7wYXLtphqO"
   },
   "source": [
    "##### 1. Why did you pick the specific chart?"
   ]
  },
  {
   "cell_type": "markdown",
   "metadata": {
    "id": "Ob8u6rCTphqO"
   },
   "source": [
    "Answer Here."
   ]
  },
  {
   "cell_type": "markdown",
   "metadata": {
    "id": "eZrbJ2SmphqO"
   },
   "source": [
    "##### 2. What is/are the insight(s) found from the chart?"
   ]
  },
  {
   "cell_type": "markdown",
   "metadata": {
    "id": "mZtgC_hjphqO"
   },
   "source": [
    "Answer Here"
   ]
  },
  {
   "cell_type": "markdown",
   "metadata": {
    "id": "rFu4xreNphqO"
   },
   "source": [
    "##### 3. Will the gained insights help creating a positive business impact? \n",
    "Are there any insights that lead to negative growth? Justify with specific reason."
   ]
  },
  {
   "cell_type": "markdown",
   "metadata": {
    "id": "ey_0qi68phqO"
   },
   "source": [
    "Answer Here"
   ]
  },
  {
   "cell_type": "markdown",
   "metadata": {
    "id": "YJ55k-q6phqO"
   },
   "source": [
    "#### Chart - 9"
   ]
  },
  {
   "cell_type": "code",
   "execution_count": null,
   "metadata": {
    "id": "B2aS4O1ophqO"
   },
   "outputs": [],
   "source": [
    "# Chart - 9 visualization code"
   ]
  },
  {
   "cell_type": "markdown",
   "metadata": {
    "id": "gCFgpxoyphqP"
   },
   "source": [
    "##### 1. Why did you pick the specific chart?"
   ]
  },
  {
   "cell_type": "markdown",
   "metadata": {
    "id": "TVxDimi2phqP"
   },
   "source": [
    "Answer Here."
   ]
  },
  {
   "cell_type": "markdown",
   "metadata": {
    "id": "OVtJsKN_phqQ"
   },
   "source": [
    "##### 2. What is/are the insight(s) found from the chart?"
   ]
  },
  {
   "cell_type": "markdown",
   "metadata": {
    "id": "ngGi97qjphqQ"
   },
   "source": [
    "Answer Here"
   ]
  },
  {
   "cell_type": "markdown",
   "metadata": {
    "id": "lssrdh5qphqQ"
   },
   "source": [
    "##### 3. Will the gained insights help creating a positive business impact? \n",
    "Are there any insights that lead to negative growth? Justify with specific reason."
   ]
  },
  {
   "cell_type": "markdown",
   "metadata": {
    "id": "tBpY5ekJphqQ"
   },
   "source": [
    "Answer Here"
   ]
  },
  {
   "cell_type": "markdown",
   "metadata": {
    "id": "U2RJ9gkRphqQ"
   },
   "source": [
    "#### Chart - 10"
   ]
  },
  {
   "cell_type": "code",
   "execution_count": null,
   "metadata": {
    "id": "GM7a4YP4phqQ"
   },
   "outputs": [],
   "source": [
    "# Chart - 10 visualization code"
   ]
  },
  {
   "cell_type": "markdown",
   "metadata": {
    "id": "1M8mcRywphqQ"
   },
   "source": [
    "##### 1. Why did you pick the specific chart?"
   ]
  },
  {
   "cell_type": "markdown",
   "metadata": {
    "id": "8agQvks0phqQ"
   },
   "source": [
    "Answer Here."
   ]
  },
  {
   "cell_type": "markdown",
   "metadata": {
    "id": "tgIPom80phqQ"
   },
   "source": [
    "##### 2. What is/are the insight(s) found from the chart?"
   ]
  },
  {
   "cell_type": "markdown",
   "metadata": {
    "id": "Qp13pnNzphqQ"
   },
   "source": [
    "Answer Here"
   ]
  },
  {
   "cell_type": "markdown",
   "metadata": {
    "id": "JMzcOPDDphqR"
   },
   "source": [
    "##### 3. Will the gained insights help creating a positive business impact? \n",
    "Are there any insights that lead to negative growth? Justify with specific reason."
   ]
  },
  {
   "cell_type": "markdown",
   "metadata": {
    "id": "R4Ka1PC2phqR"
   },
   "source": [
    "Answer Here"
   ]
  },
  {
   "cell_type": "markdown",
   "metadata": {
    "id": "x-EpHcCOp1ci"
   },
   "source": [
    "#### Chart - 11"
   ]
  },
  {
   "cell_type": "code",
   "execution_count": null,
   "metadata": {
    "id": "mAQTIvtqp1cj"
   },
   "outputs": [],
   "source": [
    "# Chart - 11 visualization code"
   ]
  },
  {
   "cell_type": "markdown",
   "metadata": {
    "id": "X_VqEhTip1ck"
   },
   "source": [
    "##### 1. Why did you pick the specific chart?"
   ]
  },
  {
   "cell_type": "markdown",
   "metadata": {
    "id": "-vsMzt_np1ck"
   },
   "source": [
    "Answer Here."
   ]
  },
  {
   "cell_type": "markdown",
   "metadata": {
    "id": "8zGJKyg5p1ck"
   },
   "source": [
    "##### 2. What is/are the insight(s) found from the chart?"
   ]
  },
  {
   "cell_type": "markdown",
   "metadata": {
    "id": "ZYdMsrqVp1ck"
   },
   "source": [
    "Answer Here"
   ]
  },
  {
   "cell_type": "markdown",
   "metadata": {
    "id": "PVzmfK_Ep1ck"
   },
   "source": [
    "##### 3. Will the gained insights help creating a positive business impact? \n",
    "Are there any insights that lead to negative growth? Justify with specific reason."
   ]
  },
  {
   "cell_type": "markdown",
   "metadata": {
    "id": "druuKYZpp1ck"
   },
   "source": [
    "Answer Here"
   ]
  },
  {
   "cell_type": "markdown",
   "metadata": {
    "id": "n3dbpmDWp1ck"
   },
   "source": [
    "#### Chart - 12"
   ]
  },
  {
   "cell_type": "code",
   "execution_count": null,
   "metadata": {
    "id": "bwevp1tKp1ck"
   },
   "outputs": [],
   "source": [
    "# Chart - 12 visualization code"
   ]
  },
  {
   "cell_type": "markdown",
   "metadata": {
    "id": "ylSl6qgtp1ck"
   },
   "source": [
    "##### 1. Why did you pick the specific chart?"
   ]
  },
  {
   "cell_type": "markdown",
   "metadata": {
    "id": "m2xqNkiQp1ck"
   },
   "source": [
    "Answer Here."
   ]
  },
  {
   "cell_type": "markdown",
   "metadata": {
    "id": "ZWILFDl5p1ck"
   },
   "source": [
    "##### 2. What is/are the insight(s) found from the chart?"
   ]
  },
  {
   "cell_type": "markdown",
   "metadata": {
    "id": "x-lUsV2mp1ck"
   },
   "source": [
    "Answer Here"
   ]
  },
  {
   "cell_type": "markdown",
   "metadata": {
    "id": "M7G43BXep1ck"
   },
   "source": [
    "##### 3. Will the gained insights help creating a positive business impact? \n",
    "Are there any insights that lead to negative growth? Justify with specific reason."
   ]
  },
  {
   "cell_type": "markdown",
   "metadata": {
    "id": "5wwDJXsLp1cl"
   },
   "source": [
    "Answer Here"
   ]
  },
  {
   "cell_type": "markdown",
   "metadata": {
    "id": "Ag9LCva-p1cl"
   },
   "source": [
    "#### Chart - 13"
   ]
  },
  {
   "cell_type": "code",
   "execution_count": null,
   "metadata": {
    "id": "EUfxeq9-p1cl"
   },
   "outputs": [],
   "source": [
    "# Chart - 13 visualization code"
   ]
  },
  {
   "cell_type": "markdown",
   "metadata": {
    "id": "E6MkPsBcp1cl"
   },
   "source": [
    "##### 1. Why did you pick the specific chart?"
   ]
  },
  {
   "cell_type": "markdown",
   "metadata": {
    "id": "V22bRsFWp1cl"
   },
   "source": [
    "Answer Here."
   ]
  },
  {
   "cell_type": "markdown",
   "metadata": {
    "id": "2cELzS2fp1cl"
   },
   "source": [
    "##### 2. What is/are the insight(s) found from the chart?"
   ]
  },
  {
   "cell_type": "markdown",
   "metadata": {
    "id": "ozQPc2_Ip1cl"
   },
   "source": [
    "Answer Here"
   ]
  },
  {
   "cell_type": "markdown",
   "metadata": {
    "id": "3MPXvC8up1cl"
   },
   "source": [
    "##### 3. Will the gained insights help creating a positive business impact? \n",
    "Are there any insights that lead to negative growth? Justify with specific reason."
   ]
  },
  {
   "cell_type": "markdown",
   "metadata": {
    "id": "GL8l1tdLp1cl"
   },
   "source": [
    "Answer Here"
   ]
  },
  {
   "cell_type": "markdown",
   "metadata": {
    "id": "NC_X3p0fY2L0"
   },
   "source": [
    "#### Chart - 14 - Correlation Heatmap"
   ]
  },
  {
   "cell_type": "code",
   "execution_count": null,
   "metadata": {
    "id": "xyC9zolEZNRQ"
   },
   "outputs": [],
   "source": [
    "# Correlation Heatmap visualization code"
   ]
  },
  {
   "cell_type": "markdown",
   "metadata": {
    "id": "UV0SzAkaZNRQ"
   },
   "source": [
    "##### 1. Why did you pick the specific chart?"
   ]
  },
  {
   "cell_type": "markdown",
   "metadata": {
    "id": "DVPuT8LYZNRQ"
   },
   "source": [
    "Answer Here."
   ]
  },
  {
   "cell_type": "markdown",
   "metadata": {
    "id": "YPEH6qLeZNRQ"
   },
   "source": [
    "##### 2. What is/are the insight(s) found from the chart?"
   ]
  },
  {
   "cell_type": "markdown",
   "metadata": {
    "id": "bfSqtnDqZNRR"
   },
   "source": [
    "Answer Here"
   ]
  },
  {
   "cell_type": "markdown",
   "metadata": {
    "id": "q29F0dvdveiT"
   },
   "source": [
    "#### Chart - 15 - Pair Plot "
   ]
  },
  {
   "cell_type": "code",
   "execution_count": null,
   "metadata": {
    "id": "o58-TEIhveiU"
   },
   "outputs": [],
   "source": [
    "# Pair Plot visualization code"
   ]
  },
  {
   "cell_type": "markdown",
   "metadata": {
    "id": "EXh0U9oCveiU"
   },
   "source": [
    "##### 1. Why did you pick the specific chart?"
   ]
  },
  {
   "cell_type": "markdown",
   "metadata": {
    "id": "eMmPjTByveiU"
   },
   "source": [
    "Answer Here."
   ]
  },
  {
   "cell_type": "markdown",
   "metadata": {
    "id": "22aHeOlLveiV"
   },
   "source": [
    "##### 2. What is/are the insight(s) found from the chart?"
   ]
  },
  {
   "cell_type": "markdown",
   "metadata": {
    "id": "uPQ8RGwHveiV"
   },
   "source": [
    "Answer Here"
   ]
  },
  {
   "cell_type": "markdown",
   "metadata": {
    "id": "g-ATYxFrGrvw"
   },
   "source": [
    "## ***5. Hypothesis Testing***"
   ]
  },
  {
   "cell_type": "markdown",
   "metadata": {
    "id": "Yfr_Vlr8HBkt"
   },
   "source": [
    "### Based on your chart experiments, define three hypothetical statements from the dataset. In the next three questions, perform hypothesis testing to obtain final conclusion about the statements through your code and statistical testing."
   ]
  },
  {
   "cell_type": "markdown",
   "metadata": {
    "id": "-7MS06SUHkB-"
   },
   "source": [
    "Answer Here."
   ]
  },
  {
   "cell_type": "markdown",
   "metadata": {
    "id": "8yEUt7NnHlrM"
   },
   "source": [
    "### Hypothetical Statement - 1"
   ]
  },
  {
   "cell_type": "markdown",
   "metadata": {
    "id": "tEA2Xm5dHt1r"
   },
   "source": [
    "#### 1. State Your research hypothesis as a null hypothesis and alternate hypothesis."
   ]
  },
  {
   "cell_type": "markdown",
   "metadata": {
    "id": "HI9ZP0laH0D-"
   },
   "source": [
    "Answer Here."
   ]
  },
  {
   "cell_type": "markdown",
   "metadata": {
    "id": "I79__PHVH19G"
   },
   "source": [
    "#### 2. Perform an appropriate statistical test."
   ]
  },
  {
   "cell_type": "code",
   "execution_count": null,
   "metadata": {
    "id": "oZrfquKtyian"
   },
   "outputs": [],
   "source": [
    "# Perform Statistical Test to obtain P-Value"
   ]
  },
  {
   "cell_type": "markdown",
   "metadata": {
    "id": "Ou-I18pAyIpj"
   },
   "source": [
    "##### Which statistical test have you done to obtain P-Value?"
   ]
  },
  {
   "cell_type": "markdown",
   "metadata": {
    "id": "s2U0kk00ygSB"
   },
   "source": [
    "Answer Here."
   ]
  },
  {
   "cell_type": "markdown",
   "metadata": {
    "id": "fF3858GYyt-u"
   },
   "source": [
    "##### Why did you choose the specific statistical test?"
   ]
  },
  {
   "cell_type": "markdown",
   "metadata": {
    "id": "HO4K0gP5y3B4"
   },
   "source": [
    "Answer Here."
   ]
  },
  {
   "cell_type": "markdown",
   "metadata": {
    "id": "4_0_7-oCpUZd"
   },
   "source": [
    "### Hypothetical Statement - 2"
   ]
  },
  {
   "cell_type": "markdown",
   "metadata": {
    "id": "hwyV_J3ipUZe"
   },
   "source": [
    "#### 1. State Your research hypothesis as a null hypothesis and alternate hypothesis."
   ]
  },
  {
   "cell_type": "markdown",
   "metadata": {
    "id": "FnpLGJ-4pUZe"
   },
   "source": [
    "Answer Here."
   ]
  },
  {
   "cell_type": "markdown",
   "metadata": {
    "id": "3yB-zSqbpUZe"
   },
   "source": [
    "#### 2. Perform an appropriate statistical test."
   ]
  },
  {
   "cell_type": "code",
   "execution_count": null,
   "metadata": {
    "id": "sWxdNTXNpUZe"
   },
   "outputs": [],
   "source": [
    "# Perform Statistical Test to obtain P-Value"
   ]
  },
  {
   "cell_type": "markdown",
   "metadata": {
    "id": "dEUvejAfpUZe"
   },
   "source": [
    "##### Which statistical test have you done to obtain P-Value?"
   ]
  },
  {
   "cell_type": "markdown",
   "metadata": {
    "id": "oLDrPz7HpUZf"
   },
   "source": [
    "Answer Here."
   ]
  },
  {
   "cell_type": "markdown",
   "metadata": {
    "id": "Fd15vwWVpUZf"
   },
   "source": [
    "##### Why did you choose the specific statistical test?"
   ]
  },
  {
   "cell_type": "markdown",
   "metadata": {
    "id": "4xOGYyiBpUZf"
   },
   "source": [
    "Answer Here."
   ]
  },
  {
   "cell_type": "markdown",
   "metadata": {
    "id": "bn_IUdTipZyH"
   },
   "source": [
    "### Hypothetical Statement - 3"
   ]
  },
  {
   "cell_type": "markdown",
   "metadata": {
    "id": "49K5P_iCpZyH"
   },
   "source": [
    "#### 1. State Your research hypothesis as a null hypothesis and alternate hypothesis."
   ]
  },
  {
   "cell_type": "markdown",
   "metadata": {
    "id": "7gWI5rT9pZyH"
   },
   "source": [
    "Answer Here."
   ]
  },
  {
   "cell_type": "markdown",
   "metadata": {
    "id": "Nff-vKELpZyI"
   },
   "source": [
    "#### 2. Perform an appropriate statistical test."
   ]
  },
  {
   "cell_type": "code",
   "execution_count": null,
   "metadata": {
    "id": "s6AnJQjtpZyI"
   },
   "outputs": [],
   "source": [
    "# Perform Statistical Test to obtain P-Value"
   ]
  },
  {
   "cell_type": "markdown",
   "metadata": {
    "id": "kLW572S8pZyI"
   },
   "source": [
    "##### Which statistical test have you done to obtain P-Value?"
   ]
  },
  {
   "cell_type": "markdown",
   "metadata": {
    "id": "ytWJ8v15pZyI"
   },
   "source": [
    "Answer Here."
   ]
  },
  {
   "cell_type": "markdown",
   "metadata": {
    "id": "dWbDXHzopZyI"
   },
   "source": [
    "##### Why did you choose the specific statistical test?"
   ]
  },
  {
   "cell_type": "markdown",
   "metadata": {
    "id": "M99G98V6pZyI"
   },
   "source": [
    "Answer Here."
   ]
  },
  {
   "cell_type": "markdown",
   "metadata": {
    "id": "yLjJCtPM0KBk"
   },
   "source": [
    "## ***6. Feature Engineering & Data Pre-processing***"
   ]
  },
  {
   "cell_type": "markdown",
   "metadata": {
    "id": "xiyOF9F70UgQ"
   },
   "source": [
    "### 1. Handling Missing Values"
   ]
  },
  {
   "cell_type": "code",
   "execution_count": null,
   "metadata": {
    "id": "iRsAHk1K0fpS"
   },
   "outputs": [],
   "source": [
    "# Handling Missing Values & Missing Value Imputation"
   ]
  },
  {
   "cell_type": "markdown",
   "metadata": {
    "id": "7wuGOrhz0itI"
   },
   "source": [
    "#### What all missing value imputation techniques have you used and why did you use those techniques?"
   ]
  },
  {
   "cell_type": "markdown",
   "metadata": {
    "id": "1ixusLtI0pqI"
   },
   "source": [
    "Answer Here."
   ]
  },
  {
   "cell_type": "markdown",
   "metadata": {
    "id": "id1riN9m0vUs"
   },
   "source": [
    "### 2. Handling Outliers"
   ]
  },
  {
   "cell_type": "code",
   "execution_count": null,
   "metadata": {
    "id": "M6w2CzZf04JK"
   },
   "outputs": [],
   "source": [
    "# Handling Outliers & Outlier treatments"
   ]
  },
  {
   "cell_type": "markdown",
   "metadata": {
    "id": "578E2V7j08f6"
   },
   "source": [
    "##### What all outlier treatment techniques have you used and why did you use those techniques?"
   ]
  },
  {
   "cell_type": "markdown",
   "metadata": {
    "id": "uGZz5OrT1HH-"
   },
   "source": [
    "Answer Here."
   ]
  },
  {
   "cell_type": "markdown",
   "metadata": {
    "id": "89xtkJwZ18nB"
   },
   "source": [
    "### 3. Categorical Encoding"
   ]
  },
  {
   "cell_type": "code",
   "execution_count": null,
   "metadata": {
    "id": "21JmIYMG2hEo"
   },
   "outputs": [],
   "source": [
    "# Encode your categorical columns"
   ]
  },
  {
   "cell_type": "markdown",
   "metadata": {
    "id": "67NQN5KX2AMe"
   },
   "source": [
    "#### What all categorical encoding techniques have you used & why did you use those techniques?"
   ]
  },
  {
   "cell_type": "markdown",
   "metadata": {
    "id": "UDaue5h32n_G"
   },
   "source": [
    "Answer Here."
   ]
  },
  {
   "cell_type": "markdown",
   "metadata": {
    "id": "Iwf50b-R2tYG"
   },
   "source": [
    "### 4. Textual Data Preprocessing \n",
    "(It's mandatory for textual dataset i.e., NLP, Sentiment Analysis, Text Clustering etc.)"
   ]
  },
  {
   "cell_type": "markdown",
   "metadata": {
    "id": "GMQiZwjn3iu7"
   },
   "source": [
    "#### 1. Expand Contraction"
   ]
  },
  {
   "cell_type": "code",
   "execution_count": null,
   "metadata": {
    "id": "PTouz10C3oNN"
   },
   "outputs": [],
   "source": [
    "# Expand Contraction"
   ]
  },
  {
   "cell_type": "markdown",
   "metadata": {
    "id": "WVIkgGqN3qsr"
   },
   "source": [
    "#### 2. Lower Casing"
   ]
  },
  {
   "cell_type": "code",
   "execution_count": null,
   "metadata": {
    "id": "88JnJ1jN3w7j"
   },
   "outputs": [],
   "source": [
    "# Lower Casing"
   ]
  },
  {
   "cell_type": "markdown",
   "metadata": {
    "id": "XkPnILGE3zoT"
   },
   "source": [
    "#### 3. Removing Punctuations"
   ]
  },
  {
   "cell_type": "code",
   "execution_count": null,
   "metadata": {
    "id": "vqbBqNaA33c0"
   },
   "outputs": [],
   "source": [
    "# Remove Punctuations"
   ]
  },
  {
   "cell_type": "markdown",
   "metadata": {
    "id": "Hlsf0x5436Go"
   },
   "source": [
    "#### 4. Removing URLs & Removing words and digits contain digits."
   ]
  },
  {
   "cell_type": "code",
   "execution_count": null,
   "metadata": {
    "id": "2sxKgKxu4Ip3"
   },
   "outputs": [],
   "source": [
    "# Remove URLs & Remove words and digits contain digits"
   ]
  },
  {
   "cell_type": "markdown",
   "metadata": {
    "id": "mT9DMSJo4nBL"
   },
   "source": [
    "#### 5. Removing Stopwords & Removing White spaces"
   ]
  },
  {
   "cell_type": "code",
   "execution_count": null,
   "metadata": {
    "id": "T2LSJh154s8W"
   },
   "outputs": [],
   "source": [
    "# Remove Stopwords"
   ]
  },
  {
   "cell_type": "code",
   "execution_count": null,
   "metadata": {
    "id": "EgLJGffy4vm0"
   },
   "outputs": [],
   "source": [
    "# Remove White spaces"
   ]
  },
  {
   "cell_type": "markdown",
   "metadata": {
    "id": "c49ITxTc407N"
   },
   "source": [
    "#### 6. Rephrase Text"
   ]
  },
  {
   "cell_type": "code",
   "execution_count": null,
   "metadata": {
    "id": "foqY80Qu48N2"
   },
   "outputs": [],
   "source": [
    "# Rephrase Text"
   ]
  },
  {
   "cell_type": "markdown",
   "metadata": {
    "id": "OeJFEK0N496M"
   },
   "source": [
    "#### 7. Tokenization"
   ]
  },
  {
   "cell_type": "code",
   "execution_count": null,
   "metadata": {
    "id": "ijx1rUOS5CUU"
   },
   "outputs": [],
   "source": [
    "# Tokenization"
   ]
  },
  {
   "cell_type": "markdown",
   "metadata": {
    "id": "9ExmJH0g5HBk"
   },
   "source": [
    "#### 8. Text Normalization"
   ]
  },
  {
   "cell_type": "code",
   "execution_count": null,
   "metadata": {
    "id": "AIJ1a-Zc5PY8"
   },
   "outputs": [],
   "source": [
    "# Normalizing Text (i.e., Stemming, Lemmatization etc.)"
   ]
  },
  {
   "cell_type": "markdown",
   "metadata": {
    "id": "cJNqERVU536h"
   },
   "source": [
    "##### Which text normalization technique have you used and why?"
   ]
  },
  {
   "cell_type": "markdown",
   "metadata": {
    "id": "Z9jKVxE06BC1"
   },
   "source": [
    "Answer Here."
   ]
  },
  {
   "cell_type": "markdown",
   "metadata": {
    "id": "k5UmGsbsOxih"
   },
   "source": [
    "#### 9. Part of speech tagging"
   ]
  },
  {
   "cell_type": "code",
   "execution_count": null,
   "metadata": {
    "id": "btT3ZJBAO6Ik"
   },
   "outputs": [],
   "source": [
    "# POS Taging"
   ]
  },
  {
   "cell_type": "markdown",
   "metadata": {
    "id": "T0VqWOYE6DLQ"
   },
   "source": [
    "#### 10. Text Vectorization"
   ]
  },
  {
   "cell_type": "code",
   "execution_count": null,
   "metadata": {
    "id": "yBRtdhth6JDE"
   },
   "outputs": [],
   "source": [
    "# Vectorizing Text"
   ]
  },
  {
   "cell_type": "markdown",
   "metadata": {
    "id": "qBMux9mC6MCf"
   },
   "source": [
    "##### Which text vectorization technique have you used and why?"
   ]
  },
  {
   "cell_type": "markdown",
   "metadata": {
    "id": "su2EnbCh6UKQ"
   },
   "source": [
    "Answer Here."
   ]
  },
  {
   "cell_type": "markdown",
   "metadata": {
    "id": "-oLEiFgy-5Pf"
   },
   "source": [
    "### 4. Feature Manipulation & Selection"
   ]
  },
  {
   "cell_type": "markdown",
   "metadata": {
    "id": "C74aWNz2AliB"
   },
   "source": [
    "#### 1. Feature Manipulation"
   ]
  },
  {
   "cell_type": "code",
   "execution_count": null,
   "metadata": {
    "id": "h1qC4yhBApWC"
   },
   "outputs": [],
   "source": [
    "# Manipulate Features to minimize feature correlation and create new features"
   ]
  },
  {
   "cell_type": "markdown",
   "metadata": {
    "id": "2DejudWSA-a0"
   },
   "source": [
    "#### 2. Feature Selection"
   ]
  },
  {
   "cell_type": "code",
   "execution_count": null,
   "metadata": {
    "id": "YLhe8UmaBCEE"
   },
   "outputs": [],
   "source": [
    "# Select your features wisely to avoid overfitting"
   ]
  },
  {
   "cell_type": "markdown",
   "metadata": {
    "id": "pEMng2IbBLp7"
   },
   "source": [
    "##### What all feature selection methods have you used  and why?"
   ]
  },
  {
   "cell_type": "markdown",
   "metadata": {
    "id": "rb2Lh6Z8BgGs"
   },
   "source": [
    "Answer Here."
   ]
  },
  {
   "cell_type": "markdown",
   "metadata": {
    "id": "rAdphbQ9Bhjc"
   },
   "source": [
    "##### Which all features you found important and why?"
   ]
  },
  {
   "cell_type": "markdown",
   "metadata": {
    "id": "fGgaEstsBnaf"
   },
   "source": [
    "Answer Here."
   ]
  },
  {
   "cell_type": "markdown",
   "metadata": {
    "id": "TNVZ9zx19K6k"
   },
   "source": [
    "### 5. Data Transformation"
   ]
  },
  {
   "cell_type": "markdown",
   "metadata": {
    "id": "nqoHp30x9hH9"
   },
   "source": [
    "#### Do you think that your data needs to be transformed? If yes, which transformation have you used. Explain Why?"
   ]
  },
  {
   "cell_type": "code",
   "execution_count": null,
   "metadata": {
    "id": "I6quWQ1T9rtH"
   },
   "outputs": [],
   "source": [
    "# Transform Your data"
   ]
  },
  {
   "cell_type": "markdown",
   "metadata": {
    "id": "rMDnDkt2B6du"
   },
   "source": [
    "### 6. Data Scaling"
   ]
  },
  {
   "cell_type": "code",
   "execution_count": null,
   "metadata": {
    "id": "dL9LWpySC6x_"
   },
   "outputs": [],
   "source": [
    "# Scaling your data"
   ]
  },
  {
   "cell_type": "markdown",
   "metadata": {
    "id": "yiiVWRdJDDil"
   },
   "source": [
    "##### Which method have you used to scale you data and why?"
   ]
  },
  {
   "cell_type": "markdown",
   "metadata": {
    "id": "1UUpS68QDMuG"
   },
   "source": [
    "### 7. Dimesionality Reduction"
   ]
  },
  {
   "cell_type": "markdown",
   "metadata": {
    "id": "kexQrXU-DjzY"
   },
   "source": [
    "##### Do you think that dimensionality reduction is needed? Explain Why?"
   ]
  },
  {
   "cell_type": "markdown",
   "metadata": {
    "id": "GGRlBsSGDtTQ"
   },
   "source": [
    "Answer Here."
   ]
  },
  {
   "cell_type": "code",
   "execution_count": null,
   "metadata": {
    "id": "kQfvxBBHDvCa"
   },
   "outputs": [],
   "source": [
    "# DImensionality Reduction (If needed)"
   ]
  },
  {
   "cell_type": "markdown",
   "metadata": {
    "id": "T5CmagL3EC8N"
   },
   "source": [
    "##### Which dimensionality reduction technique have you used and why? (If dimensionality reduction done on dataset.)"
   ]
  },
  {
   "cell_type": "markdown",
   "metadata": {
    "id": "ZKr75IDuEM7t"
   },
   "source": [
    "Answer Here."
   ]
  },
  {
   "cell_type": "markdown",
   "metadata": {
    "id": "BhH2vgX9EjGr"
   },
   "source": [
    "### 8. Data Splitting"
   ]
  },
  {
   "cell_type": "code",
   "execution_count": null,
   "metadata": {
    "id": "0CTyd2UwEyNM"
   },
   "outputs": [],
   "source": [
    "# Split your data to train and test. Choose Splitting ratio wisely."
   ]
  },
  {
   "cell_type": "markdown",
   "metadata": {
    "id": "qjKvONjwE8ra"
   },
   "source": [
    "##### What data splitting ratio have you used and why? "
   ]
  },
  {
   "cell_type": "markdown",
   "metadata": {
    "id": "Y2lJ8cobFDb_"
   },
   "source": [
    "Answer Here."
   ]
  },
  {
   "cell_type": "markdown",
   "metadata": {
    "id": "P1XJ9OREExlT"
   },
   "source": [
    "### 9. Handling Imbalanced Dataset"
   ]
  },
  {
   "cell_type": "markdown",
   "metadata": {
    "id": "VFOzZv6IFROw"
   },
   "source": [
    "##### Do you think the dataset is imbalanced? Explain Why."
   ]
  },
  {
   "cell_type": "markdown",
   "metadata": {
    "id": "GeKDIv7pFgcC"
   },
   "source": [
    "Answer Here."
   ]
  },
  {
   "cell_type": "code",
   "execution_count": null,
   "metadata": {
    "id": "nQsRhhZLFiDs"
   },
   "outputs": [],
   "source": [
    "# Handling Imbalanced Dataset (If needed)"
   ]
  },
  {
   "cell_type": "markdown",
   "metadata": {
    "id": "TIqpNgepFxVj"
   },
   "source": [
    "##### What technique did you use to handle the imbalance dataset and why? (If needed to be balanced)"
   ]
  },
  {
   "cell_type": "markdown",
   "metadata": {
    "id": "qbet1HwdGDTz"
   },
   "source": [
    "Answer Here."
   ]
  },
  {
   "cell_type": "markdown",
   "metadata": {
    "id": "VfCC591jGiD4"
   },
   "source": [
    "## ***7. ML Model Implementation***"
   ]
  },
  {
   "cell_type": "markdown",
   "metadata": {
    "id": "OB4l2ZhMeS1U"
   },
   "source": [
    "### ML Model - 1"
   ]
  },
  {
   "cell_type": "code",
   "execution_count": null,
   "metadata": {
    "id": "7ebyywQieS1U"
   },
   "outputs": [],
   "source": [
    "# ML Model - 1 Implementation\n",
    "\n",
    "# Fit the Algorithm\n",
    "\n",
    "# Predict on the model"
   ]
  },
  {
   "cell_type": "markdown",
   "metadata": {
    "id": "ArJBuiUVfxKd"
   },
   "source": [
    "#### 1. Explain the ML Model used and it's performance using Evaluation metric Score Chart."
   ]
  },
  {
   "cell_type": "code",
   "execution_count": null,
   "metadata": {
    "id": "rqD5ZohzfxKe"
   },
   "outputs": [],
   "source": [
    "# Visualizing evaluation Metric Score chart"
   ]
  },
  {
   "cell_type": "markdown",
   "metadata": {
    "id": "4qY1EAkEfxKe"
   },
   "source": [
    "#### 2. Cross- Validation & Hyperparameter Tuning"
   ]
  },
  {
   "cell_type": "code",
   "execution_count": null,
   "metadata": {
    "id": "Dy61ujd6fxKe"
   },
   "outputs": [],
   "source": [
    "# ML Model - 1 Implementation with hyperparameter optimization techniques (i.e., GridSearch CV, RandomSearch CV, Bayesian Optimization etc.)\n",
    "\n",
    "# Fit the Algorithm\n",
    "\n",
    "# Predict on the model"
   ]
  },
  {
   "cell_type": "markdown",
   "metadata": {
    "id": "PiV4Ypx8fxKe"
   },
   "source": [
    "##### Which hyperparameter optimization technique have you used and why?"
   ]
  },
  {
   "cell_type": "markdown",
   "metadata": {
    "id": "negyGRa7fxKf"
   },
   "source": [
    "Answer Here."
   ]
  },
  {
   "cell_type": "markdown",
   "metadata": {
    "id": "TfvqoZmBfxKf"
   },
   "source": [
    "##### Have you seen any improvement? Note down the improvement with updates Evaluation metric Score Chart."
   ]
  },
  {
   "cell_type": "markdown",
   "metadata": {
    "id": "OaLui8CcfxKf"
   },
   "source": [
    "Answer Here."
   ]
  },
  {
   "cell_type": "markdown",
   "metadata": {
    "id": "dJ2tPlVmpsJ0"
   },
   "source": [
    "### ML Model - 2"
   ]
  },
  {
   "cell_type": "markdown",
   "metadata": {
    "id": "JWYfwnehpsJ1"
   },
   "source": [
    "#### 1. Explain the ML Model used and it's performance using Evaluation metric Score Chart."
   ]
  },
  {
   "cell_type": "code",
   "execution_count": null,
   "metadata": {
    "id": "yEl-hgQWpsJ1"
   },
   "outputs": [],
   "source": [
    "# Visualizing evaluation Metric Score chart"
   ]
  },
  {
   "cell_type": "markdown",
   "metadata": {
    "id": "-jK_YjpMpsJ2"
   },
   "source": [
    "#### 2. Cross- Validation & Hyperparameter Tuning"
   ]
  },
  {
   "cell_type": "code",
   "execution_count": null,
   "metadata": {
    "id": "Dn0EOfS6psJ2"
   },
   "outputs": [],
   "source": [
    "# ML Model - 1 Implementation with hyperparameter optimization techniques (i.e., GridSearch CV, RandomSearch CV, Bayesian Optimization etc.)\n",
    "\n",
    "# Fit the Algorithm\n",
    "\n",
    "# Predict on the model"
   ]
  },
  {
   "cell_type": "markdown",
   "metadata": {
    "id": "HAih1iBOpsJ2"
   },
   "source": [
    "##### Which hyperparameter optimization technique have you used and why?"
   ]
  },
  {
   "cell_type": "markdown",
   "metadata": {
    "id": "9kBgjYcdpsJ2"
   },
   "source": [
    "Answer Here."
   ]
  },
  {
   "cell_type": "markdown",
   "metadata": {
    "id": "zVGeBEFhpsJ2"
   },
   "source": [
    "##### Have you seen any improvement? Note down the improvement with updates Evaluation metric Score Chart."
   ]
  },
  {
   "cell_type": "markdown",
   "metadata": {
    "id": "74yRdG6UpsJ3"
   },
   "source": [
    "Answer Here."
   ]
  },
  {
   "cell_type": "markdown",
   "metadata": {
    "id": "bmKjuQ-FpsJ3"
   },
   "source": [
    "#### 3. Explain each evaluation metric's indication towards business and the business impact pf the ML model used."
   ]
  },
  {
   "cell_type": "markdown",
   "metadata": {
    "id": "BDKtOrBQpsJ3"
   },
   "source": [
    "Answer Here."
   ]
  },
  {
   "cell_type": "markdown",
   "metadata": {
    "id": "Fze-IPXLpx6K"
   },
   "source": [
    "### ML Model - 3"
   ]
  },
  {
   "cell_type": "code",
   "execution_count": null,
   "metadata": {
    "id": "FFrSXAtrpx6M"
   },
   "outputs": [],
   "source": [
    "# ML Model - 3 Implementation\n",
    "\n",
    "# Fit the Algorithm\n",
    "\n",
    "# Predict on the model"
   ]
  },
  {
   "cell_type": "markdown",
   "metadata": {
    "id": "7AN1z2sKpx6M"
   },
   "source": [
    "#### 1. Explain the ML Model used and it's performance using Evaluation metric Score Chart."
   ]
  },
  {
   "cell_type": "code",
   "execution_count": null,
   "metadata": {
    "id": "xIY4lxxGpx6M"
   },
   "outputs": [],
   "source": [
    "# Visualizing evaluation Metric Score chart"
   ]
  },
  {
   "cell_type": "markdown",
   "metadata": {
    "id": "9PIHJqyupx6M"
   },
   "source": [
    "#### 2. Cross- Validation & Hyperparameter Tuning"
   ]
  },
  {
   "cell_type": "code",
   "execution_count": null,
   "metadata": {
    "id": "eSVXuaSKpx6M"
   },
   "outputs": [],
   "source": [
    "# ML Model - 3 Implementation with hyperparameter optimization techniques (i.e., GridSearch CV, RandomSearch CV, Bayesian Optimization etc.)\n",
    "\n",
    "# Fit the Algorithm\n",
    "\n",
    "# Predict on the model"
   ]
  },
  {
   "cell_type": "markdown",
   "metadata": {
    "id": "_-qAgymDpx6N"
   },
   "source": [
    "##### Which hyperparameter optimization technique have you used and why?"
   ]
  },
  {
   "cell_type": "markdown",
   "metadata": {
    "id": "lQMffxkwpx6N"
   },
   "source": [
    "Answer Here."
   ]
  },
  {
   "cell_type": "markdown",
   "metadata": {
    "id": "Z-hykwinpx6N"
   },
   "source": [
    "##### Have you seen any improvement? Note down the improvement with updates Evaluation metric Score Chart."
   ]
  },
  {
   "cell_type": "markdown",
   "metadata": {
    "id": "MzVzZC6opx6N"
   },
   "source": [
    "Answer Here."
   ]
  },
  {
   "cell_type": "markdown",
   "metadata": {
    "id": "h_CCil-SKHpo"
   },
   "source": [
    "### 1. Which Evaluation metrics did you consider for a positive business impact and why?"
   ]
  },
  {
   "cell_type": "markdown",
   "metadata": {
    "id": "jHVz9hHDKFms"
   },
   "source": [
    "Answer Here."
   ]
  },
  {
   "cell_type": "markdown",
   "metadata": {
    "id": "cBFFvTBNJzUa"
   },
   "source": [
    "### 2. Which ML model did you choose from the above created models as your final prediction model and why?"
   ]
  },
  {
   "cell_type": "markdown",
   "metadata": {
    "id": "6ksF5Q1LKTVm"
   },
   "source": [
    "Answer Here."
   ]
  },
  {
   "cell_type": "markdown",
   "metadata": {
    "id": "HvGl1hHyA_VK"
   },
   "source": [
    "### 3. Explain the model which you have used and the feature importance using any model explainability tool?"
   ]
  },
  {
   "cell_type": "markdown",
   "metadata": {
    "id": "YnvVTiIxBL-C"
   },
   "source": [
    "Answer Here."
   ]
  },
  {
   "cell_type": "markdown",
   "metadata": {
    "id": "EyNgTHvd2WFk"
   },
   "source": [
    "## ***8.*** ***Future Work (Optional)***"
   ]
  },
  {
   "cell_type": "markdown",
   "metadata": {
    "id": "KH5McJBi2d8v"
   },
   "source": [
    "### 1. Save the best performing ml model in a pickle file or joblib file format for deployment process.\n"
   ]
  },
  {
   "cell_type": "code",
   "execution_count": null,
   "metadata": {
    "id": "bQIANRl32f4J"
   },
   "outputs": [],
   "source": [
    "# Save the File"
   ]
  },
  {
   "cell_type": "markdown",
   "metadata": {
    "id": "iW_Lq9qf2h6X"
   },
   "source": [
    "### 2. Again Load the saved model file and try to predict unseen data for a sanity check.\n"
   ]
  },
  {
   "cell_type": "code",
   "execution_count": null,
   "metadata": {
    "id": "oEXk9ydD2nVC"
   },
   "outputs": [],
   "source": [
    "# Load the File and predict unseen data."
   ]
  },
  {
   "cell_type": "markdown",
   "metadata": {
    "id": "-Kee-DAl2viO"
   },
   "source": [
    "### ***Congrats! Your model is successfully created and ready for deployment on a live server for a real user interaction !!!***"
   ]
  },
  {
   "cell_type": "markdown",
   "metadata": {
    "id": "gCX9965dhzqZ"
   },
   "source": [
    "# **Conclusion**"
   ]
  },
  {
   "cell_type": "markdown",
   "metadata": {
    "id": "Fjb1IsQkh3yE"
   },
   "source": [
    "Write the conclusion here."
   ]
  },
  {
   "cell_type": "markdown",
   "metadata": {
    "id": "gIfDvo9L0UH2"
   },
   "source": [
    "### ***Hurrah! You have successfully completed your Machine Learning Capstone Project !!!***"
   ]
  }
 ],
 "metadata": {
  "colab": {
   "authorship_tag": "ABX9TyOeo+PWt+R5bUCtbj195tjB",
   "collapsed_sections": [
    "vncDsAP0Gaoa",
    "FJNUwmbgGyua",
    "w6K7xa23Elo4",
    "yQaldy8SH6Dl",
    "mDgbUHAGgjLW",
    "O_i_v8NEhb9l",
    "HhfV-JJviCcP",
    "Y3lxredqlCYt",
    "3RnN4peoiCZX",
    "x71ZqKXriCWQ",
    "7hBIi_osiCS2",
    "JlHwYmJAmNHm",
    "35m5QtbWiB9F",
    "PoPl-ycgm1ru",
    "H0kj-8xxnORC",
    "nA9Y7ga8ng1Z",
    "PBTbrJXOngz2",
    "u3PMJOP6ngxN",
    "dauF4eBmngu3",
    "bKJF3rekwFvQ",
    "MSa1f5Uengrz",
    "GF8Ens_Soomf",
    "0wOQAZs5pc--",
    "K5QZ13OEpz2H",
    "lQ7QKXXCp7Bj",
    "448CDAPjqfQr",
    "KSlN3yHqYklG",
    "t6dVpIINYklI",
    "ijmpgYnKYklI",
    "-JiQyfWJYklI",
    "EM7whBJCYoAo",
    "fge-S5ZAYoAp",
    "85gYPyotYoAp",
    "RoGjAbkUYoAp",
    "4Of9eVA-YrdM",
    "iky9q4vBYrdO",
    "F6T5p64dYrdO",
    "y-Ehk30pYrdP",
    "bamQiAODYuh1",
    "QHF8YVU7Yuh3",
    "GwzvFGzlYuh3",
    "qYpmQ266Yuh3",
    "OH-pJp9IphqM",
    "bbFf2-_FphqN",
    "_ouA3fa0phqN",
    "Seke61FWphqN",
    "PIIx-8_IphqN",
    "t27r6nlMphqO",
    "r2jJGEOYphqO",
    "b0JNsNcRphqO",
    "BZR9WyysphqO",
    "jj7wYXLtphqO",
    "eZrbJ2SmphqO",
    "rFu4xreNphqO",
    "YJ55k-q6phqO",
    "gCFgpxoyphqP",
    "OVtJsKN_phqQ",
    "lssrdh5qphqQ",
    "U2RJ9gkRphqQ",
    "1M8mcRywphqQ",
    "tgIPom80phqQ",
    "JMzcOPDDphqR",
    "x-EpHcCOp1ci",
    "X_VqEhTip1ck",
    "8zGJKyg5p1ck",
    "PVzmfK_Ep1ck",
    "n3dbpmDWp1ck",
    "ylSl6qgtp1ck",
    "ZWILFDl5p1ck",
    "M7G43BXep1ck",
    "Ag9LCva-p1cl",
    "E6MkPsBcp1cl",
    "2cELzS2fp1cl",
    "3MPXvC8up1cl",
    "NC_X3p0fY2L0",
    "UV0SzAkaZNRQ",
    "YPEH6qLeZNRQ",
    "q29F0dvdveiT",
    "EXh0U9oCveiU",
    "22aHeOlLveiV",
    "g-ATYxFrGrvw",
    "Yfr_Vlr8HBkt",
    "8yEUt7NnHlrM",
    "tEA2Xm5dHt1r",
    "I79__PHVH19G",
    "Ou-I18pAyIpj",
    "fF3858GYyt-u",
    "4_0_7-oCpUZd",
    "hwyV_J3ipUZe",
    "3yB-zSqbpUZe",
    "dEUvejAfpUZe",
    "Fd15vwWVpUZf",
    "bn_IUdTipZyH",
    "49K5P_iCpZyH",
    "Nff-vKELpZyI",
    "kLW572S8pZyI",
    "dWbDXHzopZyI",
    "yLjJCtPM0KBk",
    "xiyOF9F70UgQ",
    "7wuGOrhz0itI",
    "id1riN9m0vUs",
    "578E2V7j08f6",
    "89xtkJwZ18nB",
    "67NQN5KX2AMe",
    "Iwf50b-R2tYG",
    "GMQiZwjn3iu7",
    "WVIkgGqN3qsr",
    "XkPnILGE3zoT",
    "Hlsf0x5436Go",
    "mT9DMSJo4nBL",
    "c49ITxTc407N",
    "OeJFEK0N496M",
    "9ExmJH0g5HBk",
    "cJNqERVU536h",
    "k5UmGsbsOxih",
    "T0VqWOYE6DLQ",
    "qBMux9mC6MCf",
    "-oLEiFgy-5Pf",
    "C74aWNz2AliB",
    "2DejudWSA-a0",
    "pEMng2IbBLp7",
    "rAdphbQ9Bhjc",
    "TNVZ9zx19K6k",
    "nqoHp30x9hH9",
    "rMDnDkt2B6du",
    "yiiVWRdJDDil",
    "1UUpS68QDMuG",
    "kexQrXU-DjzY",
    "T5CmagL3EC8N",
    "BhH2vgX9EjGr",
    "qjKvONjwE8ra",
    "P1XJ9OREExlT",
    "VFOzZv6IFROw",
    "TIqpNgepFxVj",
    "VfCC591jGiD4",
    "OB4l2ZhMeS1U",
    "ArJBuiUVfxKd",
    "4qY1EAkEfxKe",
    "PiV4Ypx8fxKe",
    "TfvqoZmBfxKf",
    "dJ2tPlVmpsJ0",
    "JWYfwnehpsJ1",
    "-jK_YjpMpsJ2",
    "HAih1iBOpsJ2",
    "zVGeBEFhpsJ2",
    "bmKjuQ-FpsJ3",
    "Fze-IPXLpx6K",
    "7AN1z2sKpx6M",
    "9PIHJqyupx6M",
    "_-qAgymDpx6N",
    "Z-hykwinpx6N",
    "h_CCil-SKHpo",
    "cBFFvTBNJzUa",
    "HvGl1hHyA_VK",
    "EyNgTHvd2WFk",
    "KH5McJBi2d8v",
    "iW_Lq9qf2h6X",
    "-Kee-DAl2viO",
    "gCX9965dhzqZ",
    "gIfDvo9L0UH2"
   ],
   "private_outputs": true,
   "provenance": []
  },
  "kernelspec": {
   "display_name": "Python 3",
   "name": "python3"
  },
  "language_info": {
   "codemirror_mode": {
    "name": "ipython",
    "version": 3
   },
   "file_extension": ".py",
   "mimetype": "text/x-python",
   "name": "python",
   "nbconvert_exporter": "python",
   "pygments_lexer": "ipython3",
   "version": "3.9.13"
  }
 },
 "nbformat": 4,
 "nbformat_minor": 0
}
